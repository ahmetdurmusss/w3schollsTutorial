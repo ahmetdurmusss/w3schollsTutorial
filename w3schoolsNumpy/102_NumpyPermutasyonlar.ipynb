{
 "cells": [
  {
   "cell_type": "markdown",
   "metadata": {},
   "source": [
    "## Numpy Rastgele Permutasyonlar"
   ]
  },
  {
   "cell_type": "markdown",
   "metadata": {},
   "source": [
    "#### Elemanların Rastgele Permutasyonları\n",
    "Bir permütasyon, öğelerin bir düzenlemesini ifade eder. örneğin [3, 2, 1], [1, 2, 3]'ün bir permütasyonudur ve tersi de geçerlidir.\n",
    "NumPy Random modülü bunun için iki yöntem sunar: shuffle()ve permutation()."
   ]
  },
  {
   "cell_type": "markdown",
   "metadata": {},
   "source": [
    "#### Dizileri Karıştırma\n",
    "Shuffle, elemanların dizi içerisindeki yerleşimini yerinde (yani dizinin kendisinde) değiştirmek anlamına gelir."
   ]
  },
  {
   "cell_type": "code",
   "execution_count": 3,
   "metadata": {},
   "outputs": [
    {
     "name": "stdout",
     "output_type": "stream",
     "text": [
      "[2 1 4 3 5]\n"
     ]
    }
   ],
   "source": [
    "# ÖRNEK 1 : Dizinin elemanlarını rastgele karıştırma.\n",
    "\n",
    "from numpy import random\n",
    "import numpy as np\n",
    "\n",
    "arr = np.array([1, 2, 3, 4, 5])\n",
    "random.shuffle(arr) # diziyi karıştırır.shuffle() yöntemi orijinal dizide değişiklikler yapar.\n",
    "print(arr)"
   ]
  },
  {
   "cell_type": "markdown",
   "metadata": {},
   "source": [
    "#### Dizilerin Permutasyonunu Oluşturma"
   ]
  },
  {
   "cell_type": "code",
   "execution_count": 4,
   "metadata": {},
   "outputs": [
    {
     "name": "stdout",
     "output_type": "stream",
     "text": [
      "[1 5 4 3 2]\n"
     ]
    }
   ],
   "source": [
    "# ÖRNEK 2 : Dizinin elemanlarından rastgele bir permütasyon oluşturalım.\n",
    "\n",
    "from numpy import random\n",
    "import numpy as np\n",
    "arr = np.array([1, 2, 3, 4, 5])\n",
    "print(random.permutation(arr))\n",
    "\n",
    "# permütation() yöntemi, dizinin kopyasını döndürür ve orijinal dizide değişiklik yapmaz."
   ]
  }
 ],
 "metadata": {
  "kernelspec": {
   "display_name": "Python 3",
   "language": "python",
   "name": "python3"
  },
  "language_info": {
   "codemirror_mode": {
    "name": "ipython",
    "version": 3
   },
   "file_extension": ".py",
   "mimetype": "text/x-python",
   "name": "python",
   "nbconvert_exporter": "python",
   "pygments_lexer": "ipython3",
   "version": "3.11.4"
  }
 },
 "nbformat": 4,
 "nbformat_minor": 2
}
