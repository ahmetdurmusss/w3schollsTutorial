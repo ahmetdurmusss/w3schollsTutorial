{
 "cells": [
  {
   "cell_type": "markdown",
   "metadata": {},
   "source": [
    "## NumPy Veri Türleri"
   ]
  },
  {
   "cell_type": "markdown",
   "metadata": {},
   "source": [
    "#### Python'daki Veri Türleri\n",
    "Varsayılan olarak Python şu veri türlerine sahiptir:\n",
    "\n",
    "string  : Metin verilerini temsil etmek için kullanılır, metin tırnak işaretleri altında verilir.\n",
    "\n",
    "integer : Tamsayı sayıları temsil etmek için kullanılır.\n",
    "\n",
    "float   : Gerçek sayıları temsil etmek için kullanılır.\n",
    "\n",
    "boolean : Doğru veya Yanlışı temsil etmek için kullanılır.\n",
    "\n",
    "complex :Karmaşık sayıları temsil etmek için kullanılır."
   ]
  },
  {
   "cell_type": "markdown",
   "metadata": {},
   "source": [
    "#### Numpy'daki Veri Türleri\n",
    "Aşağıda NumPy'deki tüm veri türlerinin ve bunları temsil etmek için kullanılan karakterlerin bir listesi bulunmaktadır.\n",
    "\n",
    "i : integer\n",
    "\n",
    "b : boolean\n",
    "\n",
    "u : unsigned integer\n",
    "\n",
    "f : float\n",
    "\n",
    "c : complex float\n",
    "\n",
    "m : timedelta\n",
    "\n",
    "M : datetime\n",
    "\n",
    "O : object\n",
    "\n",
    "S : string"
   ]
  },
  {
   "cell_type": "markdown",
   "metadata": {},
   "source": [
    "#### Bir Dizinin Veri Türünü Kontrol Etme\n",
    "NumPy dizi nesnesi, dizinin veri türünü döndüren \" dtype \" adı verilen bir özelliğe sahiptir.\n"
   ]
  },
  {
   "cell_type": "code",
   "execution_count": 1,
   "metadata": {},
   "outputs": [
    {
     "name": "stdout",
     "output_type": "stream",
     "text": [
      "int32\n"
     ]
    }
   ],
   "source": [
    "# ÖRNEK 1 : Bir dizi nesnesinin veri türünü alın.\n",
    "\n",
    "import numpy as np\n",
    "\n",
    "arr = np.array([1, 2, 3, 4])\n",
    "\n",
    "print(arr.dtype)"
   ]
  },
  {
   "cell_type": "code",
   "execution_count": 2,
   "metadata": {},
   "outputs": [
    {
     "name": "stdout",
     "output_type": "stream",
     "text": [
      "<U6\n"
     ]
    }
   ],
   "source": [
    "# ÖRNEK 2 : Bir dizi nesnesinin veri türünü alın.\n",
    "\n",
    "import numpy as np\n",
    "\n",
    "arr = np.array(['apple', 'banana', 'cherry'])\n",
    "\n",
    "print(arr.dtype)"
   ]
  },
  {
   "cell_type": "markdown",
   "metadata": {},
   "source": [
    "#### Tanımlı Veri Türüne Sahip Diziler Oluşturma\n",
    "Diziler oluşturmak için array()'in dtype işlevini kullanırız; bu işlev isteğe bağlı bir argüman alabilir,dizi öğelerinin istenen veri türünü tanımlamamıza olanak tanır."
   ]
  },
  {
   "cell_type": "code",
   "execution_count": 3,
   "metadata": {},
   "outputs": [
    {
     "name": "stdout",
     "output_type": "stream",
     "text": [
      "[b'1' b'2' b'3' b'4']\n",
      "|S1\n"
     ]
    }
   ],
   "source": [
    "# ÖRNEK 3 : Veri türü dizesine sahip bir dizi oluşturun.\n",
    "\n",
    "import numpy as np\n",
    "\n",
    "arr = np.array([1, 2, 3, 4], dtype='S') # Girilen değerler integer olmasına rağmen veri tipi string olarak belirlenmiştir.\n",
    "\n",
    "print(arr)\n",
    "print(arr.dtype)"
   ]
  },
  {
   "cell_type": "code",
   "execution_count": 4,
   "metadata": {},
   "outputs": [
    {
     "ename": "ValueError",
     "evalue": "invalid literal for int() with base 10: 'a'",
     "output_type": "error",
     "traceback": [
      "\u001b[1;31m---------------------------------------------------------------------------\u001b[0m",
      "\u001b[1;31mValueError\u001b[0m                                Traceback (most recent call last)",
      "Cell \u001b[1;32mIn[4], line 5\u001b[0m\n\u001b[0;32m      2\u001b[0m \u001b[38;5;124;03m\"\"\"Öğelerin kullanılamayacağı bir tür verilirse NumPy, ValueError hatasını verir.\"\"\"\u001b[39;00m\n\u001b[0;32m      3\u001b[0m \u001b[38;5;28;01mimport\u001b[39;00m \u001b[38;5;21;01mnumpy\u001b[39;00m \u001b[38;5;28;01mas\u001b[39;00m \u001b[38;5;21;01mnp\u001b[39;00m\n\u001b[1;32m----> 5\u001b[0m arr \u001b[38;5;241m=\u001b[39m \u001b[43mnp\u001b[49m\u001b[38;5;241;43m.\u001b[39;49m\u001b[43marray\u001b[49m\u001b[43m(\u001b[49m\u001b[43m[\u001b[49m\u001b[38;5;124;43m'\u001b[39;49m\u001b[38;5;124;43ma\u001b[39;49m\u001b[38;5;124;43m'\u001b[39;49m\u001b[43m,\u001b[49m\u001b[43m \u001b[49m\u001b[38;5;124;43m'\u001b[39;49m\u001b[38;5;124;43m2\u001b[39;49m\u001b[38;5;124;43m'\u001b[39;49m\u001b[43m,\u001b[49m\u001b[43m \u001b[49m\u001b[38;5;124;43m'\u001b[39;49m\u001b[38;5;124;43m3\u001b[39;49m\u001b[38;5;124;43m'\u001b[39;49m\u001b[43m]\u001b[49m\u001b[43m,\u001b[49m\u001b[43m \u001b[49m\u001b[43mdtype\u001b[49m\u001b[38;5;241;43m=\u001b[39;49m\u001b[38;5;124;43m'\u001b[39;49m\u001b[38;5;124;43mi\u001b[39;49m\u001b[38;5;124;43m'\u001b[39;49m\u001b[43m)\u001b[49m\n",
      "\u001b[1;31mValueError\u001b[0m: invalid literal for int() with base 10: 'a'"
     ]
    }
   ],
   "source": [
    "# ÖNEMLİ : Ya Bir Değer Dönüştürülemiyorsa?\n",
    "\"\"\"Öğelerin kullanılamayacağı bir tür verilirse NumPy, ValueError hatasını verir.\"\"\"\n",
    "import numpy as np\n",
    "\n",
    "arr = np.array(['a', '2', '3'], dtype='i')"
   ]
  },
  {
   "cell_type": "markdown",
   "metadata": {},
   "source": [
    "#### Mevcut Dizilerdeki Veri Türünü Dönüştürme\n",
    "Mevcut bir dizinin veri türünü değiştirmenin en iyi yolu, astype() yöntemiyle dizinin bir kopyasını oluşturmaktır. astype() işlevi dizinin bir kopyasını oluşturur ve veri türünü parametre olarak belirtmenize olanak tanır.Veri türü, kayan nokta için 'f', tam sayı için 'i' vb. gibi bir dize kullanılarak belirtilebilir veya kayan nokta için float ve tam sayı için int gibi doğrudan veri türünü kullanabilirsiniz.\n",
    "\n"
   ]
  },
  {
   "cell_type": "code",
   "execution_count": 6,
   "metadata": {},
   "outputs": [
    {
     "name": "stdout",
     "output_type": "stream",
     "text": [
      "[1 2 3]\n",
      "float64\n",
      "int32\n"
     ]
    }
   ],
   "source": [
    "# ÖRNEK 4: Parametre değeri olarak 'i'yi kullanarak veri türünü kayan noktadan tamsayıya değiştirelim.\n",
    "\n",
    "import numpy as np\n",
    "\n",
    "arr = np.array([1.1, 2.1, 3.1])\n",
    "\n",
    "newarr = arr.astype('i')\n",
    "\n",
    "print(newarr)\n",
    "print(arr.dtype)\n",
    "print(newarr.dtype)"
   ]
  },
  {
   "cell_type": "code",
   "execution_count": 7,
   "metadata": {},
   "outputs": [
    {
     "name": "stdout",
     "output_type": "stream",
     "text": [
      "[1 2 3]\n",
      "float64\n",
      "int32\n"
     ]
    }
   ],
   "source": [
    "# ÖRNEK 5: Parametre değeri olarak int'i kullanarak veri türünü kayan noktadan tam sayıya değiştirelim.\n",
    "\n",
    "import numpy as np\n",
    "\n",
    "arr = np.array([1.1, 2.1, 3.1])\n",
    "\n",
    "newarr = arr.astype(int)\n",
    "\n",
    "print(newarr)\n",
    "print(arr.dtype)\n",
    "print(newarr.dtype)"
   ]
  },
  {
   "cell_type": "code",
   "execution_count": 8,
   "metadata": {},
   "outputs": [
    {
     "name": "stdout",
     "output_type": "stream",
     "text": [
      "[ True False  True]\n",
      "int32\n",
      "bool\n"
     ]
    }
   ],
   "source": [
    "# ÖRNEK 6: Veri türünü tamsayıdan boole olarak değiştirelim.\n",
    "\n",
    "import numpy as np\n",
    "\n",
    "arr = np.array([1, 0, 3])\n",
    "\n",
    "newarr = arr.astype(bool)\n",
    "\n",
    "print(newarr)\n",
    "print(arr.dtype)\n",
    "print(newarr.dtype)"
   ]
  }
 ],
 "metadata": {
  "kernelspec": {
   "display_name": "Python 3",
   "language": "python",
   "name": "python3"
  },
  "language_info": {
   "codemirror_mode": {
    "name": "ipython",
    "version": 3
   },
   "file_extension": ".py",
   "mimetype": "text/x-python",
   "name": "python",
   "nbconvert_exporter": "python",
   "pygments_lexer": "ipython3",
   "version": "3.11.4"
  }
 },
 "nbformat": 4,
 "nbformat_minor": 2
}
