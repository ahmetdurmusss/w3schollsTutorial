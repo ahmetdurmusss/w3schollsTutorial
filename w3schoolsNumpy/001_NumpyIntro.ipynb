{
 "cells": [
  {
   "cell_type": "markdown",
   "metadata": {},
   "source": [
    "## NumPy ' ı Tanıyalım\n"
   ]
  },
  {
   "cell_type": "markdown",
   "metadata": {},
   "source": [
    "### NumPy Nedir?\n",
    "\n",
    "NumPy, dizilerle çalışmak için kullanılan bir Python kütüphanesidir.Ayrıca doğrusal cebir, fourier dönüşümü ve matrisler alanında çalışmaya yönelik fonksiyonları da vardır.NumPy, 2005 yılında Travis Oliphant tarafından yaratıldı. Açık kaynaklı bir projedir ve özgürce kullanabilirsiniz."
   ]
  },
  {
   "cell_type": "markdown",
   "metadata": {},
   "source": [
    "### Neden Numpy .. ?\n",
    "\n",
    "Python'da dizi işlevi gören listeler var, ancak bunların işlenmesi yavaştır.NumPy, geleneksel Python listelerinden 50 kata kadar daha hızlı bir dizi nesnesi sağlamayı amaçlamaktadır."
   ]
  },
  {
   "cell_type": "markdown",
   "metadata": {},
   "source": [
    "### NumPy Listelerden Neden Daha Hızlıdır? \n",
    "NumPy dizileri, listelerin aksine bellekte tek bir sürekli yerde saklanır, böylece işlemler bunlara çok verimli bir şekilde erişebilir ve bunları işleyebilir.Bu işleve bilgisayar biliminde referans yerelliği denir. NumPy'nin listelerden daha hızlı olmasının temel nedeni budur. Ayrıca en son CPU mimarileriyle çalışmak üzere optimize edilmiştir."
   ]
  },
  {
   "cell_type": "markdown",
   "metadata": {},
   "source": [
    "### NumPy Kurulumu\n",
    "\n",
    "Bir sistemde Python veya PIP yüklü ise ;\n",
    "\n",
    "\"C:\\Users\\user> pip install numpy\"\n",
    "\n",
    "komutu ile numpy kütüphanesini yükleyebilirsiniz."
   ]
  },
  {
   "cell_type": "code",
   "execution_count": 1,
   "metadata": {},
   "outputs": [
    {
     "name": "stdout",
     "output_type": "stream",
     "text": [
      "Requirement already satisfied: numpy in c:\\users\\polat\\appdata\\local\\programs\\python\\python311\\lib\\site-packages (1.26.4)\n"
     ]
    },
    {
     "name": "stderr",
     "output_type": "stream",
     "text": [
      "\n",
      "[notice] A new release of pip is available: 24.0 -> 24.1.2\n",
      "[notice] To update, run: python.exe -m pip install --upgrade pip\n"
     ]
    }
   ],
   "source": [
    "!pip install numpy"
   ]
  },
  {
   "cell_type": "code",
   "execution_count": 2,
   "metadata": {},
   "outputs": [
    {
     "name": "stdout",
     "output_type": "stream",
     "text": [
      "Numpy Kullanılır Durumda...\n"
     ]
    }
   ],
   "source": [
    "# Bu işlemden sonra \"numpy\" kütüphanesini kullanabiliriz.\n",
    "import numpy \n",
    "\n",
    "print(\"Numpy Kullanılır Durumda...\")"
   ]
  },
  {
   "cell_type": "code",
   "execution_count": 3,
   "metadata": {},
   "outputs": [
    {
     "name": "stdout",
     "output_type": "stream",
     "text": [
      "[1 2 3 4 5]\n"
     ]
    }
   ],
   "source": [
    "# ÖRNEK 1 : \n",
    "\n",
    "import numpy\n",
    "\n",
    "arr = numpy.array([1, 2, 3, 4, 5])\n",
    "print(arr)"
   ]
  },
  {
   "cell_type": "code",
   "execution_count": 5,
   "metadata": {},
   "outputs": [
    {
     "name": "stdout",
     "output_type": "stream",
     "text": [
      "[1 2 3 4 5]\n"
     ]
    }
   ],
   "source": [
    "# ÖRNEK 2 :\n",
    "import numpy as np # np kısaltması ile kullanımı\n",
    "\n",
    "arr = np.array([1, 2, 3, 4, 5])\n",
    "\n",
    "print(arr)"
   ]
  },
  {
   "cell_type": "code",
   "execution_count": 6,
   "metadata": {},
   "outputs": [
    {
     "name": "stdout",
     "output_type": "stream",
     "text": [
      "1.26.4\n"
     ]
    }
   ],
   "source": [
    "# ÖRNEK 3 : NUMOY SÜRÜMÜNÜ KONTROL ETME\n",
    "import numpy as np\n",
    "\n",
    "print(np.__version__)"
   ]
  },
  {
   "cell_type": "code",
   "execution_count": 1,
   "metadata": {},
   "outputs": [
    {
     "data": {
      "text/plain": [
       "array([ 5, 10, 15, 20, 25])"
      ]
     },
     "execution_count": 1,
     "metadata": {},
     "output_type": "execute_result"
    }
   ],
   "source": [
    "import numpy as np\n",
    "5*np.array([1, 2, 3, 4, 5])"
   ]
  },
  {
   "cell_type": "code",
   "execution_count": null,
   "metadata": {},
   "outputs": [],
   "source": []
  }
 ],
 "metadata": {
  "kernelspec": {
   "display_name": "Python 3",
   "language": "python",
   "name": "python3"
  },
  "language_info": {
   "codemirror_mode": {
    "name": "ipython",
    "version": 3
   },
   "file_extension": ".py",
   "mimetype": "text/x-python",
   "name": "python",
   "nbconvert_exporter": "python",
   "pygments_lexer": "ipython3",
   "version": "3.11.4"
  }
 },
 "nbformat": 4,
 "nbformat_minor": 2
}
