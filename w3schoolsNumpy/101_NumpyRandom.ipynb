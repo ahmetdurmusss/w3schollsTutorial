{
 "cells": [
  {
   "cell_type": "markdown",
   "metadata": {},
   "source": [
    "## Numpy Random (Rastgele) Sayılar"
   ]
  },
  {
   "cell_type": "markdown",
   "metadata": {},
   "source": [
    "#### Rastgele Sayılar \n",
    "Rastgele sayı her seferinde farklı bir sayı anlamına GELMEZ. Rastgele mantıksal olarak tahmin edilemeyen bir şey anlamına gelir."
   ]
  },
  {
   "cell_type": "markdown",
   "metadata": {},
   "source": [
    "### Sahte Rastgele ve Gerçek Rastgele\n",
    "Bilgisayarlar programlar üzerinde çalışır ve programlar kesin talimatlar kümesidir. Bu da rastgele bir sayı üretmek için bir algoritmanın da olması gerektiği anlamına gelir.\n",
    "\n",
    "Eğer rastgele sayı üreten bir program varsa bu sayı tahmin edilebilir, dolayısıyla gerçek anlamda rastgele değildir.\n",
    "\n",
    "Bir üretim algoritması ile üretilen rastgele sayılara yalancı rastgele denir .\n",
    "\n",
    "Gerçekten rastgele sayılar üretebilir miyiz?\n",
    "\n",
    "Evet. Bilgisayarlarımızda gerçekten rastgele bir sayı üretmek için rastgele verileri bazı dış kaynaklardan almamız gerekir. Bu dış kaynak genellikle tuş vuruşlarımız, fare hareketlerimiz, ağdaki veriler vb.'dir.\n",
    "\n",
    "Güvenlikle ilgili olmadığı (örneğin şifreleme anahtarları) veya uygulama temeli rastgelelik olmadığı (örneğin Dijital rulet çarkları) sürece gerçekten rastgele sayılara ihtiyacımız yoktur.\n",
    "\n",
    "Bu derste sözde rastgele sayılar kullanacağız."
   ]
  },
  {
   "cell_type": "code",
   "execution_count": 1,
   "metadata": {},
   "outputs": [
    {
     "name": "stdout",
     "output_type": "stream",
     "text": [
      "54\n"
     ]
    }
   ],
   "source": [
    "# RASTGELE SAYI ÜRETME\n",
    "\n",
    "# ÖRNEK 1 : 0 ile 100 arasında rastgele bir tam sayı üretmek.\n",
    "\n",
    "from numpy import random\n",
    "\n",
    "x = random.randint(100) # 0 ile 100 arasında rastgele bir \" tam sayı \" üretir.\n",
    "\n",
    "print(x)"
   ]
  },
  {
   "cell_type": "code",
   "execution_count": 2,
   "metadata": {},
   "outputs": [
    {
     "name": "stdout",
     "output_type": "stream",
     "text": [
      "0.8490818401190889\n"
     ]
    }
   ],
   "source": [
    "# ÖRNEK 2 : 0 ile 1 arasında rastgele bir float üretmek.\n",
    "from numpy import random\n",
    "\n",
    "x = random.rand()\n",
    "\n",
    "print(x)"
   ]
  },
  {
   "cell_type": "code",
   "execution_count": 3,
   "metadata": {},
   "outputs": [
    {
     "name": "stdout",
     "output_type": "stream",
     "text": [
      "[48 98 75 74  7]\n"
     ]
    }
   ],
   "source": [
    "# RASTGELE SAYI DİZİLERİ OLUŞTURMA\n",
    "\n",
    "# ÖRNEK 3 : 0 ile 100 arasında 5 rastgele tam sayı içeren 1 boyutlu bir dizi oluşturmak.\n",
    "from numpy import random\n",
    "\n",
    "x=random.randint(100, size=(5))\n",
    "\n",
    "print(x)"
   ]
  },
  {
   "cell_type": "code",
   "execution_count": 5,
   "metadata": {},
   "outputs": [
    {
     "name": "stdout",
     "output_type": "stream",
     "text": [
      "[[62 89 15 85 68]\n",
      " [95 69 15 57 42]\n",
      " [27 34 31  7 67]]\n"
     ]
    }
   ],
   "source": [
    "# ÖRNEK 4 : 0 ile 100 arasında 5 rastgele tam sayı içeren,3 satırdan oluşan 2 boyutlu bir dizi oluşturalım.\n",
    "from numpy import random\n",
    "\n",
    "x = random.randint(100, size=(3, 5))\n",
    "\n",
    "print(x)"
   ]
  },
  {
   "cell_type": "code",
   "execution_count": 6,
   "metadata": {},
   "outputs": [
    {
     "name": "stdout",
     "output_type": "stream",
     "text": [
      "[0.59631093 0.7947997  0.91314566 0.31531792 0.17796023]\n"
     ]
    }
   ],
   "source": [
    "# ÖRNEK 5 : 0 ile 100 arasında float sayılar içeren 1 boyutlu bir dizi oluşturalım.\n",
    "from numpy import random\n",
    "\n",
    "x = random.rand(5)\n",
    "\n",
    "print(x)"
   ]
  },
  {
   "cell_type": "code",
   "execution_count": 7,
   "metadata": {},
   "outputs": [
    {
     "name": "stdout",
     "output_type": "stream",
     "text": [
      "[[0.2450057  0.54754688 0.36076424 0.83850315 0.80975053]\n",
      " [0.0886377  0.44365196 0.86961562 0.5326727  0.54752061]\n",
      " [0.10839655 0.63726587 0.74815192 0.14555166 0.22760822]]\n"
     ]
    }
   ],
   "source": [
    "# ÖRNEK 6 : Her satırı 5 rastgele ondalıklı sayı (float) içeren 3 satırlı 2 boyutlu bir dizi oluşturalım.\n",
    "\n",
    "from numpy import random\n",
    "\n",
    "x = random.rand(3, 5)\n",
    "\n",
    "print(x)"
   ]
  },
  {
   "cell_type": "markdown",
   "metadata": {},
   "source": [
    "#### Diziden Rastgele Sayı Oluşturma\n",
    "choice() yöntemi, bir dizisinden rastgele bir değer oluşturmanıza olanak tanır. Parametre olarak bir diziyi alır ve değerlerden birini rastgele döndürür."
   ]
  },
  {
   "cell_type": "code",
   "execution_count": 8,
   "metadata": {},
   "outputs": [
    {
     "name": "stdout",
     "output_type": "stream",
     "text": [
      "9\n"
     ]
    }
   ],
   "source": [
    "# ÖRNEK 7 : Bir dizideki değerlerden birini döndürür.\n",
    "\n",
    "from numpy import random\n",
    "\n",
    "x = random.choice([3, 5, 7, 9])\n",
    "\n",
    "print(x)"
   ]
  },
  {
   "cell_type": "code",
   "execution_count": 14,
   "metadata": {},
   "outputs": [
    {
     "name": "stdout",
     "output_type": "stream",
     "text": [
      "[[5 5 3 9 5]\n",
      " [9 7 9 9 9]\n",
      " [9 9 9 5 5]]\n"
     ]
    }
   ],
   "source": [
    "# ÖRNEK 8 : Bir diziden rastele değerlerle 2 boyutlu bir dizi oluşturalım.\n",
    "from numpy import random\n",
    "\n",
    "x = random.choice([3, 5, 7, 9], size=(3, 5))\n",
    "\n",
    "print(x)"
   ]
  },
  {
   "cell_type": "markdown",
   "metadata": {},
   "source": [
    "#### Rastgele Veri Dağıtımı\n"
   ]
  },
  {
   "cell_type": "code",
   "execution_count": 2,
   "metadata": {},
   "outputs": [
    {
     "data": {
      "text/plain": [
       "'\\nVERİ DAĞITIMI : Tüm olası değerlerin ve her değerin ne sıklıkla meydana geldiğinin bir listesidir.\\n                İstatistik ve veri bilimi ile çalışırken bu tür listeler önemlidir.\\n                Random modülü, rastgele oluşturulmuş veri dağılımlarını döndüren yöntemler sunar.\\n'"
      ]
     },
     "execution_count": 2,
     "metadata": {},
     "output_type": "execute_result"
    }
   ],
   "source": [
    "\"\"\"\n",
    "VERİ DAĞITIMI : Tüm olası değerlerin ve her değerin ne sıklıkla meydana geldiğinin bir listesidir.\n",
    "                İstatistik ve veri bilimi ile çalışırken bu tür listeler önemlidir.\n",
    "                Random modülü, rastgele oluşturulmuş veri dağılımlarını döndüren yöntemler sunar.\n",
    "\"\"\""
   ]
  },
  {
   "cell_type": "code",
   "execution_count": 6,
   "metadata": {},
   "outputs": [
    {
     "name": "stdout",
     "output_type": "stream",
     "text": [
      "[7 7 7 7 5 7 5 5 7 7 5 7 3 3 7 7 5 7 7 7 7 3 5 5 5 7 7 7 5 5 7 5 7 7 7 5 3\n",
      " 7 7 3 5 7 7 5 7 5 5 7 7 7 7 3 5 5 5 7 7 7 3 7 7 7 5 5 7 5 7 5 7 5 7 5 7 7\n",
      " 7 7 7 5 7 3 3 5 7 5 5 3 5 7 7 7 7 7 3 5 5 7 7 5 7 7]\n"
     ]
    }
   ],
   "source": [
    "# RASTGELE DAĞILIM : Rastgele dağılım, belirli bir olasılık yoğunluk fonksiyonunu izleyen rastgele sayılar kümesidir .\n",
    "\n",
    "# ÖRNEK 9 \n",
    "\"\"\"\n",
    "Her değerin 3, 5, 7 veya 9 olması gereken, 100 değer içeren 1 boyutlu bir dizi oluşturun.\n",
    "Değerin 3 olma olasılığı 0,1 olarak ayarlayın.\n",
    "Değerin 5 olma olasılığı 0,3 olarak ayarlayın.\n",
    "Değerin 7 olma olasılığı 0,6 olarak ayarlayın.\n",
    "Değerin 9 olma olasılığı 0 olarak ayarlayın.\n",
    "\"\"\"\n",
    "\n",
    "from numpy import random\n",
    "x = random.choice([3, 5, 7, 9], p=[0.1, 0.3, 0.6, 0.0], size=(100)) # Tüm olasılık sayılarının toplamı 1 olmalıdır.\n",
    "print(x)\n"
   ]
  },
  {
   "cell_type": "code",
   "execution_count": 7,
   "metadata": {},
   "outputs": [
    {
     "name": "stdout",
     "output_type": "stream",
     "text": [
      "[[3 5 5 5 5]\n",
      " [7 7 7 7 7]\n",
      " [5 7 5 7 7]]\n"
     ]
    }
   ],
   "source": [
    "# ÖRNEK 10 : Yukarıdaki örnekle aynı, ancak her biri 5 değer içeren 3 satırdan oluşan 2 boyutlu bir dizi döndürüyor.\n",
    "\n",
    "from numpy import random\n",
    "x = random.choice([3, 5, 7, 9], p=[0.1, 0.3, 0.6, 0.0], size=(3, 5))\n",
    "print(x)"
   ]
  },
  {
   "cell_type": "code",
   "execution_count": null,
   "metadata": {},
   "outputs": [],
   "source": []
  }
 ],
 "metadata": {
  "kernelspec": {
   "display_name": "Python 3",
   "language": "python",
   "name": "python3"
  },
  "language_info": {
   "codemirror_mode": {
    "name": "ipython",
    "version": 3
   },
   "file_extension": ".py",
   "mimetype": "text/x-python",
   "name": "python",
   "nbconvert_exporter": "python",
   "pygments_lexer": "ipython3",
   "version": "3.11.4"
  }
 },
 "nbformat": 4,
 "nbformat_minor": 2
}
