{
 "cells": [
  {
   "cell_type": "markdown",
   "metadata": {},
   "source": [
    "## Numpy Dizileri Filtreleme"
   ]
  },
  {
   "cell_type": "markdown",
   "metadata": {},
   "source": [
    "#### Dizileri Filtreleme\n",
    "Mevcut bir diziden bazı elemanları alıp, bu elemanlardan yeni bir dizi oluşturmaya filtreleme denir.NumPy'de bir diziyi, bir Boole indeks listesi kullanarak filtrelersiniz. Bir indeksteki değer, söz konusu öğenin filtrelenmiş dizide yer aldığını gösteriyorsa \" True() \", söz konusu indeksteki değer \" False() \", söz konusu öğenin filtrelenmiş diziden hariç tutulduğunu gösterir."
   ]
  },
  {
   "cell_type": "code",
   "execution_count": 1,
   "metadata": {},
   "outputs": [
    {
     "name": "stdout",
     "output_type": "stream",
     "text": [
      "[41 43]\n"
     ]
    }
   ],
   "source": [
    "# ÖRNEK 1 : 0 ve 2 indeksindeki elemanlardan bir dizi oluşturun:\n",
    "import numpy as np\n",
    "\n",
    "arr = np.array([41, 42, 43, 44])\n",
    "\n",
    "x = [True, False, True, False]\n",
    "\n",
    "newarr = arr[x]\n",
    "\n",
    "print(newarr)\n"
   ]
  },
  {
   "cell_type": "markdown",
   "metadata": {},
   "source": [
    "#### Filtre Dizisi Oluşturma\n",
    "Yukarıdaki örnekte True ve False değerlerini sabit kodladık, ancak yaygın kullanım, koşullara dayalı bir filtre dizisi oluşturmaktır."
   ]
  },
  {
   "cell_type": "code",
   "execution_count": 3,
   "metadata": {},
   "outputs": [
    {
     "name": "stdout",
     "output_type": "stream",
     "text": [
      "[False, False, True, True]\n",
      "[43 44]\n"
     ]
    }
   ],
   "source": [
    "# ÖRNEK 2 : Yalnızca 42'den büyük değerleri döndürecek bir filtre dizisi oluşturalım.\n",
    "import numpy as np\n",
    "\n",
    "arr = np.array([41, 42, 43, 44])\n",
    "\n",
    "\n",
    "filter_arr = [] # boş bir liste oluşturuyoruz\n",
    "\n",
    "\n",
    "for element in arr:\n",
    "  if element > 42:\n",
    "    filter_arr.append(True) # 42'den büyükse True ekliyoruz\n",
    "  else:\n",
    "    filter_arr.append(False) # 42'den küçükse False ekliyoruz\n",
    "\n",
    "newarr = arr[filter_arr]\n",
    "\n",
    "print(filter_arr)\n",
    "print(newarr)"
   ]
  },
  {
   "cell_type": "code",
   "execution_count": 4,
   "metadata": {},
   "outputs": [
    {
     "name": "stdout",
     "output_type": "stream",
     "text": [
      "[False, True, False, True, False, True, False]\n",
      "[2 4 6]\n"
     ]
    }
   ],
   "source": [
    "# ÖRNEK 3 : Orijinal diziden yalnızca çift elemanları döndürecek bir filtre dizisi oluşturalım.\n",
    "\n",
    "import numpy as np\n",
    "\n",
    "arr = np.array([1, 2, 3, 4, 5, 6, 7])\n",
    "\n",
    "filter_arr = []\n",
    "\n",
    "for element in arr:  \n",
    "  if element % 2 == 0: # çift sayıları buluyoruz\n",
    "    filter_arr.append(True)\n",
    "  else: \n",
    "    filter_arr.append(False)\n",
    "\n",
    "newarr = arr[filter_arr]\n",
    "\n",
    "print(filter_arr)\n",
    "print(newarr)"
   ]
  },
  {
   "cell_type": "code",
   "execution_count": 5,
   "metadata": {},
   "outputs": [
    {
     "name": "stdout",
     "output_type": "stream",
     "text": [
      "[False False  True  True]\n",
      "[43 44]\n"
     ]
    }
   ],
   "source": [
    "# ÖRNEK 4 : Yalnızca 42'den büyük değerleri döndürecek bir filtre dizisi oluşturalım.\n",
    "import numpy as np\n",
    "\n",
    "arr = np.array([41, 42, 43, 44])\n",
    "\n",
    "filter_arr = arr > 42\n",
    "\n",
    "newarr = arr[filter_arr]\n",
    "\n",
    "print(filter_arr)\n",
    "print(newarr)\n"
   ]
  },
  {
   "cell_type": "code",
   "execution_count": 6,
   "metadata": {},
   "outputs": [
    {
     "name": "stdout",
     "output_type": "stream",
     "text": [
      "[False  True False  True False  True False]\n",
      "[2 4 6]\n"
     ]
    }
   ],
   "source": [
    "# ÖRNEK 5 : Yalnızca çift elemanları döndürecek bir filtre dizisi oluşturalım.\n",
    "import numpy as np\n",
    "\n",
    "arr = np.array([1, 2, 3, 4, 5, 6, 7])\n",
    "\n",
    "filter_arr = arr % 2 == 0\n",
    "\n",
    "newarr = arr[filter_arr]\n",
    "\n",
    "print(filter_arr)\n",
    "print(newarr)"
   ]
  }
 ],
 "metadata": {
  "kernelspec": {
   "display_name": "Python 3",
   "language": "python",
   "name": "python3"
  },
  "language_info": {
   "codemirror_mode": {
    "name": "ipython",
    "version": 3
   },
   "file_extension": ".py",
   "mimetype": "text/x-python",
   "name": "python",
   "nbconvert_exporter": "python",
   "pygments_lexer": "ipython3",
   "version": "3.11.4"
  }
 },
 "nbformat": 4,
 "nbformat_minor": 2
}
