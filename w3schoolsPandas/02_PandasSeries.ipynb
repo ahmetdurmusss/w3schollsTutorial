{
 "cells": [
  {
   "cell_type": "markdown",
   "metadata": {},
   "source": [
    "## Seri Nedir ?\n",
    "\n",
    "Pandas serisi bir tablodaki sütun gibidir. Diğer bir deyişle, her türden veriyi tutan tek boyutlu bir dizidir."
   ]
  },
  {
   "cell_type": "code",
   "execution_count": 1,
   "metadata": {},
   "outputs": [
    {
     "name": "stdout",
     "output_type": "stream",
     "text": [
      "0    10\n",
      "1    20\n",
      "2    30\n",
      "3    40\n",
      "4    50\n",
      "dtype: int64\n"
     ]
    }
   ],
   "source": [
    "# ÖRNEK 1 : Bir diziyi, pandas serisine dönüştürme\n",
    "\n",
    "import pandas as pd\n",
    "\n",
    "# Dizi oluştur\n",
    "dizi = [10, 20, 30, 40, 50]\n",
    "\n",
    "# Diziyi pandas serisine dönüştür\n",
    "seri = pd.Series(dizi)\n",
    "\n",
    "print(seri)"
   ]
  },
  {
   "cell_type": "markdown",
   "metadata": {},
   "source": [
    "#### Etiketler (Labels - Index)\n",
    "\n",
    "Eğer hiçbir şey belirtilmezse değerler dizin numaralarıyla etiketlenir. İlk değerin indeksi 0, ikinci değerin indeksi 1 vb. Bu etiket belirli bir değere erişmek için kullanılabilir."
   ]
  },
  {
   "cell_type": "code",
   "execution_count": 2,
   "metadata": {},
   "outputs": [
    {
     "data": {
      "text/plain": [
       "10"
      ]
     },
     "execution_count": 2,
     "metadata": {},
     "output_type": "execute_result"
    }
   ],
   "source": [
    "# ÖRNEK 2 : Serinin ilk değerine erişme\n",
    "\n",
    "seri[0]"
   ]
  },
  {
   "cell_type": "markdown",
   "metadata": {},
   "source": [
    "#### Etiketleri Oluşturalım\n",
    "\n",
    "\" indeks \" argümanı ile kendi etiketlerinizi adlandırabilirsiniz."
   ]
  },
  {
   "cell_type": "code",
   "execution_count": 3,
   "metadata": {},
   "outputs": [
    {
     "name": "stdout",
     "output_type": "stream",
     "text": [
      "x    1\n",
      "y    7\n",
      "z    2\n",
      "dtype: int64\n"
     ]
    }
   ],
   "source": [
    "# ÖRNEK 3 : Kendi etiketlerimizi tanımladığımız serimizi oluşturalım.\n",
    "\n",
    "import pandas as pd\n",
    "\n",
    "a = [1,7,2]\n",
    "\n",
    "myVar  = pd.Series(a, index = ['x', 'y', 'z'])\n",
    "\n",
    "print(myVar)"
   ]
  },
  {
   "cell_type": "code",
   "execution_count": 5,
   "metadata": {},
   "outputs": [
    {
     "name": "stdout",
     "output_type": "stream",
     "text": [
      "7\n"
     ]
    }
   ],
   "source": [
    "# NOT : Etiketler oluşturduğunuzda etikete başvurarak bir öğeye erişebilirsiniz.\n",
    "print(myVar[\"y\"])"
   ]
  },
  {
   "cell_type": "markdown",
   "metadata": {},
   "source": [
    "#### Anahtar/Değer Nesneleri ile Seriler oluşturalım.\n",
    "Dizi oluştururken sözlük gibi bir anahtar/değer nesnesini de kullanabilirsiniz.\n"
   ]
  },
  {
   "cell_type": "code",
   "execution_count": 7,
   "metadata": {},
   "outputs": [
    {
     "name": "stdout",
     "output_type": "stream",
     "text": [
      "day1    420\n",
      "day2    380\n",
      "day3    390\n",
      "dtype: int64\n"
     ]
    }
   ],
   "source": [
    "# ÖRNEK 4 : Bir sözlüğü pandas serisine dönüştürme. Sözlüğün anahtarları etiketlere dönüşür.\n",
    "\n",
    "import pandas as pd\n",
    "\n",
    "calories = {\"day1\": 420, \"day2\": 380, \"day3\": 390}\n",
    "\n",
    "myvar = pd.Series(calories)\n",
    "\n",
    "print(myvar)"
   ]
  },
  {
   "cell_type": "code",
   "execution_count": 8,
   "metadata": {},
   "outputs": [
    {
     "name": "stdout",
     "output_type": "stream",
     "text": [
      "day1    420\n",
      "day2    380\n",
      "dtype: int64\n"
     ]
    }
   ],
   "source": [
    "# ÖRNEK 5 : Serinin bir bölümünü seçme ve seçilenden yeni bir seri oluşturma\n",
    "\n",
    "import pandas as pd\n",
    "\n",
    "calories = {\"day1\": 420, \"day2\": 380, \"day3\": 390}\n",
    "\n",
    "myvar = pd.Series(calories, index = [\"day1\", \"day2\"])\n",
    "\n",
    "print(myvar)\n"
   ]
  },
  {
   "cell_type": "markdown",
   "metadata": {},
   "source": [
    "#### DataFrames\n",
    "\n",
    "Pandas veri kümeleri genellikle DataFrames adı verilen çok boyutlu tablolardır. Seri bir sütun gibidir, DataFrame ise tablonun tamamıdır."
   ]
  },
  {
   "cell_type": "code",
   "execution_count": 9,
   "metadata": {},
   "outputs": [
    {
     "name": "stdout",
     "output_type": "stream",
     "text": [
      "   calories  duration\n",
      "0       420        50\n",
      "1       380        40\n",
      "2       390        45\n"
     ]
    }
   ],
   "source": [
    "# ÖRNEK 6 : İki Seriden bir DataFrame oluşturalım.\n",
    "\n",
    "import pandas as pd\n",
    "\n",
    "data = {\n",
    "  \"calories\": [420, 380, 390],\n",
    "  \"duration\": [50, 40, 45]\n",
    "}\n",
    "\n",
    "myvar = pd.DataFrame(data)\n",
    "\n",
    "print(myvar)"
   ]
  }
 ],
 "metadata": {
  "kernelspec": {
   "display_name": "Python 3",
   "language": "python",
   "name": "python3"
  },
  "language_info": {
   "codemirror_mode": {
    "name": "ipython",
    "version": 3
   },
   "file_extension": ".py",
   "mimetype": "text/x-python",
   "name": "python",
   "nbconvert_exporter": "python",
   "pygments_lexer": "ipython3",
   "version": "3.11.4"
  }
 },
 "nbformat": 4,
 "nbformat_minor": 2
}
