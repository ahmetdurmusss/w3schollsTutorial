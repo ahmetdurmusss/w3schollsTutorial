{
 "cells": [
  {
   "cell_type": "markdown",
   "metadata": {},
   "source": [
    "## Veri Korelasyonları"
   ]
  },
  {
   "cell_type": "markdown",
   "metadata": {},
   "source": [
    "##### İlişkileri Bulma :\n",
    "Pandas modülünün harika bir yönü corr() yöntemidir. corr() yöntemi, veri kümenizdeki her sütun arasındaki ilişkiyi hesaplar."
   ]
  },
  {
   "cell_type": "code",
   "execution_count": 2,
   "metadata": {},
   "outputs": [
    {
     "name": "stdout",
     "output_type": "stream",
     "text": [
      "          Duration     Pulse  Maxpulse  Calories\n",
      "Duration  1.000000 -0.155408  0.009403  0.922717\n",
      "Pulse    -0.155408  1.000000  0.786535  0.025121\n",
      "Maxpulse  0.009403  0.786535  1.000000  0.203813\n",
      "Calories  0.922717  0.025121  0.203813  1.000000\n"
     ]
    }
   ],
   "source": [
    "# ÖRNEK 1 : Sütunlar arasındaki ilişkiyi göster\n",
    "\n",
    "import pandas as pd\n",
    "\n",
    "df = pd.read_csv(\"data3.csv\")\n",
    "\n",
    "print(df.corr()) # Korelasyon katsayıları\n",
    "\n",
    "# NOT : corr() yöntemi \"sayısal olmayan\" sütunları yok sayar."
   ]
  },
  {
   "cell_type": "markdown",
   "metadata": {},
   "source": [
    "##### Çıktının Tartışılması : \n",
    "corr() yönteminin çıktının, iki sütun arasındaki ilişkinin ne kadar iyi olduğunu temsil eden çok sayıda sayı içeren bir tablodur. Değer -1 ile 1 arasında değişir. 1,ilişkinin (mükemmel bir korelasyon) olduğu anlamına gelir ve bu veri seti için, ilk sütundaki bir değer her arttığında diğeri de artar.0,9 da iyi bir ilişkidir ve bir değeri artırırsanız diğeri de muhtemelen artacaktır.-0,9, 0,9 kadar iyi bir ilişki olabilir, ancak bir değeri artırırsanız diğeri muhtemelen düşecektir.0,2, iyi bir ilişki OLMADIĞI anlamına gelir, yani bir değer artarsa ​​diğerinin artacağı anlamına gelmez.\n",
    "\n",
    "-------------------------------------------------------------------------------------------------------------------------------------\n",
    "\n",
    "---> İyi bir korelasyon nedir? \n",
    "\n",
    "Kullanıma bağlıdır, ancak iyi bir korelasyon olarak adlandırmak için en az 0,6'ya (veya -0,6) sahip olmanız gerektiğini söylemenin güvenli olduğunu düşünüyorum."
   ]
  },
  {
   "cell_type": "markdown",
   "metadata": {},
   "source": [
    "1 - Mükemmel Kolerasyon : \"Duration\" ve \"Duration\"nin 1.000000 sayısını aldığını görüyoruz, bu da mantıklı, her sütunun kendisiyle her zaman mükemmel bir ilişkisi var.\n",
    "\n",
    "2- İyi Korelasyon : \"Duration\" ve \"Calories\" arasında 0.922721 korelasyon bulundu, bu çok iyi bir korelasyon. Antrenmana ne kadar uzun süre devam ederseniz o kadar çok kalori yakarsınız ve diğer yandan, çok kalori harcadıysanız muhtemelen uzun bir antrenman yapmışsınızdır.\n",
    "\n",
    "3- Kötü Korelasyon :  \"Duration\" ve \"Maxpulse\" 0,009403'lük bir korelasyona sahiptir, bu çok kötü bir korelasyondur, bu da yalnızca antrenmanın süresine bakarak maksimum nabzı tahmin edemeyeceğimiz anlamına gelir ve bunun tersi de geçerlidir."
   ]
  }
 ],
 "metadata": {
  "kernelspec": {
   "display_name": "Python 3",
   "language": "python",
   "name": "python3"
  },
  "language_info": {
   "codemirror_mode": {
    "name": "ipython",
    "version": 3
   },
   "file_extension": ".py",
   "mimetype": "text/x-python",
   "name": "python",
   "nbconvert_exporter": "python",
   "pygments_lexer": "ipython3",
   "version": "3.11.4"
  }
 },
 "nbformat": 4,
 "nbformat_minor": 2
}
