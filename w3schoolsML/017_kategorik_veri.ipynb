{
 "cells": [
  {
   "attachments": {},
   "cell_type": "markdown",
   "metadata": {},
   "source": [
    "# KATEGORİK VERİ \n",
    "Verileriniz dizelerle temsil edilen kategorilere sahip olduğunda, bunları genellikle yalnızca sayısal verileri kabul eden makine öğrenimi modellerini eğitmek için kullanmak zor olacaktır.\n",
    "\n",
    "Kategorik verileri yok saymak ve bilgileri modelimizin dışında bırakmak yerine, verileri modellerinizde kullanılabilecek şekilde dönüştürebilirsiniz."
   ]
  },
  {
   "cell_type": "code",
   "execution_count": 1,
   "metadata": {},
   "outputs": [
    {
     "name": "stderr",
     "output_type": "stream",
     "text": [
      "c:\\Users\\HP\\anaconda\\lib\\site-packages\\scipy\\__init__.py:138: UserWarning: A NumPy version >=1.16.5 and <1.23.0 is required for this version of SciPy (detected version 1.24.3)\n",
      "  warnings.warn(f\"A NumPy version >={np_minversion} and <{np_maxversion} is required for this version of \"\n"
     ]
    },
    {
     "name": "stdout",
     "output_type": "stream",
     "text": [
      "           Car       Model  Volume  Weight  CO2\n",
      "0       Toyoty        Aygo    1000     790   99\n",
      "1   Mitsubishi  Space Star    1200    1160   95\n",
      "2        Skoda      Citigo    1000     929   95\n",
      "3         Fiat         500     900     865   90\n",
      "4         Mini      Cooper    1500    1140  105\n",
      "5           VW         Up!    1000     929  105\n",
      "6        Skoda       Fabia    1400    1109   90\n",
      "7     Mercedes     A-Class    1500    1365   92\n",
      "8         Ford      Fiesta    1500    1112   98\n",
      "9         Audi          A1    1600    1150   99\n",
      "10     Hyundai         I20    1100     980   99\n",
      "11      Suzuki       Swift    1300     990  101\n",
      "12        Ford      Fiesta    1000    1112   99\n",
      "13       Honda       Civic    1600    1252   94\n",
      "14      Hundai         I30    1600    1326   97\n",
      "15        Opel       Astra    1600    1330   97\n",
      "16         BMW           1    1600    1365   99\n",
      "17       Mazda           3    2200    1280  104\n",
      "18       Skoda       Rapid    1600    1119  104\n",
      "19        Ford       Focus    2000    1328  105\n",
      "20        Ford      Mondeo    1600    1584   94\n",
      "21        Opel    Insignia    2000    1428   99\n",
      "22    Mercedes     C-Class    2100    1365   99\n",
      "23       Skoda     Octavia    1600    1415   99\n",
      "24       Volvo         S60    2000    1415   99\n",
      "25    Mercedes         CLA    1500    1465  102\n",
      "26        Audi          A4    2000    1490  104\n",
      "27        Audi          A6    2000    1725  114\n",
      "28       Volvo         V70    1600    1523  109\n",
      "29         BMW           5    2000    1705  114\n",
      "30    Mercedes     E-Class    2100    1605  115\n",
      "31       Volvo        XC70    2000    1746  117\n",
      "32        Ford       B-Max    1600    1235  104\n",
      "33         BMW         216    1600    1390  108\n",
      "34        Opel      Zafira    1600    1405  109\n",
      "35    Mercedes         SLK    2500    1395  120\n"
     ]
    }
   ],
   "source": [
    "import pandas as pd\n",
    "from sklearn import linear_model\n",
    "df = pd.read_csv(\"data.csv\")\n",
    "print(df)"
   ]
  },
  {
   "attachments": {},
   "cell_type": "markdown",
   "metadata": {},
   "source": [
    "Araba veya Model sütununu sayısal olmadığı için verilerimizde kullanamıyoruz. Kategorik bir değişken olan Araba veya Model ile sayısal bir değişken olan CO2 arasında doğrusal bir ilişki belirlenemez.\n",
    "\n",
    "Bu sorunu çözmek için, kategorik değişkenin sayısal bir temsiline sahip olmamız gerekir. Bunu yapmanın bir yolu, kategorideki her grubu temsil eden bir sütuna sahip olmaktır.\n",
    "\n",
    "Her sütun için değerler 1 veya 0 olacaktır; burada 1, grubun dahil edilmesini ve 0, hariç tutulmayı temsil eder. Bu dönüşüme tek sıcak kodlama denir."
   ]
  },
  {
   "cell_type": "code",
   "execution_count": 2,
   "metadata": {},
   "outputs": [
    {
     "name": "stdout",
     "output_type": "stream",
     "text": [
      "    Car_Audi  Car_BMW  Car_Fiat  Car_Ford  Car_Honda  Car_Hundai  Car_Hyundai  \\\n",
      "0          0        0         0         0          0           0            0   \n",
      "1          0        0         0         0          0           0            0   \n",
      "2          0        0         0         0          0           0            0   \n",
      "3          0        0         1         0          0           0            0   \n",
      "4          0        0         0         0          0           0            0   \n",
      "5          0        0         0         0          0           0            0   \n",
      "6          0        0         0         0          0           0            0   \n",
      "7          0        0         0         0          0           0            0   \n",
      "8          0        0         0         1          0           0            0   \n",
      "9          1        0         0         0          0           0            0   \n",
      "10         0        0         0         0          0           0            1   \n",
      "11         0        0         0         0          0           0            0   \n",
      "12         0        0         0         1          0           0            0   \n",
      "13         0        0         0         0          1           0            0   \n",
      "14         0        0         0         0          0           1            0   \n",
      "15         0        0         0         0          0           0            0   \n",
      "16         0        1         0         0          0           0            0   \n",
      "17         0        0         0         0          0           0            0   \n",
      "18         0        0         0         0          0           0            0   \n",
      "19         0        0         0         1          0           0            0   \n",
      "20         0        0         0         1          0           0            0   \n",
      "21         0        0         0         0          0           0            0   \n",
      "22         0        0         0         0          0           0            0   \n",
      "23         0        0         0         0          0           0            0   \n",
      "24         0        0         0         0          0           0            0   \n",
      "25         0        0         0         0          0           0            0   \n",
      "26         1        0         0         0          0           0            0   \n",
      "27         1        0         0         0          0           0            0   \n",
      "28         0        0         0         0          0           0            0   \n",
      "29         0        1         0         0          0           0            0   \n",
      "30         0        0         0         0          0           0            0   \n",
      "31         0        0         0         0          0           0            0   \n",
      "32         0        0         0         1          0           0            0   \n",
      "33         0        1         0         0          0           0            0   \n",
      "34         0        0         0         0          0           0            0   \n",
      "35         0        0         0         0          0           0            0   \n",
      "\n",
      "    Car_Mazda  Car_Mercedes  Car_Mini  Car_Mitsubishi  Car_Opel  Car_Skoda  \\\n",
      "0           0             0         0               0         0          0   \n",
      "1           0             0         0               1         0          0   \n",
      "2           0             0         0               0         0          1   \n",
      "3           0             0         0               0         0          0   \n",
      "4           0             0         1               0         0          0   \n",
      "5           0             0         0               0         0          0   \n",
      "6           0             0         0               0         0          1   \n",
      "7           0             1         0               0         0          0   \n",
      "8           0             0         0               0         0          0   \n",
      "9           0             0         0               0         0          0   \n",
      "10          0             0         0               0         0          0   \n",
      "11          0             0         0               0         0          0   \n",
      "12          0             0         0               0         0          0   \n",
      "13          0             0         0               0         0          0   \n",
      "14          0             0         0               0         0          0   \n",
      "15          0             0         0               0         1          0   \n",
      "16          0             0         0               0         0          0   \n",
      "17          1             0         0               0         0          0   \n",
      "18          0             0         0               0         0          1   \n",
      "19          0             0         0               0         0          0   \n",
      "20          0             0         0               0         0          0   \n",
      "21          0             0         0               0         1          0   \n",
      "22          0             1         0               0         0          0   \n",
      "23          0             0         0               0         0          1   \n",
      "24          0             0         0               0         0          0   \n",
      "25          0             1         0               0         0          0   \n",
      "26          0             0         0               0         0          0   \n",
      "27          0             0         0               0         0          0   \n",
      "28          0             0         0               0         0          0   \n",
      "29          0             0         0               0         0          0   \n",
      "30          0             1         0               0         0          0   \n",
      "31          0             0         0               0         0          0   \n",
      "32          0             0         0               0         0          0   \n",
      "33          0             0         0               0         0          0   \n",
      "34          0             0         0               0         1          0   \n",
      "35          0             1         0               0         0          0   \n",
      "\n",
      "    Car_Suzuki  Car_Toyoty  Car_VW  Car_Volvo  \n",
      "0            0           1       0          0  \n",
      "1            0           0       0          0  \n",
      "2            0           0       0          0  \n",
      "3            0           0       0          0  \n",
      "4            0           0       0          0  \n",
      "5            0           0       1          0  \n",
      "6            0           0       0          0  \n",
      "7            0           0       0          0  \n",
      "8            0           0       0          0  \n",
      "9            0           0       0          0  \n",
      "10           0           0       0          0  \n",
      "11           1           0       0          0  \n",
      "12           0           0       0          0  \n",
      "13           0           0       0          0  \n",
      "14           0           0       0          0  \n",
      "15           0           0       0          0  \n",
      "16           0           0       0          0  \n",
      "17           0           0       0          0  \n",
      "18           0           0       0          0  \n",
      "19           0           0       0          0  \n",
      "20           0           0       0          0  \n",
      "21           0           0       0          0  \n",
      "22           0           0       0          0  \n",
      "23           0           0       0          0  \n",
      "24           0           0       0          1  \n",
      "25           0           0       0          0  \n",
      "26           0           0       0          0  \n",
      "27           0           0       0          0  \n",
      "28           0           0       0          1  \n",
      "29           0           0       0          0  \n",
      "30           0           0       0          0  \n",
      "31           0           0       0          1  \n",
      "32           0           0       0          0  \n",
      "33           0           0       0          0  \n",
      "34           0           0       0          0  \n",
      "35           0           0       0          0  \n"
     ]
    }
   ],
   "source": [
    "ohe_cars=pd.get_dummies(df[['Car']])\n",
    "print(ohe_cars)"
   ]
  },
  {
   "cell_type": "code",
   "execution_count": 3,
   "metadata": {},
   "outputs": [],
   "source": [
    "X = pd.concat([df[['Volume','Weight']],ohe_cars],axis=1) \n",
    "y = df['CO2']\n"
   ]
  },
  {
   "cell_type": "code",
   "execution_count": 4,
   "metadata": {},
   "outputs": [
    {
     "data": {
      "text/plain": [
       "LinearRegression()"
      ]
     },
     "execution_count": 4,
     "metadata": {},
     "output_type": "execute_result"
    }
   ],
   "source": [
    "regr=linear_model.LinearRegression()\n",
    "regr.fit(X,y)"
   ]
  },
  {
   "cell_type": "code",
   "execution_count": 5,
   "metadata": {},
   "outputs": [
    {
     "name": "stdout",
     "output_type": "stream",
     "text": [
      "[122.45153299]\n"
     ]
    }
   ],
   "source": [
    "tahminCO2=regr.predict([[2300,1300,0,0,0,0,0,0,0,0,0,0,0,0,0,0,0,1,0]])\n",
    "print(tahminCO2)"
   ]
  },
  {
   "cell_type": "code",
   "execution_count": 7,
   "metadata": {},
   "outputs": [
    {
     "name": "stdout",
     "output_type": "stream",
     "text": [
      "  color\n",
      "0  blue\n",
      "1   red\n",
      "***********************\n",
      "   color_red\n",
      "0          0\n",
      "1          1\n"
     ]
    }
   ],
   "source": [
    "colors = pd.DataFrame({'color': ['blue', 'red']}) #\n",
    "dummies = pd.get_dummies(colors, drop_first=True)\n",
    "print(colors)\n",
    "print(\"***********************\")\n",
    "print(dummies)"
   ]
  },
  {
   "cell_type": "code",
   "execution_count": 8,
   "metadata": {},
   "outputs": [
    {
     "name": "stdout",
     "output_type": "stream",
     "text": [
      "   color_green  color_red  color\n",
      "0            0          0   blue\n",
      "1            0          1    red\n",
      "2            1          0  green\n"
     ]
    }
   ],
   "source": [
    "colors = pd.DataFrame({'color': ['blue', 'red', 'green']})\n",
    "dummies2 = pd.get_dummies(colors, drop_first=True)\n",
    "dummies2['color'] = colors['color']\n",
    "\n",
    "print(dummies2)"
   ]
  }
 ],
 "metadata": {
  "kernelspec": {
   "display_name": "base",
   "language": "python",
   "name": "python3"
  },
  "language_info": {
   "codemirror_mode": {
    "name": "ipython",
    "version": 3
   },
   "file_extension": ".py",
   "mimetype": "text/x-python",
   "name": "python",
   "nbconvert_exporter": "python",
   "pygments_lexer": "ipython3",
   "version": "3.8.8"
  },
  "orig_nbformat": 4
 },
 "nbformat": 4,
 "nbformat_minor": 2
}
