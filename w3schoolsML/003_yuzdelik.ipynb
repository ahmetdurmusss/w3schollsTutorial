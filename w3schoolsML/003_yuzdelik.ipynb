{
 "cells": [
  {
   "attachments": {},
   "cell_type": "markdown",
   "metadata": {},
   "source": [
    "### Yüzdelikler, istatistiklerde, değerlerin belirli bir yüzdesinin altında olduğu değeri açıklayan bir sayı vermek için kullanılır."
   ]
  },
  {
   "cell_type": "code",
   "execution_count": 2,
   "metadata": {},
   "outputs": [],
   "source": [
    "import numpy as np"
   ]
  },
  {
   "cell_type": "code",
   "execution_count": 3,
   "metadata": {},
   "outputs": [
    {
     "name": "stdout",
     "output_type": "stream",
     "text": [
      "Bu grubun %75'i 43.0 yaşındadır veya küçüktür.\n"
     ]
    }
   ],
   "source": [
    "# Bir sokakta yaşayan tüm insanların yaşlarını içeren bir dizimiz olduğunu varsayalım.\n",
    "\n",
    "yas = [5,31,43,48,50,41,7,11,15,39,80,82,32,2,8,6,25,36,27,61,31]\n",
    "x=np.percentile(yas,75)\n",
    "print(\"Bu grubun %75'i {} yaşındadır veya küçüktür.\".format(x))\n"
   ]
  },
  {
   "cell_type": "code",
   "execution_count": 4,
   "metadata": {},
   "outputs": [
    {
     "name": "stdout",
     "output_type": "stream",
     "text": [
      "Bu grubun %90'i 61.0 yaşındadır veya küçüktür.\n"
     ]
    }
   ],
   "source": [
    "y=np.percentile(yas,90)\n",
    "print(\"Bu grubun %90'i {} yaşındadır veya küçüktür.\".format(y))"
   ]
  }
 ],
 "metadata": {
  "kernelspec": {
   "display_name": "base",
   "language": "python",
   "name": "python3"
  },
  "language_info": {
   "codemirror_mode": {
    "name": "ipython",
    "version": 3
   },
   "file_extension": ".py",
   "mimetype": "text/x-python",
   "name": "python",
   "nbconvert_exporter": "python",
   "pygments_lexer": "ipython3",
   "version": "3.8.8"
  },
  "orig_nbformat": 4
 },
 "nbformat": 4,
 "nbformat_minor": 2
}
