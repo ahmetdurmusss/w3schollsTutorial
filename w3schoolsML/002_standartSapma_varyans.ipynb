{
 "cells": [
  {
   "attachments": {},
   "cell_type": "markdown",
   "metadata": {},
   "source": [
    "### Standart Sapma \n",
    "\n",
    "Standart sapma, değerlerin nasıl dağıldığını açıklayan bir sayıdır. \n",
    "Düşük bir standart sapma, sayıların çoğunun ortalama (ortalama) değere yakın olduğu anlamına gelir.\n",
    "Yüksek bir standart sapma, değerlerin daha geniş bir aralığa dağıldığı anlamına gelir.\n"
   ]
  },
  {
   "cell_type": "code",
   "execution_count": 3,
   "metadata": {},
   "outputs": [],
   "source": [
    "import numpy as np\n"
   ]
  },
  {
   "cell_type": "code",
   "execution_count": 11,
   "metadata": {},
   "outputs": [
    {
     "name": "stdout",
     "output_type": "stream",
     "text": [
      "0.9035079029052513\n"
     ]
    }
   ],
   "source": [
    "speed1= [86,87,88,86,87,85,86]\n",
    "standart_sapma = np.std(speed1)\n",
    "print(standart_sapma)"
   ]
  },
  {
   "cell_type": "code",
   "execution_count": 9,
   "metadata": {},
   "outputs": [
    {
     "name": "stdout",
     "output_type": "stream",
     "text": [
      "37.84501153334721\n"
     ]
    }
   ],
   "source": [
    "speed2 = [32,111,138,28,59,77,97]\n",
    "standart_sapma2 = np.std(speed2)\n",
    "print(standart_sapma2)"
   ]
  },
  {
   "attachments": {},
   "cell_type": "markdown",
   "metadata": {},
   "source": [
    "### Varyans\n",
    "Varyans, değerlerin ne kadar dağıldığını gösteren başka bir sayıdır.\n",
    "Aslında varyansın karekökünü alırsanız standart sapmayı elde edersiniz!\n",
    "Ya da tam tersi, standart sapmayı kendisiyle çarparsanız varyansı elde edersiniz!\n",
    "Varyansı hesaplamak için aşağıdakileri yapmanız gerekir:"
   ]
  },
  {
   "cell_type": "code",
   "execution_count": 12,
   "metadata": {},
   "outputs": [
    {
     "name": "stdout",
     "output_type": "stream",
     "text": [
      "1432.2448979591834\n"
     ]
    }
   ],
   "source": [
    "speed = [32,111,138,28,59,77,97]\n",
    "varyans = np.var(speed)\n",
    "print(varyans)"
   ]
  },
  {
   "cell_type": "code",
   "execution_count": null,
   "metadata": {},
   "outputs": [],
   "source": []
  },
  {
   "attachments": {},
   "cell_type": "markdown",
   "metadata": {},
   "source": [
    "### Semboller\n",
    "Standart Sapma genellikle Sigma sembolü ile temsil edilir: σ\n",
    "\n",
    "Varyans genellikle Sigma Kare sembolü ile temsil edilir: σ^2"
   ]
  }
 ],
 "metadata": {
  "kernelspec": {
   "display_name": "base",
   "language": "python",
   "name": "python3"
  },
  "language_info": {
   "codemirror_mode": {
    "name": "ipython",
    "version": 3
   },
   "file_extension": ".py",
   "mimetype": "text/x-python",
   "name": "python",
   "nbconvert_exporter": "python",
   "pygments_lexer": "ipython3",
   "version": "3.8.8"
  },
  "orig_nbformat": 4
 },
 "nbformat": 4,
 "nbformat_minor": 2
}
