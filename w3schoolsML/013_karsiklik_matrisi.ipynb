{
 "cells": [
  {
   "attachments": {},
   "cell_type": "markdown",
   "metadata": {},
   "source": [
    "### KARIŞIKLIK MATRİSİ (CONFUSION MATRIX)\n",
    "Modelde hataların nerede yapıldığını değerlendirmek için sınıflandırma problemlerinde kullanılan bir tablodur.\n",
    "\n",
    "Satırlar, sonuçların olması gereken gerçek sınıfları temsil eder. Sütunlar yaptığımız tahminleri temsil ederken. Bu tabloyu kullanarak hangi tahminlerin yanlış olduğunu görmek kolaydır"
   ]
  },
  {
   "attachments": {},
   "cell_type": "markdown",
   "metadata": {},
   "source": [
    "### KARIŞIKLIK MATRİSİNİN OLUŞTURMA "
   ]
  },
  {
   "cell_type": "code",
   "execution_count": 5,
   "metadata": {},
   "outputs": [],
   "source": [
    "import numpy as np\n",
    "from sklearn import metrics\n",
    "import matplotlib.pyplot as plt"
   ]
  },
  {
   "cell_type": "code",
   "execution_count": 6,
   "metadata": {},
   "outputs": [],
   "source": [
    "actual=np.random.binomial(1,0.9,size=1000) # gerçek değerler: 0 ve 1'lerden oluşan 1000 elemanlı bir dizi.1'lerin olasılığı 0.9 .\n",
    "predicted=np.random.binomial(1,0.9,size=1000) # tahmin edilen değerler: 0 ve 1'lerden oluşan 1000 elemanlı bir dizi.1'lerin olasılığı 0.9 .\n",
    "\n",
    "confusion_matrix=metrics.confusion_matrix(actual,predicted) # karsiklik matrisi hesaplanir."
   ]
  },
  {
   "cell_type": "code",
   "execution_count": 7,
   "metadata": {},
   "outputs": [
    {
     "data": {
      "image/png": "[encoded data removed]",
      "text/plain": [
       "<Figure size 432x288 with 2 Axes>"
      ]
     },
     "metadata": {
      "needs_background": "light"
     },
     "output_type": "display_data"
    }
   ],
   "source": [
    "cm_display=metrics.ConfusionMatrixDisplay(confusion_matrix=confusion_matrix,display_labels=[False,True]) # karsiklik matrisi görselleştirilir.\n",
    "cm_display.plot()\n",
    "plt.show()"
   ]
  },
  {
   "attachments": {},
   "cell_type": "markdown",
   "metadata": {},
   "source": [
    "# METRİKLER\n",
    "Matris bize, sınıflandırma modelimizi değerlendirmemize yardımcı olan birçok faydalı ölçüm sağlar.\n",
    "\n",
    "Farklı ölçümler şunları içerir: Doğruluk, Kesinlik, Duyarlılık (Hatırlama), Spesifiklik ve aşağıda açıklanan F-skoru.\n",
    "\n"
   ]
  },
  {
   "attachments": {},
   "cell_type": "markdown",
   "metadata": {},
   "source": [
    "### DOĞRULUK (ACCURACY)\n",
    "Doğruluk, modelin ne sıklıkla doğru olduğunu ölçer.\n",
    "\n",
    "##### Nasıl hesaplanır\n",
    "(Gerçek Pozitif + Gerçek Negatif) / Toplam Tahmin"
   ]
  },
  {
   "cell_type": "code",
   "execution_count": 9,
   "metadata": {},
   "outputs": [
    {
     "name": "stdout",
     "output_type": "stream",
     "text": [
      "Accuracy: 0.811\n"
     ]
    }
   ],
   "source": [
    "accuracy=metrics.accuracy_score(actual,predicted) # doğruluk hesaplanır.\n",
    "print(\"Accuracy:\",accuracy)"
   ]
  },
  {
   "attachments": {},
   "cell_type": "markdown",
   "metadata": {},
   "source": [
    "### KESİNLİK (PRECISION)\n",
    "Öngörülen pozitiflerin yüzde kaçı gerçekten pozitif?\n",
    "\n",
    "#### Nasıl hesaplanır\n",
    "Gerçek Pozitif / (Gerçek Pozitif + Yanlış Pozitif)\n",
    "\n",
    "Kesinlik, doğru tahmin edilen olumsuz durumları değerlendirmez:"
   ]
  },
  {
   "cell_type": "code",
   "execution_count": 11,
   "metadata": {},
   "outputs": [
    {
     "name": "stdout",
     "output_type": "stream",
     "text": [
      "Precision: 0.8967452300785634\n"
     ]
    }
   ],
   "source": [
    "precision=metrics.precision_score(actual,predicted) # kesinlik hesaplanır.\n",
    "print(\"Precision:\",precision)"
   ]
  },
  {
   "attachments": {},
   "cell_type": "markdown",
   "metadata": {},
   "source": [
    "## HASSASİYET (RECALL)\n",
    "Tüm pozitif vakaların yüzde kaçının pozitif olduğu tahmin ediliyor?\n",
    "\n",
    "Duyarlılık (bazen Hatırlama olarak adlandırılır), modelin pozitifleri tahmin etmede ne kadar iyi olduğunu ölçer.\n",
    "\n",
    "Bu, gerçek pozitiflere ve yanlış negatiflere (yanlış bir şekilde negatif olarak tahmin edilen pozitifler) baktığı anlamına gelir.\n",
    "\n",
    "#### Nasıl hesaplanır\n",
    "Gerçek Pozitif / (Gerçek Pozitif + Yanlış Negatif)\n",
    "\n",
    "Duyarlılık, modelin bir şeyin olumlu olduğunu ne kadar iyi tahmin ettiğini anlamada iyidir:\n"
   ]
  },
  {
   "cell_type": "code",
   "execution_count": 13,
   "metadata": {},
   "outputs": [
    {
     "name": "stdout",
     "output_type": "stream",
     "text": [
      "Senstivity/Recall: 0.8917410714285714\n"
     ]
    }
   ],
   "source": [
    "senstivity_recal=metrics.recall_score(actual,predicted) # duyarlılık hesaplanır.\n",
    "print(\"Senstivity/Recall:\",senstivity_recal)"
   ]
  },
  {
   "attachments": {},
   "cell_type": "markdown",
   "metadata": {},
   "source": [
    "## ÖZGÜLLÜK (SPECIFICITY)\n",
    "Model olumsuz sonuçları tahmin etmede ne kadar iyi?\n",
    "\n",
    "Spesifiklik, duyarlılığa benzer, ancak ona olumsuz sonuçların perspektifinden bakar.\n",
    "\n",
    "#### Nasıl hesaplanır\n",
    "Gerçek Negatif / (Gerçek Negatif + Yanlış Pozitif)\n",
    "\n",
    "Geri Çağırma'nın tam tersi olduğu için, geri çağırma_skor işlevini kullanırız ve karşı konum etiketini alırız:"
   ]
  },
  {
   "cell_type": "code",
   "execution_count": 15,
   "metadata": {},
   "outputs": [
    {
     "name": "stdout",
     "output_type": "stream",
     "text": [
      "Spesificity: 0.11538461538461539\n"
     ]
    }
   ],
   "source": [
    "spesificity=metrics.recall_score(actual,predicted,pos_label=0) # özgüllük hesaplanır.\n",
    "print(\"Spesificity:\",spesificity)"
   ]
  },
  {
   "attachments": {},
   "cell_type": "markdown",
   "metadata": {},
   "source": [
    "## F1 SKORU \n",
    "F-skoru, kesinlik ve duyarlılığın \"harmonik ortalamasıdır\".\n",
    "\n",
    "Hem yanlış pozitif hem de yanlış negatif vakaları dikkate alır ve dengesiz veri kümeleri için iyidir.\n",
    "\n",
    "#### Nasıl hesaplanır\n",
    "2 * ((Hassaslık * Hassasiyet) / (Hassaslık + Hassasiyet))\n",
    "\n",
    "Bu puan, Gerçek Negatif değerleri dikkate almaz:"
   ]
  },
  {
   "cell_type": "code",
   "execution_count": 16,
   "metadata": {},
   "outputs": [
    {
     "name": "stdout",
     "output_type": "stream",
     "text": [
      "F1 Score: 0.8942361499720202\n"
     ]
    }
   ],
   "source": [
    "f1_score = metrics.f1_score(actual, predicted)\n",
    "print(\"F1 Score:\",f1_score)"
   ]
  },
  {
   "cell_type": "code",
   "execution_count": 18,
   "metadata": {},
   "outputs": [
    {
     "name": "stdout",
     "output_type": "stream",
     "text": [
      "              precision    recall  f1-score   support\n",
      "\n",
      "           0       0.11      0.12      0.11       104\n",
      "           1       0.90      0.89      0.89       896\n",
      "\n",
      "    accuracy                           0.81      1000\n",
      "   macro avg       0.50      0.50      0.50      1000\n",
      "weighted avg       0.81      0.81      0.81      1000\n",
      "\n",
      "*************************************************\n",
      "accuracy: 0.811\n",
      "precision: 0.8967452300785634\n",
      "senstivity/recall: 0.8917410714285714\n",
      "spesificity: 0.11538461538461539\n",
      "f1 score: 0.8942361499720202\n"
     ]
    }
   ],
   "source": [
    "# TÜM METRİKLERİN HESAPLANMASI\n",
    "print(metrics.classification_report(actual,predicted))\n",
    "print(\"*************************************************\")\n",
    "print(\"accuracy:\",accuracy)\n",
    "print(\"precision:\",precision)\n",
    "print(\"senstivity/recall:\",senstivity_recal)\n",
    "print(\"spesificity:\",spesificity)\n",
    "print(\"f1 score:\",f1_score)\n",
    "\n"
   ]
  }
 ],
 "metadata": {
  "kernelspec": {
   "display_name": "base",
   "language": "python",
   "name": "python3"
  },
  "language_info": {
   "codemirror_mode": {
    "name": "ipython",
    "version": 3
   },
   "file_extension": ".py",
   "mimetype": "text/x-python",
   "name": "python",
   "nbconvert_exporter": "python",
   "pygments_lexer": "ipython3",
   "version": "3.8.8"
  },
  "orig_nbformat": 4
 },
 "nbformat": 4,
 "nbformat_minor": 2
}
