{
 "cells": [
  {
   "attachments": {},
   "cell_type": "markdown",
   "metadata": {},
   "source": [
    "# LOJİSTİK REGRESYON \n",
    "Lojistik regresyon, sınıflandırma problemlerini çözmeyi amaçlar. Bunu, sürekli bir sonucu öngören doğrusal regresyonun aksine, kategorik sonuçları tahmin ederek yapar."
   ]
  },
  {
   "attachments": {},
   "cell_type": "markdown",
   "metadata": {},
   "source": [
    "## ÖRNEK:\n",
    "En basit durumda, binom adı verilen iki sonuç vardır; buna bir örnek, bir tümörün kötü huylu mu yoksa iyi huylu mu olduğunu tahmin etmektir. Diğer durumların sınıflandırılması gereken ikiden fazla sonucu vardır, bu duruma multinomial denir. Çok terimli lojistik regresyon için yaygın bir örnek, 3 farklı tür arasında bir iris çiçeğinin sınıfını tahmin etmektir.\n",
    "\n",
    "Burada bir binom değişkenini tahmin etmek için temel lojistik regresyon kullanacağız. Bu, yalnızca iki olası sonucu olduğu anlamına gelir."
   ]
  },
  {
   "cell_type": "code",
   "execution_count": 3,
   "metadata": {},
   "outputs": [
    {
     "name": "stderr",
     "output_type": "stream",
     "text": [
      "c:\\Users\\HP\\anaconda\\lib\\site-packages\\scipy\\__init__.py:138: UserWarning: A NumPy version >=1.16.5 and <1.23.0 is required for this version of SciPy (detected version 1.24.3)\n",
      "  warnings.warn(f\"A NumPy version >={np_minversion} and <{np_maxversion} is required for this version of \"\n"
     ]
    }
   ],
   "source": [
    "import numpy as np\n",
    "from sklearn import linear_model"
   ]
  },
  {
   "cell_type": "code",
   "execution_count": 2,
   "metadata": {},
   "outputs": [],
   "source": [
    "X = np.array([3.78, 2.44, 2.09, 0.14, 1.72, 1.65, 4.92, 4.37, 4.96, 4.52, 3.69, 5.88]).reshape(-1,1)\n",
    "#reshape(-1,1) ile 1 sütunlu bir matris oluşturuyoruz. Burada -1, satır sayısının bilinmediğini ifade ediyor. 1 ise sütun sayısını ifade ediyor.\n",
    "#X, bir tümörün boyutunu santimetre cinsinden temsil eder\n",
    "\n",
    "y = np.array([0, 0, 0, 0, 0, 0, 1, 1, 1, 1, 1, 1])\n",
    "#y, tümörün kanserli olup olmadığını temsil eder (\"Hayır\" için 0, \"Evet\" için 1)."
   ]
  },
  {
   "cell_type": "code",
   "execution_count": 4,
   "metadata": {},
   "outputs": [
    {
     "data": {
      "text/plain": [
       "LogisticRegression()"
      ]
     },
     "execution_count": 4,
     "metadata": {},
     "output_type": "execute_result"
    }
   ],
   "source": [
    "logr= linear_model.LogisticRegression() #LogisticRegression sınıfından bir nesne oluşturuyoruz. Bu nesne, lojistik regresyon modelini temsil edecek.\n",
    "logr.fit(X,y) #fit() metodu ile modeli eğitiyoruz."
   ]
  },
  {
   "cell_type": "code",
   "execution_count": 6,
   "metadata": {},
   "outputs": [
    {
     "name": "stdout",
     "output_type": "stream",
     "text": [
      "TAHMİN:  [0]\n"
     ]
    }
   ],
   "source": [
    "predicted = logr.predict(np.array([3.46]).reshape(-1,1)) #predict() metodu ile modeli kullanarak tahmin yapıyoruz.\n",
    "print(\"TAHMİN: \",predicted) #3.46 santimetrelik bir tümörün kanserli olup olmadığını tahmin ediyoruz."
   ]
  },
  {
   "attachments": {},
   "cell_type": "markdown",
   "metadata": {},
   "source": [
    "### KATSAYI:\n",
    "Lojistik regresyonda katsayı, X'teki birim değişiklik başına sonuca sahip olmanın olasılıklarındaki beklenen değişikliktir."
   ]
  },
  {
   "cell_type": "code",
   "execution_count": 8,
   "metadata": {},
   "outputs": [
    {
     "name": "stdout",
     "output_type": "stream",
     "text": [
      "[[4.03541657]]\n"
     ]
    }
   ],
   "source": [
    "log_odds = logr.coef_\n",
    "odds = np.exp(log_odds)\n",
    "\n",
    "print(odds)\n",
    "#Sonuç ,bize tümörün 1 mm artması durumunda kanser olma olasılığını verir."
   ]
  },
  {
   "attachments": {},
   "cell_type": "markdown",
   "metadata": {},
   "source": [
    "## OLASILIK:\n",
    "Katsayı ve kesme değerleri, her bir tümörün kanserli olma olasılığını bulmak için kullanılabilir.\n",
    "\n",
    "Yeni bir değer döndürmek için modelin katsayısını ve kesişim değerlerini kullanan bir işlev oluşturun. Bu yeni değer, verilen gözlemin bir tümör olma olasılığını temsil eder:"
   ]
  },
  {
   "cell_type": "code",
   "execution_count": 10,
   "metadata": {},
   "outputs": [
    {
     "name": "stdout",
     "output_type": "stream",
     "text": [
      "[[0.60749955]\n",
      " [0.19268876]\n",
      " [0.12775886]\n",
      " [0.00955221]\n",
      " [0.08038616]\n",
      " [0.07345637]\n",
      " [0.88362743]\n",
      " [0.77901378]\n",
      " [0.88924409]\n",
      " [0.81293497]\n",
      " [0.57719129]\n",
      " [0.96664243]]\n"
     ]
    },
    {
     "data": {
      "text/plain": [
       "\"\\n3,78 0,61 3,78 cm büyüklüğündeki bir tümörün kanserli olma olasılığı %61'dir.\\n2,44 0,19 2,44 cm büyüklüğündeki bir tümörün kanserli olma olasılığı %19'dur.\\n2,09 0,13 2,09cm büyüklüğündeki bir tümörün kanserli olma olasılığı %13'tür.\\n\""
      ]
     },
     "execution_count": 10,
     "metadata": {},
     "output_type": "execute_result"
    }
   ],
   "source": [
    "def logit2prob(logr, X):\n",
    "    log_odds = logr.coef_ * X + logr.intercept_\n",
    "    odds = np.exp(log_odds)\n",
    "    probability = odds / (1 + odds)\n",
    "    return(probability)\n",
    "\n",
    "print(logit2prob(logr, X))\n",
    "#Sonuç, bize tümörün boyutuna göre kanser olma olasılığını verir.\n",
    "\"\"\"\n",
    "3,78 0,61 3,78 cm büyüklüğündeki bir tümörün kanserli olma olasılığı %61'dir.\n",
    "2,44 0,19 2,44 cm büyüklüğündeki bir tümörün kanserli olma olasılığı %19'dur.\n",
    "2,09 0,13 2,09cm büyüklüğündeki bir tümörün kanserli olma olasılığı %13'tür.\n",
    "\"\"\""
   ]
  }
 ],
 "metadata": {
  "kernelspec": {
   "display_name": "base",
   "language": "python",
   "name": "python3"
  },
  "language_info": {
   "codemirror_mode": {
    "name": "ipython",
    "version": 3
   },
   "file_extension": ".py",
   "mimetype": "text/x-python",
   "name": "python",
   "nbconvert_exporter": "python",
   "pygments_lexer": "ipython3",
   "version": "3.8.8"
  },
  "orig_nbformat": 4
 },
 "nbformat": 4,
 "nbformat_minor": 2
}
