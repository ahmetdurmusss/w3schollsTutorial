{
 "cells": [
  {
   "attachments": {},
   "cell_type": "markdown",
   "metadata": {},
   "source": [
    "### NORMAL (GAUSS) VERİ DAĞILIMI \n"
   ]
  },
  {
   "cell_type": "code",
   "execution_count": 1,
   "metadata": {},
   "outputs": [],
   "source": [
    "import numpy as np\n",
    "import matplotlib.pyplot as plt"
   ]
  },
  {
   "cell_type": "code",
   "execution_count": 2,
   "metadata": {},
   "outputs": [
    {
     "data": {
      "image/png": "[encoded data removed]",
      "text/plain": [
       "<Figure size 432x288 with 1 Axes>"
      ]
     },
     "metadata": {
      "needs_background": "light"
     },
     "output_type": "display_data"
    }
   ],
   "source": [
    "x = np.random.normal(5.0, 1.0, 100000) # 5.0 --> \"ortalama\", 1.0 --> \"standart sapma\", 100000 --> \"kaç tane sayı üretileceği\"\n",
    "plt.hist(x, 100)\n",
    "plt.show()"
   ]
  },
  {
   "attachments": {},
   "cell_type": "markdown",
   "metadata": {},
   "source": [
    "### Histogram Açıklaması\n",
    "numpy.random.normal() 100 çubuklu bir histogram çizmek için yöntemdeki 100000 değerli diziyi kullanıyoruz.\n",
    "Ortalama değerin 5,0 ve standart sapmanın 1,0 olduğunu belirtiyoruz.\n",
    "Değerlerin 5.0 civarında yoğunlaşması ve nadiren ortalamadan 1.0'dan daha fazla uzaklaşması gerektiği anlamına gelir.\n",
    "Histogramdan da görebileceğiniz gibi, çoğu değer 4.0 ile 6.0 arasındadır ve en üst noktası yaklaşık 5.0'dır."
   ]
  }
 ],
 "metadata": {
  "kernelspec": {
   "display_name": "base",
   "language": "python",
   "name": "python3"
  },
  "language_info": {
   "codemirror_mode": {
    "name": "ipython",
    "version": 3
   },
   "file_extension": ".py",
   "mimetype": "text/x-python",
   "name": "python",
   "nbconvert_exporter": "python",
   "pygments_lexer": "ipython3",
   "version": "3.8.8"
  },
  "orig_nbformat": 4
 },
 "nbformat": 4,
 "nbformat_minor": 2
}
