{
 "cells": [
  {
   "attachments": {},
   "cell_type": "markdown",
   "metadata": {},
   "source": [
    "# KLAVUZ ARAMA (GRID SEARCH)\n",
    "Makine öğrenimi modellerinin çoğu, modelin öğrenme şeklini değiştirmek için ayarlanabilen parametreler içerir. Örneğin, sklearn'den lojistik regresyon modeli, modelin karmaşıklığını etkileyen düzenlileştirmeyi kontrol eden bir C parametresine sahiptir.C için en iyi değeri nasıl seçeriz? En iyi değer, modeli eğitmek için kullanılan verilere bağlıdır. \n",
    "\n",
    "Yöntemlerden biri, farklı değerleri denemek ve ardından en iyi puanı veren değeri seçmektir. Bu teknik, ızgara araması olarak bilinir . İki veya daha fazla parametre için değer seçmek zorunda kalsaydık, değer kümelerinin tüm kombinasyonlarını değerlendirerek bir değerler ızgarası oluştururduk.\n"
   ]
  },
  {
   "attachments": {},
   "cell_type": "markdown",
   "metadata": {},
   "source": [
    "### VARSAYILAN PARAMETRELERİ KULLANARAK "
   ]
  },
  {
   "cell_type": "code",
   "execution_count": 2,
   "metadata": {},
   "outputs": [],
   "source": [
    "from sklearn import datasets\n",
    "from sklearn.linear_model import LogisticRegression\n",
    "iris = datasets.load_iris()"
   ]
  },
  {
   "cell_type": "code",
   "execution_count": 3,
   "metadata": {},
   "outputs": [],
   "source": [
    "X=iris[\"data\"] \n",
    "y=iris[\"target\"]"
   ]
  },
  {
   "cell_type": "code",
   "execution_count": 4,
   "metadata": {},
   "outputs": [
    {
     "name": "stdout",
     "output_type": "stream",
     "text": [
      "logit_fitt: LogisticRegression(max_iter=10000)\n",
      "logit_scoree: 0.9733333333333334\n"
     ]
    }
   ],
   "source": [
    "logit= LogisticRegression( max_iter = 10000)\n",
    "logit_fitt=logit.fit(X,y)\n",
    "logit_scoree=logit.score(X,y)\n",
    "\n",
    "print(\"logit_fitt:\",logit_fitt)\n",
    "print(\"logit_scoree:\",logit_scoree)"
   ]
  },
  {
   "attachments": {},
   "cell_type": "markdown",
   "metadata": {},
   "source": [
    "### KLAVUZ ARAMAYI UYGULADIĞIMIZDA"
   ]
  },
  {
   "cell_type": "code",
   "execution_count": 5,
   "metadata": {},
   "outputs": [
    {
     "name": "stdout",
     "output_type": "stream",
     "text": [
      "score: [0.9666666666666667, 0.9666666666666667, 0.9733333333333334, 0.9733333333333334, 0.98, 0.98, 0.9866666666666667, 0.9866666666666667]\n"
     ]
    }
   ],
   "source": [
    "c= [0.25, 0.5, 0.75, 1, 1.25, 1.5, 1.75, 2]\n",
    "score=list()\n",
    "for i in c:\n",
    "    logit.set_params(C=i)\n",
    "    logit.fit(X,y)\n",
    "    score.append(logit.score(X,y))\n",
    "print(\"score:\",score)"
   ]
  },
  {
   "attachments": {},
   "cell_type": "markdown",
   "metadata": {},
   "source": [
    "###### c değeri 1'in üstünde olduğu zaman score değerleri artıyor, 1'in altında olduğu zaman score değerleri azalıyor. Bu yüzden c değerini 1'in üstünde tutmak daha iyi oluyor."
   ]
  }
 ],
 "metadata": {
  "kernelspec": {
   "display_name": "base",
   "language": "python",
   "name": "python3"
  },
  "language_info": {
   "codemirror_mode": {
    "name": "ipython",
    "version": 3
   },
   "file_extension": ".py",
   "mimetype": "text/x-python",
   "name": "python",
   "nbconvert_exporter": "python",
   "pygments_lexer": "ipython3",
   "version": "3.8.8"
  },
  "orig_nbformat": 4
 },
 "nbformat": 4,
 "nbformat_minor": 2
}
