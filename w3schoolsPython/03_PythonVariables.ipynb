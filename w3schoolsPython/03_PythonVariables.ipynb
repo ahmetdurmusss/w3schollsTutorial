{
 "cells": [
  {
   "cell_type": "markdown",
   "metadata": {},
   "source": [
    "## PYTHON DEĞİŞKENLERİ"
   ]
  },
  {
   "cell_type": "markdown",
   "metadata": {},
   "source": [
    "#### Değişkenler\n",
    "Değişkenler, veri değerlerini depolamak için kullanılan kaplardır."
   ]
  },
  {
   "cell_type": "markdown",
   "metadata": {},
   "source": [
    "#### Değişkenler Oluşturma\n",
    "Python'da değişken tanımlamaya yönelik bir komut yoktur.Bir değişken, ona ilk kez bir değer atadığınız anda yaratılır."
   ]
  },
  {
   "cell_type": "code",
   "execution_count": 1,
   "metadata": {},
   "outputs": [
    {
     "name": "stdout",
     "output_type": "stream",
     "text": [
      "5\n",
      "John\n"
     ]
    }
   ],
   "source": [
    "# ÖRNEK 1 : Değişkenlere değer atama\n",
    "x = 5\n",
    "y = \"John\"\n",
    "print(x)\n",
    "print(y)"
   ]
  },
  {
   "cell_type": "code",
   "execution_count": 2,
   "metadata": {},
   "outputs": [
    {
     "name": "stdout",
     "output_type": "stream",
     "text": [
      "Sally\n"
     ]
    }
   ],
   "source": [
    "# NOT : Değişkenlerin belirli bir tipte tanımlanmasına gerek yoktur ve hatta ayarlandıktan sonra tiplerini değiştirebilirler.\n",
    "# ÖRNEK 2 : Değişkenlerin tiplerini değiştirme\n",
    "\n",
    "x = 4       # x is of type int\n",
    "x = \"Sally\" # x is now of type str\n",
    "print(x)\n"
   ]
  },
  {
   "cell_type": "markdown",
   "metadata": {},
   "source": [
    "#### Döküm/Casting\n",
    "Bir değişkenin veri tipini belirtmek istiyorsanız bunu dönüşümle yapabilirsiniz."
   ]
  },
  {
   "cell_type": "code",
   "execution_count": 3,
   "metadata": {},
   "outputs": [],
   "source": [
    "# ÖRNEK 3 : Değişkenlerin tiplerini belirleme\n",
    "\n",
    "x = str(3)    # x will be '3'\n",
    "y = int(3)    # y will be 3\n",
    "z = float(3)  # z will be 3.0"
   ]
  },
  {
   "cell_type": "markdown",
   "metadata": {},
   "source": [
    "#### Değişkenin Türünü Öğrenme\n",
    "\n",
    "Bir değişkenin veri tipini \" type() \" fonksiyonla alabilirsiniz."
   ]
  },
  {
   "cell_type": "code",
   "execution_count": 4,
   "metadata": {},
   "outputs": [
    {
     "name": "stdout",
     "output_type": "stream",
     "text": [
      "<class 'int'>\n",
      "<class 'str'>\n"
     ]
    }
   ],
   "source": [
    "# ÖRNEK 4 : Değişkenlerin tiplerini öğrenme\n",
    "\n",
    "x = 5\n",
    "y = \"John\"\n",
    "print(type(x))\n",
    "print(type(y))"
   ]
  },
  {
   "cell_type": "markdown",
   "metadata": {},
   "source": [
    "#### Tek Tırnak mı Çift Tırnak mı?\n",
    "\n",
    "Dize değişkenleri tek veya çift tırnak işareti kullanılarak bildirilebilir."
   ]
  },
  {
   "cell_type": "markdown",
   "metadata": {},
   "source": [
    "**Örnek**"
   ]
  },
  {
   "cell_type": "code",
   "execution_count": 5,
   "metadata": {},
   "outputs": [],
   "source": [
    "# ÖRNEK 5 : Tek tırnak ve çift tırnak kullanımı\n",
    "\n",
    "x = \"John\"\n",
    "# şununla aynı\n",
    "x = 'John'"
   ]
  },
  {
   "cell_type": "code",
   "execution_count": 7,
   "metadata": {},
   "outputs": [
    {
     "name": "stdout",
     "output_type": "stream",
     "text": [
      "a:  4\n",
      "A:  Sally\n"
     ]
    }
   ],
   "source": [
    "# NOT : Harfe duyarlıdır ; değişken adları büyük ve küçük harfe duyarlıdır.\n",
    "\n",
    "a = 4\n",
    "A = \"Sally\"\n",
    "#A değişkenini değeri, a değişkenin değerinin üzerine yazılmayacak\n",
    "print(\"a: \",a)\n",
    "print(\"A: \",A)"
   ]
  },
  {
   "cell_type": "markdown",
   "metadata": {},
   "source": [
    "#### Python - Değişken Adları Koyma Kuralları\n",
    "Bir değişkenin kısa bir adı (x ve y gibi) veya daha açıklayıcı bir adı (yaş, carname, toplam_hacim) olabilir. Python değişkenleri için kurallar:\n",
    "\n",
    "Bir değişken adı bir harfle veya alt çizgi karakteriyle başlamalıdır.\n",
    "\n",
    "Bir değişken adı sayı ile başlayamaz.\n",
    "\n",
    "Bir değişken adı yalnızca alfa-sayısal karakterler ve alt çizgiler (Az, 0-9 ve _ ) içerebilir.\n",
    "\n",
    "Değişken adları büyük/küçük harfe duyarlıdır. (age, Age ve AGE üç farklı değişkendir)\n",
    "\n",
    "Bir değişken adı Python anahtar sözcüklerinden hiçbiri olamaz. (def, if, else, class vb.)"
   ]
  },
  {
   "cell_type": "code",
   "execution_count": 8,
   "metadata": {},
   "outputs": [],
   "source": [
    "# ÖRNEK 6 : Kullanılabilecek değişken adları\n",
    "\n",
    "myvar = \"John\"\n",
    "my_var = \"John\"\n",
    "_my_var = \"John\"\n",
    "myVar = \"John\"\n",
    "MYVAR = \"John\"\n",
    "myvar2 = \"John\""
   ]
  },
  {
   "cell_type": "code",
   "execution_count": 9,
   "metadata": {},
   "outputs": [
    {
     "ename": "SyntaxError",
     "evalue": "invalid decimal literal (3641975530.py, line 3)",
     "output_type": "error",
     "traceback": [
      "\u001b[1;36m  Cell \u001b[1;32mIn[9], line 3\u001b[1;36m\u001b[0m\n\u001b[1;33m    2myvar = \"John\"\u001b[0m\n\u001b[1;37m    ^\u001b[0m\n\u001b[1;31mSyntaxError\u001b[0m\u001b[1;31m:\u001b[0m invalid decimal literal\n"
     ]
    }
   ],
   "source": [
    "#  ÖRNEK 7 : Kullanılamayacak değişken adları\n",
    "\n",
    "2myvar = \"John\"\n",
    "my-var = \"John\"\n",
    "my var = \"John\"\n"
   ]
  },
  {
   "cell_type": "markdown",
   "metadata": {},
   "source": [
    "#### Çok Kelimeli Değişken Adları\n",
    "\n",
    "Birden fazla kelimeden oluşan değişken isimlerinin okunması zor olabilir.Bunları daha okunabilir hale getirmek için kullanabileceğiniz birkaç teknik var."
   ]
  },
  {
   "cell_type": "code",
   "execution_count": 10,
   "metadata": {},
   "outputs": [],
   "source": [
    "# 1- Camel Case : İlk kelime hariç her kelime büyük harfle başlar:\n",
    "\n",
    "# ÖRNEK 8 : Camel Case\n",
    "myVariableName = \"John\""
   ]
  },
  {
   "cell_type": "code",
   "execution_count": 11,
   "metadata": {},
   "outputs": [],
   "source": [
    "# 2- Pascal Case : Her kelime büyük harfle başlar:\n",
    "\n",
    "# ÖRNEK 9 : Pascal Case\n",
    "MyVariableName = \"John\""
   ]
  },
  {
   "cell_type": "code",
   "execution_count": 12,
   "metadata": {},
   "outputs": [],
   "source": [
    "# 3- Snake Case : Her kelime alt çizgi ile ayrılır:\n",
    "\n",
    "# ÖRNEK 10 : Snake Case\n",
    "y_variable_name = \"John\""
   ]
  },
  {
   "cell_type": "markdown",
   "metadata": {},
   "source": [
    "#### Python Değişkenleri - Birden Fazla Değer Atama"
   ]
  },
  {
   "cell_type": "code",
   "execution_count": 15,
   "metadata": {},
   "outputs": [
    {
     "name": "stdout",
     "output_type": "stream",
     "text": [
      "x:  Orange\n",
      "y:  Banana\n",
      "z:  Cherry\n"
     ]
    }
   ],
   "source": [
    "# 1 - Çoklu Değişken Atama : Çoklu Değişkenlere Birçok Değer Atama; Python, tek bir satırda birden fazla değişkene değer atamanıza olanak tanır.\n",
    "\n",
    "# ÖRNEK 11 : Çoklu Değişken Atama\n",
    "x, y, z = \"Orange\", \"Banana\", \"Cherry\"\n",
    "print(\"x: \",x)\n",
    "print(\"y: \",y)\n",
    "print(\"z: \",z)\n",
    "\n",
    "# NOT : Değişken sayısının değer sayısıyla aynı olduğundan emin olun, aksi takdirde hata alırsınız."
   ]
  },
  {
   "cell_type": "code",
   "execution_count": 16,
   "metadata": {},
   "outputs": [
    {
     "name": "stdout",
     "output_type": "stream",
     "text": [
      "x:  Orange\n",
      "y:  Orange\n",
      "z:  Orange\n"
     ]
    }
   ],
   "source": [
    "# 2 -  Aynı Değeri Birden Fazla Değişkene Atama : Aynı değeri birden fazla değişkene atayabilirsiniz.\n",
    "\n",
    "# ÖRNEK 12 : Aynı Değeri Birden Fazla Değişkene Atama\n",
    "x = y = z = \"Orange\"\n",
    "print(\"x: \",x)\n",
    "print(\"y: \",y)\n",
    "print(\"z: \",z)"
   ]
  },
  {
   "cell_type": "code",
   "execution_count": 17,
   "metadata": {},
   "outputs": [
    {
     "name": "stdout",
     "output_type": "stream",
     "text": [
      "x:  apple\n",
      "y:  banana\n",
      "z:  cherry\n"
     ]
    }
   ],
   "source": [
    "# 3 - Bir Veri Yapısından Değer Atama : Bir liste, demet veya dizi gibi bir veri yapısından birden fazla değişkene değer atayabilirsiniz.\n",
    "\n",
    "# ÖRNEK 13 : Bir Veri Yapısından Değer Atama\n",
    "fruits = [\"apple\", \"banana\", \"cherry\"]\n",
    "x, y, z = fruits\n",
    "print(\"x: \",x)\n",
    "print(\"y: \",y)\n",
    "print(\"z: \",z)"
   ]
  },
  {
   "cell_type": "markdown",
   "metadata": {},
   "source": [
    "#### Python - Çıktı Değişkenleri\n",
    "\n",
    "Pythonda \" print() \" fonksiyonu ile değişkenleri çıktı olarak görmek için kullanılır."
   ]
  },
  {
   "cell_type": "code",
   "execution_count": 18,
   "metadata": {},
   "outputs": [
    {
     "name": "stdout",
     "output_type": "stream",
     "text": [
      "Python is awesome\n"
     ]
    }
   ],
   "source": [
    "#  ÖRNEK 14 : \n",
    "x = \"Python is awesome\"\n",
    "print(x)"
   ]
  },
  {
   "cell_type": "code",
   "execution_count": 19,
   "metadata": {},
   "outputs": [
    {
     "name": "stdout",
     "output_type": "stream",
     "text": [
      "Python is awesome\n"
     ]
    }
   ],
   "source": [
    "# NOT : print() fonksiyonunda, virgülle ayrılmış birden fazla değişken çıktısı alabilirsiniz.\n",
    "\n",
    "x = \"Python\"\n",
    "y = \"is\"\n",
    "z = \"awesome\"\n",
    "print(x, y, z)"
   ]
  },
  {
   "cell_type": "code",
   "execution_count": 20,
   "metadata": {},
   "outputs": [
    {
     "name": "stdout",
     "output_type": "stream",
     "text": [
      "Python is awesome\n"
     ]
    }
   ],
   "source": [
    "# NOT : + operatörü, değişkenlerin değerlerini birleştirmek için kullanılabilir.\n",
    "\n",
    "# ÖRNEK 15 : + operatörü\n",
    "x = \"Python \"\n",
    "y = \"is \"\n",
    "z = \"awesome\"\n",
    "print(x + y + z)"
   ]
  },
  {
   "cell_type": "code",
   "execution_count": 22,
   "metadata": {},
   "outputs": [
    {
     "name": "stdout",
     "output_type": "stream",
     "text": [
      "15\n"
     ]
    }
   ],
   "source": [
    "# NOT : Değişkenlerin değerlerini toplamak için + operatörünü kullanabilirsiniz.\n",
    "\n",
    "# ÖRNEK 16 : Değişkenlerin değerlerini toplamak\n",
    "x = 5\n",
    "y = 10\n",
    "print(x + y)"
   ]
  },
  {
   "cell_type": "code",
   "execution_count": 23,
   "metadata": {},
   "outputs": [
    {
     "ename": "TypeError",
     "evalue": "unsupported operand type(s) for +: 'int' and 'str'",
     "output_type": "error",
     "traceback": [
      "\u001b[1;31m---------------------------------------------------------------------------\u001b[0m",
      "\u001b[1;31mTypeError\u001b[0m                                 Traceback (most recent call last)",
      "Cell \u001b[1;32mIn[23], line 6\u001b[0m\n\u001b[0;32m      4\u001b[0m x \u001b[38;5;241m=\u001b[39m \u001b[38;5;241m5\u001b[39m\n\u001b[0;32m      5\u001b[0m y \u001b[38;5;241m=\u001b[39m \u001b[38;5;124m\"\u001b[39m\u001b[38;5;124mJohn\u001b[39m\u001b[38;5;124m\"\u001b[39m\n\u001b[1;32m----> 6\u001b[0m \u001b[38;5;28mprint\u001b[39m(\u001b[43mx\u001b[49m\u001b[43m \u001b[49m\u001b[38;5;241;43m+\u001b[39;49m\u001b[43m \u001b[49m\u001b[43my\u001b[49m)\n",
      "\u001b[1;31mTypeError\u001b[0m: unsupported operand type(s) for +: 'int' and 'str'"
     ]
    }
   ],
   "source": [
    "# NOT : Değişkenlerin değerlerini toplamak için + operatörünü kullanabilirsiniz. Ancak değişkenlerin değerleri farklı türlerdeyse hata alırsınız.\n",
    "\n",
    "# ÖRNEK 17 : Hatalı kullanım\n",
    "x = 5\n",
    "y = \"John\"\n",
    "print(x + y)\n"
   ]
  },
  {
   "cell_type": "markdown",
   "metadata": {},
   "source": [
    "## ////// EXTRA \\\\\\\\\\\\\\"
   ]
  },
  {
   "cell_type": "markdown",
   "metadata": {},
   "source": [
    "## Global Değişkenler\n",
    "Bir fonksiyonun dışında oluşturulan değişkenlere global değişkenler denir.Global değişkenler herkes tarafından, hem fonksiyonların içinde hem de dışında kullanılabilir."
   ]
  },
  {
   "cell_type": "markdown",
   "metadata": {},
   "source": [
    "**Örnek\n",
    "Bir fonksiyonun dışında bir değişken oluşturun ve onu fonksiyonun içinde kullanın**"
   ]
  },
  {
   "cell_type": "code",
   "execution_count": 24,
   "metadata": {},
   "outputs": [
    {
     "name": "stdout",
     "output_type": "stream",
     "text": [
      "Python is awesome\n"
     ]
    }
   ],
   "source": [
    "# ÖRNEK 18 : Global değişkenler ; Fonksiyonlar, global değişkenlerle çalışabilir.\n",
    "\n",
    "x = \"awesome\"\n",
    "\n",
    "def myfunc():\n",
    "  print(\"Python is \" + x)\n",
    "\n",
    "myfunc()"
   ]
  },
  {
   "cell_type": "markdown",
   "metadata": {},
   "source": [
    "Bir fonksiyon içinde aynı isimde bir değişken oluşturursanız, bu değişken yerel olur ve yalnızca fonksiyon içinde kullanılabilir. Aynı isimde global değişken olduğu gibi global ve orijinal değerle kalır."
   ]
  },
  {
   "cell_type": "markdown",
   "metadata": {},
   "source": [
    "**Örnek\n",
    "Bir fonksiyonun içinde, global değişkenle aynı adı taşıyan bir değişken oluşturun**"
   ]
  },
  {
   "cell_type": "code",
   "execution_count": 24,
   "metadata": {},
   "outputs": [
    {
     "name": "stdout",
     "output_type": "stream",
     "text": [
      "Python is fantastic\n",
      "Python is awesome\n"
     ]
    }
   ],
   "source": [
    "x = \"awesome\"\n",
    "\n",
    "def myfunc():\n",
    "  x = \"fantastic\"\n",
    "  print(\"Python is \" + x)\n",
    "\n",
    "myfunc()\n",
    "\n",
    "print(\"Python is \" + x)"
   ]
  },
  {
   "cell_type": "markdown",
   "metadata": {},
   "source": [
    "### Global Keyword/Anahtar kelime"
   ]
  },
  {
   "cell_type": "markdown",
   "metadata": {},
   "source": [
    "Normalde bir fonksiyonun içerisinde bir değişken oluşturduğunuzda, bu değişken yereldir ve yalnızca o fonksiyonun içerisinde kullanılabilir.\n",
    "\n",
    "Bir fonksiyon içerisinde global değişken oluşturmak için anahtar kelimesini kullanabilirsiniz global."
   ]
  },
  {
   "cell_type": "markdown",
   "metadata": {},
   "source": [
    "**Örnek\n",
    "Anahtar sözcüğünü kullanırsanız global, değişken global kapsama ait olur:**"
   ]
  },
  {
   "cell_type": "code",
   "execution_count": 25,
   "metadata": {},
   "outputs": [
    {
     "name": "stdout",
     "output_type": "stream",
     "text": [
      "Python is fantastic\n"
     ]
    }
   ],
   "source": [
    "def myfunc():\n",
    "  global x\n",
    "  x = \"fantastic\"\n",
    "\n",
    "myfunc()\n",
    "\n",
    "print(\"Python is \" + x)"
   ]
  },
  {
   "cell_type": "markdown",
   "metadata": {},
   "source": [
    "Ayrıca, globalbir fonksiyon içerisinde global bir değişkeni değiştirmek istiyorsanız anahtar kelimeyi kullanın.\n"
   ]
  },
  {
   "cell_type": "markdown",
   "metadata": {},
   "source": [
    "**Örnek\n",
    "Bir fonksiyon içindeki global değişkenin değerini değiştirmek için, değişkene şu globalanahtar sözcüğü kullanarak başvurun:**"
   ]
  },
  {
   "cell_type": "code",
   "execution_count": 26,
   "metadata": {},
   "outputs": [
    {
     "name": "stdout",
     "output_type": "stream",
     "text": [
      "Python is fantastic\n"
     ]
    }
   ],
   "source": [
    "x = \"awesome\"\n",
    "\n",
    "def myfunc():\n",
    "  global x\n",
    "  x = \"fantastic\"\n",
    "\n",
    "myfunc()\n",
    "\n",
    "print(\"Python is \" + x)"
   ]
  }
 ],
 "metadata": {
  "kernelspec": {
   "display_name": "Python 3",
   "language": "python",
   "name": "python3"
  },
  "language_info": {
   "codemirror_mode": {
    "name": "ipython",
    "version": 3
   },
   "file_extension": ".py",
   "mimetype": "text/x-python",
   "name": "python",
   "nbconvert_exporter": "python",
   "pygments_lexer": "ipython3",
   "version": "3.11.4"
  }
 },
 "nbformat": 4,
 "nbformat_minor": 2
}
