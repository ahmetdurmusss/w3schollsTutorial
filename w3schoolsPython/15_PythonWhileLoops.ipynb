{
 "cells": [
  {
   "cell_type": "markdown",
   "metadata": {},
   "source": [
    "## PYTHON WHILE DÖNGÜLERİ\n",
    "\n",
    "\" while \" döngüsü ile bir koşul doğru olduğu sürece bir dizi ifadeyi çalıştırabiliriz."
   ]
  },
  {
   "cell_type": "code",
   "execution_count": 3,
   "metadata": {},
   "outputs": [
    {
     "name": "stdout",
     "output_type": "stream",
     "text": [
      "1\n",
      "2\n",
      "3\n",
      "4\n",
      "5\n"
     ]
    }
   ],
   "source": [
    "# ÖRNEK 1 : While döngüsü kullanarak 1'den 5'e kadar olan sayıları yazdırın.\n",
    "\n",
    "i = 1 # Sayaç başlangıç değeri. while döngüsü için gerekli.\n",
    "while i < 6: # 6 dahil değil\n",
    "  print(i) # i'yi yazdır\n",
    "  i += 1 # Sayaç arttırma \n",
    "  \n",
    "# NOT : i'yi artırmayı unutmayın, aksi takdirde döngü sonsuza kadar devam eder."
   ]
  },
  {
   "cell_type": "markdown",
   "metadata": {},
   "source": [
    "#### break Komutu\n",
    "break ifadesiyle while koşulu doğru olsa bile döngüyü durdurabiliriz."
   ]
  },
  {
   "cell_type": "code",
   "execution_count": 4,
   "metadata": {},
   "outputs": [
    {
     "name": "stdout",
     "output_type": "stream",
     "text": [
      "1\n",
      "2\n",
      "3\n"
     ]
    }
   ],
   "source": [
    "# ÖRNEK 2 : While döngüsü kullanarak 1'den 5'e kadar olan sayıları yazdırın, ancak 3. sayıyı yazdırdıktan sonra döngüyü durdurun.\n",
    "i = 1\n",
    "while i < 6:\n",
    "  print(i)\n",
    "  if i == 3:\n",
    "    break\n",
    "  i += 1\n",
    "  "
   ]
  },
  {
   "cell_type": "markdown",
   "metadata": {},
   "source": [
    "#### continue Komutu\n",
    "continue ifadesiyle mevcut yinelemeyi durdurabilir ve bir sonrakine devam edebiliriz:"
   ]
  },
  {
   "cell_type": "code",
   "execution_count": 5,
   "metadata": {},
   "outputs": [
    {
     "name": "stdout",
     "output_type": "stream",
     "text": [
      "1\n",
      "2\n",
      "4\n",
      "5\n",
      "6\n"
     ]
    }
   ],
   "source": [
    "# ÖRNEK 3 : While döngüsü kullanarak 1'den 5'e kadar olan sayıları yazdırın, ancak 3. sayıyı yazdırmayın.\n",
    "\n",
    "i = 0\n",
    "while i < 6:\n",
    "  i += 1\n",
    "  if i == 3:\n",
    "    continue\n",
    "  print(i)\n"
   ]
  },
  {
   "cell_type": "markdown",
   "metadata": {},
   "source": [
    "#### while Döngüsünde else Karar Yapsıı\n",
    "\n",
    "\" else \" ifadesiyle, koşul artık doğru olmadığında bir kod bloğunu bir kez çalıştırabiliriz:"
   ]
  },
  {
   "cell_type": "code",
   "execution_count": 6,
   "metadata": {},
   "outputs": [
    {
     "name": "stdout",
     "output_type": "stream",
     "text": [
      "1\n",
      "2\n",
      "3\n",
      "4\n",
      "5\n",
      "i is no longer less than 6\n"
     ]
    }
   ],
   "source": [
    "# ÖRNEK 4 : While döngüsü kullanarak 1'den 5'e kadar olan sayıları yazdırın, ancak döngü bittiğinde bir mesaj yazdırın.\n",
    "\n",
    "i = 1\n",
    "while i < 6:\n",
    "  print(i)\n",
    "  i += 1\n",
    "else:\n",
    "  print(\"i is no longer less than 6\")\n",
    "\n",
    "  "
   ]
  }
 ],
 "metadata": {
  "kernelspec": {
   "display_name": "Python 3",
   "language": "python",
   "name": "python3"
  },
  "language_info": {
   "codemirror_mode": {
    "name": "ipython",
    "version": 3
   },
   "file_extension": ".py",
   "mimetype": "text/x-python",
   "name": "python",
   "nbconvert_exporter": "python",
   "pygments_lexer": "ipython3",
   "version": "3.11.4"
  }
 },
 "nbformat": 4,
 "nbformat_minor": 2
}
