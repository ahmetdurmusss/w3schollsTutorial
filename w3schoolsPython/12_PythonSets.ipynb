{
 "cells": [
  {
   "cell_type": "markdown",
   "metadata": {},
   "source": [
    "## PYTHON KÜMELER (SETS)\n",
    "\n",
    "Kümeler, birden fazla öğeyi tek bir değişkende saklamak için kullanılır.Set, Python'da veri koleksiyonlarını depolamak için kullanılan 4 yerleşik veri türünden biridir; diğer 3'ü List , Tuple ve Dictionary'dir ve hepsinin farklı nitelikleri ve kullanımları vardır.\n",
    "\n",
    "Küme, *sıralanmamış , değiştirilemez ve dizinlenmemiş* bir koleksiyondur .\n",
    "\n",
    "Küme, *öğeleri değiştirilemez, ancak öğeleri kaldırabilir ve yeni öğeler* ekleyebilirsiniz."
   ]
  },
  {
   "cell_type": "code",
   "execution_count": 4,
   "metadata": {},
   "outputs": [
    {
     "name": "stdout",
     "output_type": "stream",
     "text": [
      "{'banana', 'apple', 'cherry'}\n"
     ]
    }
   ],
   "source": [
    "# ÖRNEK 1 : Küme tanımlama\n",
    "myset = {\"apple\", \"banana\", \"cherry\"} # kümeler süslü parantez ile tanımlanır\n",
    "print(myset)"
   ]
  },
  {
   "cell_type": "code",
   "execution_count": 14,
   "metadata": {},
   "outputs": [
    {
     "name": "stdout",
     "output_type": "stream",
     "text": [
      "{'banana', 'apple', 'cherry'}\n"
     ]
    }
   ],
   "source": [
    "# ÖRNEK 2 : Küme oluşturma , set() fonksiyonu ile\n",
    "thisset = set((\"apple\", \"banana\", \"cherry\")) # set() fonksiyonu ile küme oluşturulabilir\n",
    "print(thisset)"
   ]
  },
  {
   "cell_type": "markdown",
   "metadata": {},
   "source": [
    "1) Küme öğeleri sıralanmamış, değiştirilemez ve yinelenen değerlere izin vermez.\n",
    "2) Sıralanmamış, bir kümedeki öğelerin belirli bir sıraya sahip olmaması anlamına gelir.Küme öğeleri her kullandığınızda farklı bir sırayla görünebilir ve bunlara dizin veya anahtarla başvurulamaz.\n",
    "3) Küme öğeleri değiştirilemezdir, yani küme oluşturulduktan sonra öğeleri değiştiremeyiz.Bir küme oluşturulduktan sonra, içindeki öğeleri değiştiremezsiniz; ancak öğeleri kaldırabilir ve yeni öğeler ekleyebilirsiniz.\n",
    "4) Kümeler aynı değere sahip iki öğeye sahip olamaz."
   ]
  },
  {
   "cell_type": "code",
   "execution_count": 15,
   "metadata": {},
   "outputs": [
    {
     "name": "stdout",
     "output_type": "stream",
     "text": [
      "{'banana', 'apple', 'cherry'}\n"
     ]
    }
   ],
   "source": [
    "# ÖRNEK 3 : Küme elemanlarında tekrar olmaz\n",
    "thisset = {\"apple\", \"banana\", \"cherry\", \"apple\"}\n",
    "\n",
    "print(thisset)"
   ]
  },
  {
   "cell_type": "markdown",
   "metadata": {},
   "source": [
    "Not:True ve değerleri 1kümelerde aynı değer olarak kabul edilir ve yinelenenler olarak ele alınır:"
   ]
  },
  {
   "cell_type": "markdown",
   "metadata": {},
   "source": [
    "**Örnek\n",
    "True ve 1aynı değerde kabul edilir:**"
   ]
  },
  {
   "cell_type": "code",
   "execution_count": 16,
   "metadata": {},
   "outputs": [
    {
     "name": "stdout",
     "output_type": "stream",
     "text": [
      "{'banana', True, 2, 'cherry', 'apple'}\n"
     ]
    }
   ],
   "source": [
    "# NOT : TRUE ve 1 aynı eleman olarak kabul edilir. Aynı şekilde FALSE ve 0 aynı eleman olarak kabul edilir.\n",
    "\n",
    "# ÖRNEK 4 : Küme elemanları farklı veri tiplerinden olabilir\n",
    "thisset = {\"apple\", \"banana\", \"cherry\", True, 1, 2}\n",
    "print(thisset)"
   ]
  },
  {
   "cell_type": "code",
   "execution_count": 17,
   "metadata": {},
   "outputs": [
    {
     "name": "stdout",
     "output_type": "stream",
     "text": [
      "{'banana', False, True, 'cherry', 'apple'}\n"
     ]
    }
   ],
   "source": [
    "# ÖRNEK 5 : Küme elemanları farklı veri tiplerinden olabilir\n",
    "thisset = {\"apple\", \"banana\", \"cherry\", False, True, 0}\n",
    "\n",
    "print(thisset)"
   ]
  },
  {
   "cell_type": "markdown",
   "metadata": {},
   "source": [
    "#### Bir Setin Uzunluğu\n",
    "Bir kümenin kaç öğeden oluştuğunu belirlemek için \" len() \" fonksiyonu kullanın."
   ]
  },
  {
   "cell_type": "code",
   "execution_count": 18,
   "metadata": {},
   "outputs": [
    {
     "name": "stdout",
     "output_type": "stream",
     "text": [
      "3\n"
     ]
    }
   ],
   "source": [
    "# ÖRNEK 6 : Kümedeki eleman sayısını bulma\n",
    "thisset = {\"apple\", \"banana\", \"cherry\"}\n",
    "print(len(thisset))"
   ]
  },
  {
   "cell_type": "markdown",
   "metadata": {},
   "source": [
    "#### Kümelerde Öğelerin Veri Türleri\n",
    "Küme öğeleri herhangi bir veri türünde olabilir."
   ]
  },
  {
   "cell_type": "code",
   "execution_count": 19,
   "metadata": {},
   "outputs": [],
   "source": [
    "# ÖRNEK 7 : Küme elemanları farklı veri tiplerinden olabilir\n",
    "\n",
    "set1 = {\"apple\", \"banana\", \"cherry\"} # string\n",
    "set2 = {1, 5, 7, 9, 3} # integer \n",
    "set3 = {True, False, False} # boolean"
   ]
  },
  {
   "cell_type": "code",
   "execution_count": 20,
   "metadata": {},
   "outputs": [],
   "source": [
    "# ÖRNEK 8 : Küme elemanları farklı veri tiplerinden olabilir\n",
    "set1 = {\"abc\", 34, True, 40, \"male\"}"
   ]
  },
  {
   "cell_type": "markdown",
   "metadata": {},
   "source": [
    "#### Küme Öğelerine Erişim\n",
    "Bir kümedeki öğelere bir indekse veya anahtara başvurarak erişemezsiniz. Ancak bir \" for \" döngüsü kullanarak küme öğeleri arasında dolaşabilir veya anahtar sözcük kullanarak belirtilen bir değerin bir kümede mevcut olup olmadığını sorabilirsiniz."
   ]
  },
  {
   "cell_type": "code",
   "execution_count": 21,
   "metadata": {},
   "outputs": [
    {
     "name": "stdout",
     "output_type": "stream",
     "text": [
      "banana\n",
      "apple\n",
      "cherry\n"
     ]
    }
   ],
   "source": [
    "# ÖRNEK 9 : Küme elemanlarını yazdırma\n",
    "thisset = {\"apple\", \"banana\", \"cherry\"}\n",
    "\n",
    "for x in thisset:\n",
    "  print(x)"
   ]
  },
  {
   "cell_type": "code",
   "execution_count": 23,
   "metadata": {},
   "outputs": [
    {
     "name": "stdout",
     "output_type": "stream",
     "text": [
      "True\n"
     ]
    }
   ],
   "source": [
    "# ÖRNEK 10 : \"banana\" elemanı kümede var mı yok mu kontrolü\n",
    "hisset = {\"apple\", \"banana\", \"cherry\"}\n",
    "\n",
    "print(\"banana\" in thisset) # \"banana\" elemanı kümede var mı yok mu kontrolü. True sonucu döner."
   ]
  },
  {
   "cell_type": "code",
   "execution_count": 24,
   "metadata": {},
   "outputs": [
    {
     "name": "stdout",
     "output_type": "stream",
     "text": [
      "False\n"
     ]
    }
   ],
   "source": [
    "# ÖRNEK 11 : \"banana\" elemanı kümede var mı yok mu kontrolü\n",
    "thisset = {\"apple\", \"banana\", \"cherry\"}\n",
    "print(\"banana\" not in thisset) # \"banana\" elemanı kümede var mı yok mu kontrolü. False döner."
   ]
  },
  {
   "cell_type": "markdown",
   "metadata": {},
   "source": [
    "#### Kümeye Eleman Ekleme\n",
    "Bir set oluşturulduktan sonra içindeki öğeleri değiştiremezsiniz, ancak yeni öğeler ekleyebilirsiniz."
   ]
  },
  {
   "cell_type": "code",
   "execution_count": 25,
   "metadata": {},
   "outputs": [
    {
     "name": "stdout",
     "output_type": "stream",
     "text": [
      "{'banana', 'apple', 'cherry', 'orange'}\n"
     ]
    }
   ],
   "source": [
    "# 1 - add() : Kümeye eleman eklemek için kullanılır.\n",
    "\n",
    "# ÖRNEK 12 : add() fonksiyonu ile küme elemanı eklemek\n",
    "thisset = {\"apple\", \"banana\", \"cherry\"}\n",
    "thisset.add(\"orange\")\n",
    "\n",
    "print(thisset)"
   ]
  },
  {
   "cell_type": "code",
   "execution_count": 26,
   "metadata": {},
   "outputs": [
    {
     "name": "stdout",
     "output_type": "stream",
     "text": [
      "{'banana', 'papaya', 'cherry', 'mango', 'pineapple', 'apple'}\n"
     ]
    }
   ],
   "source": [
    "# 2 - update() : Kümeye birden fazla eleman eklemek için kullanılır.\n",
    "\n",
    "# ÖRNEK 13 : update() fonksiyonu ile küme elemanı eklemek\n",
    "thisset = {\"apple\", \"banana\", \"cherry\"}\n",
    "tropical = {\"pineapple\", \"mango\", \"papaya\"}\n",
    "thisset.update(tropical)\n",
    "\n",
    "print(thisset)"
   ]
  },
  {
   "cell_type": "code",
   "execution_count": 28,
   "metadata": {},
   "outputs": [
    {
     "name": "stdout",
     "output_type": "stream",
     "text": [
      "{'banana', 'kiwi', 'apple', 'cherry', 'orange'}\n"
     ]
    }
   ],
   "source": [
    "# NOT : update() fonksionu ile kümeye liste, tuple, dictionary eklemek mümkündür.\n",
    "\n",
    "thisset = {\"apple\", \"banana\", \"cherry\"} # küme\n",
    "mylist = [\"kiwi\", \"orange\"] # liste\n",
    "\n",
    "thisset.update(mylist) # liste ekleme\n",
    "\n",
    "print(thisset) # küme elemanları"
   ]
  },
  {
   "cell_type": "markdown",
   "metadata": {},
   "source": [
    "#### Küme Öğelerini Kaldır"
   ]
  },
  {
   "cell_type": "code",
   "execution_count": 29,
   "metadata": {},
   "outputs": [
    {
     "name": "stdout",
     "output_type": "stream",
     "text": [
      "{'apple', 'cherry'}\n"
     ]
    }
   ],
   "source": [
    "# 1 - remove() : Kümeye eleman silmek için\n",
    "\n",
    "thisset = {\"apple\", \"banana\", \"cherry\"}\n",
    "thisset.remove(\"banana\") # \"banana\" elemanını siler\n",
    "\n",
    "print(thisset)"
   ]
  },
  {
   "cell_type": "code",
   "execution_count": 31,
   "metadata": {},
   "outputs": [
    {
     "ename": "KeyError",
     "evalue": "'strawberry'",
     "output_type": "error",
     "traceback": [
      "\u001b[1;31m---------------------------------------------------------------------------\u001b[0m",
      "\u001b[1;31mKeyError\u001b[0m                                  Traceback (most recent call last)",
      "Cell \u001b[1;32mIn[31], line 4\u001b[0m\n\u001b[0;32m      1\u001b[0m \u001b[38;5;66;03m# NOT : Kaldırılacak eleman kümede yoksa hata verir.\u001b[39;00m\n\u001b[0;32m      3\u001b[0m thisset \u001b[38;5;241m=\u001b[39m {\u001b[38;5;124m\"\u001b[39m\u001b[38;5;124mapple\u001b[39m\u001b[38;5;124m\"\u001b[39m, \u001b[38;5;124m\"\u001b[39m\u001b[38;5;124mbanana\u001b[39m\u001b[38;5;124m\"\u001b[39m, \u001b[38;5;124m\"\u001b[39m\u001b[38;5;124mcherry\u001b[39m\u001b[38;5;124m\"\u001b[39m}\n\u001b[1;32m----> 4\u001b[0m \u001b[43mthisset\u001b[49m\u001b[38;5;241;43m.\u001b[39;49m\u001b[43mremove\u001b[49m\u001b[43m(\u001b[49m\u001b[38;5;124;43m\"\u001b[39;49m\u001b[38;5;124;43mstrawberry\u001b[39;49m\u001b[38;5;124;43m\"\u001b[39;49m\u001b[43m)\u001b[49m \u001b[38;5;66;03m# \"strawberry\" elemanını siler\u001b[39;00m\n\u001b[0;32m      5\u001b[0m \u001b[38;5;28mprint\u001b[39m(thisset)\n",
      "\u001b[1;31mKeyError\u001b[0m: 'strawberry'"
     ]
    }
   ],
   "source": [
    "# NOT : Kaldırılacak eleman kümede yoksa hata verir.\n",
    "\n",
    "thisset = {\"apple\", \"banana\", \"cherry\"}\n",
    "thisset.remove(\"strawberry\") # \"strawberry\" elemanını siler\n",
    "print(thisset)"
   ]
  },
  {
   "cell_type": "code",
   "execution_count": 32,
   "metadata": {},
   "outputs": [
    {
     "name": "stdout",
     "output_type": "stream",
     "text": [
      "{'banana', 'apple', 'cherry'}\n"
     ]
    }
   ],
   "source": [
    "# 2 - discard() : Kümeye eleman silmek için kullanılır. Kaldırılacak eleman kümede yoksa hata vermez.\n",
    "\n",
    "thisset = {\"apple\", \"banana\", \"cherry\"}\n",
    "thisset.discard(\"strawberry\") # \"strawberry\" elemanını siler\n",
    "print(thisset)"
   ]
  },
  {
   "cell_type": "code",
   "execution_count": 35,
   "metadata": {},
   "outputs": [
    {
     "name": "stdout",
     "output_type": "stream",
     "text": [
      "banana\n",
      "{'apple', 'cherry'}\n"
     ]
    }
   ],
   "source": [
    "# 3 - pop() : Kümeden rastgele bir eleman siler.\n",
    "\n",
    "# ÖRNEK 14 : pop() fonksiyonu ile kümeden rastgele bir eleman silme\n",
    "thisset = {\"apple\", \"banana\", \"cherry\"}\n",
    "x = thisset.pop() # rastgele bir eleman siler. Silinen elemanı x değişkenine atar.\n",
    "print(x)\n",
    "print(thisset)"
   ]
  },
  {
   "cell_type": "code",
   "execution_count": 36,
   "metadata": {},
   "outputs": [
    {
     "name": "stdout",
     "output_type": "stream",
     "text": [
      "set()\n"
     ]
    }
   ],
   "source": [
    "# 4 - clear() : Kümedeki tüm elemanları siler.\n",
    "\n",
    "# ÖRNEK 15 : clear() fonksiyonu ile kümedeki tüm elemanları silme\n",
    "thisset = {\"apple\", \"banana\", \"cherry\"}\n",
    "thisset.clear()\n",
    "print(thisset)\n"
   ]
  },
  {
   "cell_type": "code",
   "execution_count": 38,
   "metadata": {},
   "outputs": [
    {
     "ename": "NameError",
     "evalue": "name 'thisset' is not defined",
     "output_type": "error",
     "traceback": [
      "\u001b[1;31m---------------------------------------------------------------------------\u001b[0m",
      "\u001b[1;31mNameError\u001b[0m                                 Traceback (most recent call last)",
      "Cell \u001b[1;32mIn[38], line 6\u001b[0m\n\u001b[0;32m      4\u001b[0m thisset \u001b[38;5;241m=\u001b[39m {\u001b[38;5;124m\"\u001b[39m\u001b[38;5;124mapple\u001b[39m\u001b[38;5;124m\"\u001b[39m, \u001b[38;5;124m\"\u001b[39m\u001b[38;5;124mbanana\u001b[39m\u001b[38;5;124m\"\u001b[39m, \u001b[38;5;124m\"\u001b[39m\u001b[38;5;124mcherry\u001b[39m\u001b[38;5;124m\"\u001b[39m}\n\u001b[0;32m      5\u001b[0m \u001b[38;5;28;01mdel\u001b[39;00m thisset\n\u001b[1;32m----> 6\u001b[0m \u001b[38;5;28mprint\u001b[39m(\u001b[43mthisset\u001b[49m) \u001b[38;5;66;03m# hata verir. Küme silindi.\u001b[39;00m\n",
      "\u001b[1;31mNameError\u001b[0m: name 'thisset' is not defined"
     ]
    }
   ],
   "source": [
    "# 5 - del : Küme elemanlarını silme\n",
    "\n",
    "# ÖRNEK 16 : del ile küme elemanlarını silme\n",
    "thisset = {\"apple\", \"banana\", \"cherry\"}\n",
    "del thisset\n",
    "print(thisset) # hata verir. Küme silindi."
   ]
  },
  {
   "cell_type": "markdown",
   "metadata": {},
   "source": [
    "#### Kümelerde Döngü İşlemleri"
   ]
  },
  {
   "cell_type": "code",
   "execution_count": 39,
   "metadata": {},
   "outputs": [
    {
     "name": "stdout",
     "output_type": "stream",
     "text": [
      "banana\n",
      "apple\n",
      "cherry\n"
     ]
    }
   ],
   "source": [
    "# FOR DÖNGÜSÜ : Kümeler için for döngüsü kullanımı\n",
    "\n",
    "thisset = {\"apple\", \"banana\", \"cherry\"}\n",
    "for x in thisset: # x değişkeni küme elemanlarını tutar.\n",
    "  print(x)  # küme elemanlarını yazdırır."
   ]
  },
  {
   "cell_type": "markdown",
   "metadata": {},
   "source": [
    "#### Kümeleri Birleştirme\n",
    "\n",
    "Python'da iki veya daha fazla kümeyi birleştirmenin çeşitli yolları vardır.\n",
    "1) union() ve update() yöntemleri her iki kümedeki tüm öğeleri birleştirir.\n",
    "2) intersection() yöntemi sadece kesişimleri turar.\n",
    "3) difference() diğer kümede olmayan değerleri tutar.\n",
    "4) symmetric_difference() iki kümenin kesişimi hariç diğer tüm elemanları tutar."
   ]
  },
  {
   "cell_type": "code",
   "execution_count": 40,
   "metadata": {},
   "outputs": [
    {
     "name": "stdout",
     "output_type": "stream",
     "text": [
      "{'b', 1, 2, 3, 'c', 'a'}\n"
     ]
    }
   ],
   "source": [
    "# 1- union() : İki kümenin birleşimini almak için kullanılır.\n",
    "\n",
    "# ÖRNEK 17 : union() fonksiyonu ile iki kümenin birleşimini almak\n",
    "set1 = {\"a\", \"b\", \"c\"}\n",
    "set2 = {1, 2, 3}\n",
    "\n",
    "set3 = set1.union(set2)\n",
    "print(set3)"
   ]
  },
  {
   "cell_type": "code",
   "execution_count": 41,
   "metadata": {},
   "outputs": [
    {
     "name": "stdout",
     "output_type": "stream",
     "text": [
      "{'b', 1, 2, 3, 'c', 'a'}\n"
     ]
    }
   ],
   "source": [
    "# 2- | operatörü : İki kümenin birleşimini almak için kullanılır.\n",
    "\n",
    "# ÖRNEK 18 : | operatörü ile iki kümenin birleşimini almak\n",
    "set1 = {\"a\", \"b\", \"c\"}\n",
    "set2 = {1, 2, 3}\n",
    "\n",
    "set3 = set1 | set2\n",
    "print(set3)"
   ]
  },
  {
   "cell_type": "code",
   "execution_count": 42,
   "metadata": {},
   "outputs": [
    {
     "name": "stdout",
     "output_type": "stream",
     "text": [
      "{1, 2, 3, 'bananas', 'apple', 'Elena', 'John', 'c', 'b', 'a', 'cherry'}\n"
     ]
    }
   ],
   "source": [
    "# NOT : union() fonksiyonu ile birden fazla kümenin birleşimini almak mümkündür.\n",
    "\n",
    "# ÖRNEK 19 : union() fonksiyonu ile birden fazla kümenin birleşimini almak\n",
    "set1 = {\"a\", \"b\", \"c\"}\n",
    "set2 = {1, 2, 3}\n",
    "set3 = {\"John\", \"Elena\"}\n",
    "set4 = {\"apple\", \"bananas\", \"cherry\"}\n",
    "\n",
    "myset = set1.union(set2, set3, set4)\n",
    "print(myset)"
   ]
  },
  {
   "cell_type": "code",
   "execution_count": 45,
   "metadata": {},
   "outputs": [
    {
     "name": "stdout",
     "output_type": "stream",
     "text": [
      "{1, 2, 3, 'bananas', 'apple', 'Elena', 'John', 'c', 'b', 'a', 'cherry'}\n"
     ]
    }
   ],
   "source": [
    "# NOT : | operatörü ile birden fazla kümenin birleşimini almak mümkündür. | operatörü yalnızca küme birleşimini alır.\n",
    "\n",
    "# ÖRNEK 19 : | operatörü ile birden fazla kümenin birleşimini almak\n",
    "set1 = {\"a\", \"b\", \"c\"}\n",
    "set2 = {1, 2, 3}\n",
    "set3 = {\"John\", \"Elena\"}\n",
    "set4 = {\"apple\", \"bananas\", \"cherry\"}\n",
    "\n",
    "myset = set1 | set2 | set3 |set4\n",
    "print(myset)"
   ]
  },
  {
   "cell_type": "code",
   "execution_count": 44,
   "metadata": {},
   "outputs": [
    {
     "name": "stdout",
     "output_type": "stream",
     "text": [
      "{1, 2, 3, 'c', 'a', 'b'}\n"
     ]
    }
   ],
   "source": [
    "# NOT : union() fonksiyonu ile farklı veri yapılarını da birleştirebiliriz.\n",
    "x = {\"a\", \"b\", \"c\"} # küme\n",
    "y = (1, 2, 3)  # tuple\n",
    "\n",
    "z = x.union(y)\n",
    "print(z)"
   ]
  },
  {
   "cell_type": "code",
   "execution_count": 47,
   "metadata": {},
   "outputs": [
    {
     "name": "stdout",
     "output_type": "stream",
     "text": [
      "{'b', 1, 2, 3, 'c', 'a'}\n"
     ]
    }
   ],
   "source": [
    "# 3 - update() : İki kümenin birleşimini almak için kullanılır.\n",
    "\n",
    "# ÖRNEK 20 : update() fonksiyonu ile iki kümenin birleşimini almak\n",
    "set1 = {\"a\", \"b\" , \"c\"}\n",
    "set2 = {1, 2, 3}\n",
    "\n",
    "set1.update(set2)\n",
    "print(set1)\n",
    "\n",
    "# NOT : Hem union()ve hem de update() kullanılması yinelenen öğeleri hariç tutacaktır."
   ]
  },
  {
   "cell_type": "code",
   "execution_count": 48,
   "metadata": {},
   "outputs": [
    {
     "name": "stdout",
     "output_type": "stream",
     "text": [
      "{'apple'}\n"
     ]
    }
   ],
   "source": [
    "# 4 - intersection() : İki kümenin kesişimini almak için kullanılır.\n",
    "\n",
    "# ÖRNEK 21 : intersection() fonksiyonu ile iki kümenin kesişimini almak\n",
    "set1 = {\"apple\", \"banana\", \"cherry\"}\n",
    "set2 = {\"google\", \"microsoft\", \"apple\"}\n",
    "\n",
    "set3 = set1.intersection(set2)\n",
    "print(set3)"
   ]
  },
  {
   "cell_type": "code",
   "execution_count": 51,
   "metadata": {},
   "outputs": [
    {
     "name": "stdout",
     "output_type": "stream",
     "text": [
      "{'apple'}\n"
     ]
    }
   ],
   "source": [
    "# 5 - & operatörü : İki kümenin kesişimini almak için kullanılır. Yalnızca kümeleri kümelerle birleştirmenize izin verir.\n",
    "\n",
    "# ÖRNEK 22 : & operatörü ile iki kümenin kesişimini almak\n",
    "set1 = {\"apple\", \"banana\", \"cherry\"}\n",
    "set2 = {\"google\", \"microsoft\", \"apple\"}\n",
    "\n",
    "set3 = set1 & set2\n",
    "print(set3)"
   ]
  },
  {
   "cell_type": "code",
   "execution_count": 52,
   "metadata": {},
   "outputs": [
    {
     "name": "stdout",
     "output_type": "stream",
     "text": [
      "{'apple'}\n"
     ]
    }
   ],
   "source": [
    "# 6 - intersection_update() : İki kümenin kesişimini almak için kullanılır.\n",
    "\n",
    "# ÖRNEK 23 : intersection_update() fonksiyonu ile iki kümenin kesişimini almak\n",
    "set1 = {\"apple\", \"banana\", \"cherry\"}\n",
    "set2 = {\"google\", \"microsoft\", \"apple\"}\n",
    "\n",
    "set1.intersection_update(set2)\n",
    "\n",
    "print(set1)"
   ]
  },
  {
   "cell_type": "code",
   "execution_count": 53,
   "metadata": {},
   "outputs": [
    {
     "name": "stdout",
     "output_type": "stream",
     "text": [
      "{'banana', 'cherry'}\n"
     ]
    }
   ],
   "source": [
    "# 7 - difference() : İki kümenin farkını almak için kullanılır.\n",
    "\n",
    "# ÖRNEK 24 : difference() fonksiyonu ile iki kümenin farkını almak\n",
    "set1 = {\"apple\", \"banana\", \"cherry\"}\n",
    "set2 = {\"google\", \"microsoft\", \"apple\"}\n",
    "\n",
    "set3 = set1.difference(set2)\n",
    "\n",
    "print(set3)\n"
   ]
  },
  {
   "cell_type": "code",
   "execution_count": 56,
   "metadata": {},
   "outputs": [
    {
     "name": "stdout",
     "output_type": "stream",
     "text": [
      "{'banana', 'cherry'}\n"
     ]
    }
   ],
   "source": [
    "# 8 - \" - \" operatörü : İki kümenin farkını almak için kullanılır. Yalnızca kümeleri kümelerle çıkarmamıza izin verir.\n",
    "\n",
    "# ÖRNEK 25 : \" - \" operatörü ile iki kümenin farkını almak\n",
    "set1 = {\"apple\", \"banana\", \"cherry\"}\n",
    "set2 = {\"google\", \"microsoft\", \"apple\"}\n",
    "\n",
    "set3 = set1 - set2\n",
    "print(set3)"
   ]
  },
  {
   "cell_type": "code",
   "execution_count": 57,
   "metadata": {},
   "outputs": [
    {
     "name": "stdout",
     "output_type": "stream",
     "text": [
      "{'banana', 'cherry'}\n"
     ]
    }
   ],
   "source": [
    "# 9 - difference_update() : İki kümenin farkını almak için kullanılır.\n",
    "\n",
    "# ÖRNEK 26 : difference_update() fonksiyonu ile iki kümenin farkını almak\n",
    "set1 = {\"apple\", \"banana\", \"cherry\"}\n",
    "set2 = {\"google\", \"microsoft\", \"apple\"}\n",
    "\n",
    "set1.difference_update(set2)\n",
    "\n",
    "print(set1)"
   ]
  },
  {
   "cell_type": "code",
   "execution_count": 58,
   "metadata": {},
   "outputs": [
    {
     "name": "stdout",
     "output_type": "stream",
     "text": [
      "{'banana', 'cherry', 'google', 'microsoft'}\n"
     ]
    }
   ],
   "source": [
    "# 10 - symmetric_difference() : İki kümenin simetrik farkını almak için kullanılır.\n",
    "\n",
    "# ÖRNEK 27 : symmetric_difference() fonksiyonu ile iki kümenin simetrik farkını almak\n",
    "set1 = {\"apple\", \"banana\", \"cherry\"}\n",
    "set2 = {\"google\", \"microsoft\", \"apple\"}\n",
    "\n",
    "set3 = set1.symmetric_difference(set2)\n",
    "\n",
    "print(set3)\n"
   ]
  },
  {
   "cell_type": "code",
   "execution_count": 59,
   "metadata": {},
   "outputs": [
    {
     "name": "stdout",
     "output_type": "stream",
     "text": [
      "{'banana', 'cherry', 'google', 'microsoft'}\n"
     ]
    }
   ],
   "source": [
    "# 11 - ^ operatörü : İki kümenin simetrik farkını almak için kullanılır. Yalnızca kümeleri kümelerle işlem yapmanıza izin verir.\n",
    "\n",
    "# ÖRNEK 28 : ^ operatörü ile iki kümenin simetrik farkını almak\n",
    "set1 = {\"apple\", \"banana\", \"cherry\"}\n",
    "set2 = {\"google\", \"microsoft\", \"apple\"}\n",
    "\n",
    "set3 = set1 ^ set2\n",
    "print(set3)"
   ]
  },
  {
   "cell_type": "code",
   "execution_count": 60,
   "metadata": {},
   "outputs": [
    {
     "name": "stdout",
     "output_type": "stream",
     "text": [
      "{'banana', 'cherry', 'google', 'microsoft'}\n"
     ]
    }
   ],
   "source": [
    "# 12 - symmetric_difference_update() : İki kümenin simetrik farkını almak için kullanılır.\n",
    "\n",
    "# ÖRNEK 29 : symmetric_difference_update() fonksiyonu ile iki kümenin simetrik farkını almak\n",
    "set1 = {\"apple\", \"banana\", \"cherry\"}\n",
    "set2 = {\"google\", \"microsoft\", \"apple\"}\n",
    "\n",
    "set1.symmetric_difference_update(set2)\n",
    "\n",
    "print(set1)"
   ]
  }
 ],
 "metadata": {
  "kernelspec": {
   "display_name": "Python 3",
   "language": "python",
   "name": "python3"
  },
  "language_info": {
   "codemirror_mode": {
    "name": "ipython",
    "version": 3
   },
   "file_extension": ".py",
   "mimetype": "text/x-python",
   "name": "python",
   "nbconvert_exporter": "python",
   "pygments_lexer": "ipython3",
   "version": "3.11.4"
  }
 },
 "nbformat": 4,
 "nbformat_minor": 2
}
