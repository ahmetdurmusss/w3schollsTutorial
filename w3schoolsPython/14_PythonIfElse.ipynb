{
 "cells": [
  {
   "cell_type": "markdown",
   "metadata": {},
   "source": [
    "## PYTHON KARAR YAPILARI (if,elif,else)\n",
    "\n",
    "Python, matematiğin genel mantıksal koşullarını destekler:\n",
    "\n",
    "1) Eşittir:             a == b\n",
    "2) Eşit Değil:          a != b\n",
    "3) Daha az:             a < b\n",
    "4) Küçük veya eşit:     a <= b\n",
    "5) Büyüktür:            a > b\n",
    "6) Büyük veya eşit:     a >= b\n",
    "\n",
    "Bu koşullar çeşitli şekillerde kullanılabilir, en yaygın olarak \"if ifadelerinde\" ve döngülerde kullanılır."
   ]
  },
  {
   "cell_type": "markdown",
   "metadata": {},
   "source": [
    "#### if Karar Yapısı"
   ]
  },
  {
   "cell_type": "code",
   "execution_count": 2,
   "metadata": {},
   "outputs": [
    {
     "name": "stdout",
     "output_type": "stream",
     "text": [
      "b, a'dan büyüktür.\n"
     ]
    }
   ],
   "source": [
    "# ÖRNEK 1 : if koşul yapısı\n",
    "\n",
    "a = 33\n",
    "b = 200\n",
    "if b > a: # eğer b, a'dan büyükse\n",
    "  print(\"b, a'dan büyüktür.\") # bu satır çalışır"
   ]
  },
  {
   "cell_type": "code",
   "execution_count": 4,
   "metadata": {},
   "outputs": [
    {
     "ename": "IndentationError",
     "evalue": "expected an indented block after 'if' statement on line 8 (664764942.py, line 9)",
     "output_type": "error",
     "traceback": [
      "\u001b[1;36m  Cell \u001b[1;32mIn[4], line 9\u001b[1;36m\u001b[0m\n\u001b[1;33m    print(\"b is greater than a\") # you will get an error\u001b[0m\n\u001b[1;37m    ^\u001b[0m\n\u001b[1;31mIndentationError\u001b[0m\u001b[1;31m:\u001b[0m expected an indented block after 'if' statement on line 8\n"
     ]
    }
   ],
   "source": [
    "# GİRİNTİ HATASI : Python, kodda kapsamı tanımlamak için girintiye (satırın başındaki boşluk) güvenir. \n",
    "# Diğer programlama dilleri bu amaçla genellikle süslü parantezler kullanır.\n",
    "\n",
    "# ÖRNEK 2 : if koşul yapısı, girinti hatası\n",
    "\n",
    "a = 33\n",
    "b = 200\n",
    "if b > a:\n",
    "print(\"b, a'dan büyüktür.\") # you will get an error"
   ]
  },
  {
   "cell_type": "markdown",
   "metadata": {},
   "source": [
    "#### elif Karar Yapısı\n",
    "\" elif \" anahtar sözcüğü Python'un \"önceki koşullar doğru değilse, o zaman bu koşulu dene\" deme yoludur."
   ]
  },
  {
   "cell_type": "code",
   "execution_count": 9,
   "metadata": {},
   "outputs": [
    {
     "name": "stdout",
     "output_type": "stream",
     "text": [
      "a ve b eşittir.\n"
     ]
    }
   ],
   "source": [
    "# ÖRNEK 3 : elif anahtar kelimesi\n",
    "\n",
    "a = 33\n",
    "b = 33\n",
    "if b > a: # eğer b, a'dan büyükse\n",
    "  print(\"b, a'dan büyüktür.\") # bu satır çalışır\n",
    "elif a == b: # eğer a ve b eşitse \n",
    "  print(\"a ve b eşittir.\") # bu satır çalışır"
   ]
  },
  {
   "cell_type": "markdown",
   "metadata": {},
   "source": [
    "#### else Karar Yapısı\n",
    "\" else \" anahtar sözcüğü önceki koşullar tarafından yakalanmayan her şeyi yakalar."
   ]
  },
  {
   "cell_type": "code",
   "execution_count": 10,
   "metadata": {},
   "outputs": [
    {
     "name": "stdout",
     "output_type": "stream",
     "text": [
      "a, b'den büyüktür.\n"
     ]
    }
   ],
   "source": [
    "# ÖRNEK 4 : else anahtar kelimesi\n",
    "\n",
    "a = 200\n",
    "b = 33\n",
    "if b > a: # eğer b, a'dan büyükse\n",
    "  print(\"b, a'dan büyüktür.\") # bu satır çalışır \n",
    "elif a == b: # eğer a ve b eşitse\n",
    "  print(\"a ve b eşittir.\") # bu satır çalışır\n",
    "else: # hiçbir koşul sağlanmazsa \n",
    "  print(\"a, b'den büyüktür.\") # bu satır çalışır"
   ]
  },
  {
   "cell_type": "code",
   "execution_count": 11,
   "metadata": {},
   "outputs": [
    {
     "name": "stdout",
     "output_type": "stream",
     "text": [
      "b, a'dan büyük değildir.\n"
     ]
    }
   ],
   "source": [
    "# NOT:if koşul yapısında,elif ve else anahtar kelimeleri opsiyoneldir.elif karar yapısı olmadan if, else karar yapısı ile kullanılabilir.\n",
    "\n",
    "# ÖRNEK 5 : if - else karar yapısı\n",
    "a = 200\n",
    "b = 33\n",
    "if b > a:\n",
    "  print(\"b, a'dan büyüktür.\")\n",
    "else:\n",
    "  print(\"b, a'dan büyük değildir.\")"
   ]
  },
  {
   "cell_type": "markdown",
   "metadata": {},
   "source": [
    "#### Tek Satırda Karar Yapısı Oluşturmak\n",
    "Eğer çalıştırılacak sadece bir ifade varsa, bunu if ifadesiyle aynı satıra koyabilirsiniz."
   ]
  },
  {
   "cell_type": "code",
   "execution_count": 13,
   "metadata": {},
   "outputs": [
    {
     "name": "stdout",
     "output_type": "stream",
     "text": [
      "a, b'den büyüktür.\n"
     ]
    }
   ],
   "source": [
    "# ÖRNEK 6 : if tek satırda yazımı\n",
    "if a > b: print(\"a, b'den büyüktür.\")"
   ]
  },
  {
   "cell_type": "code",
   "execution_count": 14,
   "metadata": {},
   "outputs": [
    {
     "name": "stdout",
     "output_type": "stream",
     "text": [
      "B\n"
     ]
    }
   ],
   "source": [
    "# ÖRNEK 7 : if-else tek satırda yazımı\n",
    "a = 2\n",
    "b = 330\n",
    "print(\"A\") if a > b else print(\"B\")"
   ]
  },
  {
   "cell_type": "code",
   "execution_count": 15,
   "metadata": {},
   "outputs": [
    {
     "name": "stdout",
     "output_type": "stream",
     "text": [
      "=\n"
     ]
    }
   ],
   "source": [
    "# ÖRNEK 8 : if-elif-else tek satırda yazımı\n",
    "a = 330\n",
    "b = 330\n",
    "print(\"A\") if a > b else print(\"=\") if a == b else print(\"B\")\n"
   ]
  },
  {
   "cell_type": "markdown",
   "metadata": {},
   "source": [
    "#### Koşul Yapısında Mantıksal Operatör Kullanımı"
   ]
  },
  {
   "cell_type": "code",
   "execution_count": 18,
   "metadata": {},
   "outputs": [
    {
     "name": "stdout",
     "output_type": "stream",
     "text": [
      "Her iki koşul da doğrudur.\n"
     ]
    }
   ],
   "source": [
    "# NOT : Karar yapısı oluşturuken, and, or ve not operatörleri kullanılabilir.\n",
    "\n",
    "# ÖRNEK 9 : and operatörü ; iki koşulun da doğru olması durumunda çalışır.\n",
    "a = 200\n",
    "b = 33\n",
    "c = 500\n",
    "if a > b and c > a:\n",
    "  print(\"Her iki koşul da doğrudur.\")"
   ]
  },
  {
   "cell_type": "code",
   "execution_count": 20,
   "metadata": {},
   "outputs": [
    {
     "name": "stdout",
     "output_type": "stream",
     "text": [
      "En az bir koşul doğrudur.\n"
     ]
    }
   ],
   "source": [
    "# ÖRNEK 10 : or operatörü ; en az bir koşulun doğru olması durumunda çalışır.\n",
    "\n",
    "a = 200\n",
    "b = 33\n",
    "c = 500\n",
    "if a > b or a > c:\n",
    "  print(\"En az bir koşul doğrudur.\")"
   ]
  },
  {
   "cell_type": "code",
   "execution_count": 22,
   "metadata": {},
   "outputs": [
    {
     "name": "stdout",
     "output_type": "stream",
     "text": [
      "a, b'den büyük değildir.\n"
     ]
    }
   ],
   "source": [
    "# ÖRNEK 11 : not operatörü ; koşulun tersini alır.\n",
    "\n",
    "a = 33\n",
    "b = 200\n",
    "if not a > b: # a, b'den büyük değilse\n",
    "  print(\"a, b'den büyük değildir.\") # bu satır çalışır"
   ]
  },
  {
   "cell_type": "markdown",
   "metadata": {},
   "source": [
    "#### İç İçe Karar Yapıları\n",
    "Karar yapıları istenilen koşul sağlandığında yeni bir karar yapısı ile devam edebilir. Bu duruma \" İç İçe Karar Yapıları \" denir."
   ]
  },
  {
   "cell_type": "code",
   "execution_count": 23,
   "metadata": {},
   "outputs": [
    {
     "name": "stdout",
     "output_type": "stream",
     "text": [
      "Above ten,\n",
      "and also above 20!\n"
     ]
    }
   ],
   "source": [
    "# ÖRNEK 12 : İç içe karar yapısı\n",
    "\n",
    "x = 41\n",
    "\n",
    "if x > 10:\n",
    "  print(\"Above ten,\")\n",
    "  if x > 20:\n",
    "    print(\"and also above 20!\")\n",
    "  else:\n",
    "    print(\"but not above 20.\")"
   ]
  },
  {
   "cell_type": "markdown",
   "metadata": {},
   "source": [
    "#### pass Komutu"
   ]
  },
  {
   "cell_type": "markdown",
   "metadata": {},
   "source": [
    "if ifadeleri boş olamaz, ancak herhangi bir nedenden dolayı içeriği olmayan bir ifadeniz varsa , hata almamak için ifadeyi pass komutu verebilirsiniz."
   ]
  },
  {
   "cell_type": "code",
   "execution_count": 24,
   "metadata": {},
   "outputs": [],
   "source": [
    "# ÖRNEK 13 : pass anahtar kelimesi\n",
    "\n",
    "a = 33\n",
    "b = 200\n",
    "\n",
    "if b > a:\n",
    "  pass"
   ]
  }
 ],
 "metadata": {
  "kernelspec": {
   "display_name": "Python 3",
   "language": "python",
   "name": "python3"
  },
  "language_info": {
   "codemirror_mode": {
    "name": "ipython",
    "version": 3
   },
   "file_extension": ".py",
   "mimetype": "text/x-python",
   "name": "python",
   "nbconvert_exporter": "python",
   "pygments_lexer": "ipython3",
   "version": "3.11.4"
  }
 },
 "nbformat": 4,
 "nbformat_minor": 2
}
