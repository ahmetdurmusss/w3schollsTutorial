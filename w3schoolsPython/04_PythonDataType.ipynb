{
 "cells": [
  {
   "cell_type": "markdown",
   "metadata": {},
   "source": [
    "### PYTHON VERİ TÜRLERİ"
   ]
  },
  {
   "cell_type": "markdown",
   "metadata": {},
   "source": [
    "Programlamada veri tipi önemli bir kavramdır.Değişkenler farklı tipteki verileri depolayabilir ve farklı tipler farklı şeyler yapabilir.Python'da varsayılan olarak şu veri tipleri yerleşik olarak bulunur.\n",
    "\n",
    "1) Metin Türü      :   str\n",
    "2) Sayısal Türler  :   int, float, complex\n",
    "3) Sıra Türleri    :   list, tuple, range\n",
    "4) Haritalama Türü :   dict\n",
    "5) Set Türleri     :   set,frozenset\n",
    "6) Boole Türü      :   bool\n",
    "7) İkili Tipler    :   bytes, bytearray, memoryview\n",
    "8) Hiçbiri Türü    :   NoneType"
   ]
  },
  {
   "cell_type": "markdown",
   "metadata": {},
   "source": [
    "#### Veri Türünü Öğrenme\n",
    "Herhangi bir nesnenin veri türünü \" type() \" fonksiyonu kullanarak alabilirsiniz"
   ]
  },
  {
   "cell_type": "code",
   "execution_count": 2,
   "metadata": {},
   "outputs": [
    {
     "name": "stdout",
     "output_type": "stream",
     "text": [
      "<class 'int'>\n"
     ]
    }
   ],
   "source": [
    "# ÖRNEK 1 : Değişkenlerin türlerini öğrenme \n",
    "\n",
    "x = 5\n",
    "print(type(x))"
   ]
  },
  {
   "cell_type": "markdown",
   "metadata": {},
   "source": [
    "#### Veri Türünü Ayarlama\n",
    "Python'da bir değişkene değer atadığınızda veri türü ayarlanır."
   ]
  },
  {
   "cell_type": "markdown",
   "metadata": {},
   "source": [
    "1)  x = \"Hello World\"\t                                -----> str\t\n",
    "2)  x = 20\t                                            -----> int\t\n",
    "3)  x = 20.5\t                                        -----> float\t\n",
    "4)  x = 1j\t                                            -----> complex\t\n",
    "5)  x = [\"apple\", \"banana\", \"cherry\"]\t                -----> list\t\n",
    "6)  x = (\"apple\", \"banana\", \"cherry\")\t                -----> tuple\t\n",
    "7)  x = range(6)\t                                    -----> range\t\n",
    "8)  x = {\"name\" : \"John\", \"age\" : 36}\t                -----> dict\t\n",
    "9)  x = {\"apple\", \"banana\", \"cherry\"}                   -----> set\t\n",
    "10) x = frozenset({\"apple\", \"banana\", \"cherry\"})        -----> frozenset\t\n",
    "11) x = True\t                                        -----> bool\t\n",
    "12) x = b\"Hello\"\t                                    -----> bytes\t\n",
    "13) x = bytearray(5)\t                                -----> bytearray\t\n",
    "14) x = memoryview(bytes(5))\t                        -----> memoryview\t\n",
    "15) x = None\t                                        -----> NoneType"
   ]
  },
  {
   "cell_type": "markdown",
   "metadata": {},
   "source": [
    "#### Belirli Veri Türünü Ayarlama\n",
    "Veri türünü belirtmek istiyorsanız aşağıdaki kurucu fonksiyonları kullanabilirsiniz."
   ]
  },
  {
   "cell_type": "markdown",
   "metadata": {},
   "source": [
    "1)  x = str(\"Hello World\")\t                                   -----> str\t\n",
    "2)  x = int(20)\t                                               -----> int\t\n",
    "3)  x = float(20.5)                                        \t   -----> float\t\n",
    "4)  x = complex(1j)\t                                           -----> complex\t\n",
    "5)  x = list((\"apple\", \"banana\", \"cherry\"))\t                   -----> list\t\n",
    "6)  x = tuple((\"apple\", \"banana\", \"cherry\"))\t               -----> tuple\t\n",
    "7)  x = range(6)\t                                           -----> range\t\n",
    "8)  x = dict(name=\"John\", age=36)\t                           -----> dict\t\n",
    "9)  x = set((\"apple\", \"banana\", \"cherry\"))\t                   -----> set\t\n",
    "10) x = frozenset((\"apple\", \"banana\", \"cherry\"))\t           -----> frozenset\t\n",
    "11) x = bool(5)\t                                               -----> bool\t\n",
    "12) x = bytes(5)\t                                           -----> bytes\t\n",
    "13) x = bytearray(5)\t                                       -----> bytearray\t\n",
    "14) x = memoryview(bytes(5))\t                               -----> memoryview\n"
   ]
  }
 ],
 "metadata": {
  "kernelspec": {
   "display_name": "Python 3",
   "language": "python",
   "name": "python3"
  },
  "language_info": {
   "codemirror_mode": {
    "name": "ipython",
    "version": 3
   },
   "file_extension": ".py",
   "mimetype": "text/x-python",
   "name": "python",
   "nbconvert_exporter": "python",
   "pygments_lexer": "ipython3",
   "version": "3.11.4"
  }
 },
 "nbformat": 4,
 "nbformat_minor": 2
}
