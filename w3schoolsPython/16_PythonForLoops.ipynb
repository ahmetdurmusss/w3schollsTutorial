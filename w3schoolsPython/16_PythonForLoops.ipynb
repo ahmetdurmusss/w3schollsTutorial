{
 "cells": [
  {
   "cell_type": "markdown",
   "metadata": {},
   "source": [
    "## PYTHON FOR DÖNGÜLERİ\n",
    "\n",
    "For döngüsü , bir dizi (yani bir liste, bir tuple, bir sözlük, bir küme veya bir dize) üzerinde yineleme yapmak için kullanılır. Bu, diğer programlama dillerindeki \" for \" anahtar sözcüğüne daha az benzemektedir ve diğer nesne yönelimli programlama dillerinde bulunan yineleyici yöntemi gibi çalışmaktadır.\" for \" döngüsü ile bir liste, tuple, küme vb. içindeki her bir öğe için bir kez olmak üzere bir dizi ifadeyi çalıştırabiliriz."
   ]
  },
  {
   "cell_type": "code",
   "execution_count": 2,
   "metadata": {},
   "outputs": [
    {
     "name": "stdout",
     "output_type": "stream",
     "text": [
      "elma\n",
      "muz\n",
      "kiraz\n"
     ]
    }
   ],
   "source": [
    "# ÖRNEK 1 : Meyveler listesi içindeki her bir öğeyi yazdırma\n",
    "meyve = [\"elma\", \"muz\", \"kiraz\"]\n",
    "for x in meyve:\n",
    "  print(x)\n",
    "\n",
    "# NOT : For döngüsü önceden bir indeksleme değişkeni ayarlamayı gerektirmez."
   ]
  },
  {
   "cell_type": "markdown",
   "metadata": {},
   "source": [
    "#### Bir Stringde (Metin - Dize) Döngü\n",
    "Dizeler yinelebilir nesneler olsalar bile, bir karakter dizisi içerirler"
   ]
  },
  {
   "cell_type": "code",
   "execution_count": 3,
   "metadata": {},
   "outputs": [
    {
     "name": "stdout",
     "output_type": "stream",
     "text": [
      "b\n",
      "a\n",
      "n\n",
      "a\n",
      "n\n",
      "a\n"
     ]
    }
   ],
   "source": [
    "# ÖRNEK 2 : Bir dize içindeki her bir karakteri yazdırma\n",
    "\n",
    "for x in \"banana\":\n",
    "  print(x)\n",
    "  "
   ]
  },
  {
   "cell_type": "markdown",
   "metadata": {},
   "source": [
    "#### break Komutu\n",
    "break ifadesiyle döngüyü tüm öğeler arasında dolaşmadan önce durdurabiliriz:"
   ]
  },
  {
   "cell_type": "code",
   "execution_count": 4,
   "metadata": {},
   "outputs": [
    {
     "name": "stdout",
     "output_type": "stream",
     "text": [
      "apple\n",
      "banana\n"
     ]
    }
   ],
   "source": [
    "# ÖRNEK 3 : break komutu ile döngüyü durdurma\n",
    "\n",
    "fruits = [\"apple\", \"banana\", \"cherry\"]\n",
    "for x in fruits: # meyveler listesindeki her bir öğeye bakar\n",
    "  print(x) # meyve adını yazdırır\n",
    "  if x == \"banana\": # meyve adı \"muz\" ise\n",
    "    break # döngüyü durdurur"
   ]
  },
  {
   "cell_type": "code",
   "execution_count": 5,
   "metadata": {},
   "outputs": [
    {
     "name": "stdout",
     "output_type": "stream",
     "text": [
      "apple\n"
     ]
    }
   ],
   "source": [
    "# ÖRNEK 4 : break komutu ile döngüyü durdurma\n",
    "\n",
    "fruits = [\"apple\", \"banana\", \"cherry\"]\n",
    "for x in fruits: # meyveler listesindeki her bir öğeye bakar\n",
    "  if x == \"banana\": # meyve adı \"muz\" ise\n",
    "    break # döngüyü durdurur \n",
    "  print(x) # meyve adını yazdırır"
   ]
  },
  {
   "cell_type": "markdown",
   "metadata": {},
   "source": [
    "#### continue Komutu\n",
    "continue ifadesiyle döngünün mevcut yinelemesini durdurabilir ve bir sonraki yinelemeyle devam edebiliriz."
   ]
  },
  {
   "cell_type": "code",
   "execution_count": 6,
   "metadata": {},
   "outputs": [
    {
     "name": "stdout",
     "output_type": "stream",
     "text": [
      "apple\n",
      "cherry\n"
     ]
    }
   ],
   "source": [
    "# ÖRNEK 5 : continue komutu ile döngü oluşturma\n",
    "\n",
    "fruits = [\"apple\", \"banana\", \"cherry\"] # meyveler listesi\n",
    "for x in fruits: # meyveler listesindeki her bir öğeye bakar\n",
    "  if x == \"banana\": # meyve adı \"muz\" ise\n",
    "    continue # meyve adını yazdırmaz\n",
    "  print(x) # meyve adını yazdırır  "
   ]
  },
  {
   "cell_type": "markdown",
   "metadata": {},
   "source": [
    "#### range() Fonksiyonu\n",
    "Belirli sayıda kez bir kod kümesinde döngü oluşturmak için range() fonksiyonunu kullanabiliriz.range() fonksiyonu, varsayılan olarak 0'dan başlayıp 1'er 1'er artan ve belirtilen bir sayıda sonlanan bir sayı dizisi döndürür."
   ]
  },
  {
   "cell_type": "code",
   "execution_count": 8,
   "metadata": {},
   "outputs": [
    {
     "name": "stdout",
     "output_type": "stream",
     "text": [
      "0\n",
      "1\n",
      "2\n",
      "3\n",
      "4\n",
      "5\n"
     ]
    }
   ],
   "source": [
    "# ÖRNEK 6 : range() fonksiyonu ile döngü oluşturma\n",
    "for x in range(6): # 0'dan 6'ya kadar olan sayıları yazdırır. (0, 1, 2, 3, 4, 5)\n",
    "  print(x)"
   ]
  },
  {
   "cell_type": "code",
   "execution_count": 9,
   "metadata": {},
   "outputs": [
    {
     "name": "stdout",
     "output_type": "stream",
     "text": [
      "2\n",
      "3\n",
      "4\n",
      "5\n"
     ]
    }
   ],
   "source": [
    "\"\"\"\n",
    "NOT : range() fonksiyonu, belirtilen sayıya kadar olan sayıları içeren bir dizi oluşturur.\n",
    "Başlangıç değeri belirtilmezse, 0'dan başlar. \n",
    "Son değer belirtilmezse, 1 artırarak devam eder.\n",
    "Adım belirtilmezse, 1 artırarak devam eder. Belirtilirse, belirtilen adımla devam eder.\n",
    "\"\"\"\n",
    "# ÖRNEK 7 : range() fonksiyonu ile döngü oluşturma. Başlangıç değeri belirtilir.\n",
    "for x in range(2, 6): # 2'den 6'ya kadar olan sayıları yazdırır. (2, 3, 4, 5)\n",
    "  print(x)"
   ]
  },
  {
   "cell_type": "code",
   "execution_count": 10,
   "metadata": {},
   "outputs": [
    {
     "name": "stdout",
     "output_type": "stream",
     "text": [
      "2\n",
      "5\n",
      "8\n",
      "11\n",
      "14\n",
      "17\n",
      "20\n",
      "23\n",
      "26\n",
      "29\n"
     ]
    }
   ],
   "source": [
    "# ÖRNEK 8 : range() fonksiyonu ile döngü oluşturma. Adım belirtilir.\n",
    "for x in range(2, 30, 3): # 2'den 30'a kadar 3'er 3'er artarak sayıları yazdırır. (2, 5, 8, 11, 14, 17, 20, 23, 26, 29)\n",
    "  print(x)"
   ]
  },
  {
   "cell_type": "markdown",
   "metadata": {},
   "source": [
    "#### for Döngüsünde else Karar Yapısı\n",
    "for döngüsü tamamlandığında çalışır."
   ]
  },
  {
   "cell_type": "code",
   "execution_count": 11,
   "metadata": {},
   "outputs": [
    {
     "name": "stdout",
     "output_type": "stream",
     "text": [
      "0\n",
      "1\n",
      "2\n",
      "3\n",
      "4\n",
      "5\n",
      "Finally finished!\n"
     ]
    }
   ],
   "source": [
    "# ÖRNEK 9 : else ifadesi ile döngü oluşturma\n",
    "\n",
    "for x in range(6):\n",
    "  print(x)\n",
    "else:\n",
    "  print(\"Finally finished!\")"
   ]
  },
  {
   "cell_type": "code",
   "execution_count": 12,
   "metadata": {},
   "outputs": [
    {
     "name": "stdout",
     "output_type": "stream",
     "text": [
      "0\n",
      "1\n",
      "2\n"
     ]
    }
   ],
   "source": [
    "# NOT : Döngü bir break ifadesi  tarafından durdurulursa else bloğu yürütülmeyecektir.\n",
    "\n",
    "# ÖRNEK 10 : else ifadesi ile döngü oluşturma, break ifadesi kullanarak döngüyü durdurma\n",
    "for x in range(6):\n",
    "  if x == 3: break # x değeri 3 olduğunda döngüyü durdurur\n",
    "  print(x)\n",
    "else:\n",
    "  print(\"Finally finished!\")"
   ]
  },
  {
   "cell_type": "markdown",
   "metadata": {},
   "source": [
    "#### İç İçe for Döngüsü\n",
    "İç içe döngü, bir döngünün içinde bulunan bir döngüdür. \"Dış döngünün\" her yinelemesi için \"iç döngü\" bir kez yürütülecektir."
   ]
  },
  {
   "cell_type": "code",
   "execution_count": 14,
   "metadata": {},
   "outputs": [
    {
     "name": "stdout",
     "output_type": "stream",
     "text": [
      "red apple\n",
      "red banana\n",
      "red cherry\n",
      "big apple\n",
      "big banana\n",
      "big cherry\n",
      "tasty apple\n",
      "tasty banana\n",
      "tasty cherry\n"
     ]
    }
   ],
   "source": [
    "# ÖRNEK 11 : iç içe döngüler\n",
    "\n",
    "adj = [\"red\", \"big\", \"tasty\"]\n",
    "fruits = [\"apple\", \"banana\", \"cherry\"]\n",
    "\n",
    "for x in adj: # adj listesindeki her bir öğeye bakar\n",
    "  for y in fruits: # meyveler listesindeki her bir öğeye bakar\n",
    "    print(x, y) # her bir sıfat ve meyve adını yazdırır"
   ]
  },
  {
   "cell_type": "markdown",
   "metadata": {},
   "source": [
    "#### pass Komutu\n",
    "for döngüleri boş olamaz, ancak herhangi bir nedenden dolayı içeriği olmayan bir döngünüz varsa , hata almamak için ifadeyi pass komutu ekleyin."
   ]
  },
  {
   "cell_type": "code",
   "execution_count": 15,
   "metadata": {},
   "outputs": [],
   "source": [
    "# ÖRNEK 12 : pass ifadesi ile döngü oluşturma\n",
    "\n",
    "for x in [0, 1, 2]:\n",
    "  pass\n",
    "# NOT : Döngüde hiçbir şey yapmak istemediğinizde pass ifadesini kullanabilirsiniz.\n"
   ]
  }
 ],
 "metadata": {
  "kernelspec": {
   "display_name": "Python 3",
   "language": "python",
   "name": "python3"
  },
  "language_info": {
   "codemirror_mode": {
    "name": "ipython",
    "version": 3
   },
   "file_extension": ".py",
   "mimetype": "text/x-python",
   "name": "python",
   "nbconvert_exporter": "python",
   "pygments_lexer": "ipython3",
   "version": "3.11.4"
  }
 },
 "nbformat": 4,
 "nbformat_minor": 2
}
