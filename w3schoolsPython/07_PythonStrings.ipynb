{
 "cells": [
  {
   "cell_type": "markdown",
   "metadata": {},
   "source": [
    "## PYTHON STRINGS\n",
    "\n",
    "Python'da stringler tek tırnak işareti veya çift tırnak işareti arasına alınır.\n",
    "\"merhaba\" kelimesi, 'merhaba' ile aynıdır .\n",
    "Bir dize sabitini \" print() \" fonksiyonla görüntüleyebilirsiniz."
   ]
  },
  {
   "cell_type": "code",
   "execution_count": 1,
   "metadata": {},
   "outputs": [
    {
     "name": "stdout",
     "output_type": "stream",
     "text": [
      "Hello\n",
      "Hello\n"
     ]
    }
   ],
   "source": [
    "# ÖRNEK 1 : Ekrana Hello yazdıran bir program yazınız.\n",
    "\n",
    "print(\"Hello\")\n",
    "print('Hello')"
   ]
  },
  {
   "cell_type": "markdown",
   "metadata": {},
   "source": [
    "#### Tırnak İçinde Tırnak Kullanımı\n",
    "Bir stringin içinde tırnak işaretleri kullanabilirsiniz, ancak tırnak işaretleri stringi çevreleyen tırnak işaretleriyle uyuşmadığı sürece."
   ]
  },
  {
   "cell_type": "code",
   "execution_count": 2,
   "metadata": {},
   "outputs": [
    {
     "name": "stdout",
     "output_type": "stream",
     "text": [
      "It's alright\n",
      "He is called 'Johnny'\n",
      "He is called \"Johnny\"\n"
     ]
    }
   ],
   "source": [
    "# ÖRNEK 2 : Tırnak işarti içinde tırnak işareti kullanımı.\n",
    "\n",
    "print(\"It's alright\")\n",
    "print(\"He is called 'Johnny'\")\n",
    "print('He is called \"Johnny\"')"
   ]
  },
  {
   "cell_type": "markdown",
   "metadata": {},
   "source": [
    "#### Bir Değişkene \" String \" İfade Atamak\n",
    "Bir değişkene bir metin (dize - string) atamak, değişken adının ardından eşittir işareti ve metnin eklenmesiyle yapılır."
   ]
  },
  {
   "cell_type": "code",
   "execution_count": 3,
   "metadata": {},
   "outputs": [
    {
     "name": "stdout",
     "output_type": "stream",
     "text": [
      "Hello\n"
     ]
    }
   ],
   "source": [
    "# ÖRNEK 3 : Değişkene metin atama ve ekrana yazdırma.\n",
    "a = \"Hello\"\n",
    "print(a)"
   ]
  },
  {
   "cell_type": "markdown",
   "metadata": {},
   "source": [
    "#### Çok Satırlı stringler\n",
    "\n",
    "Çok satırlı bir dizeyi üç tırnak işareti kullanarak bir değişkene atayabilirsiniz."
   ]
  },
  {
   "cell_type": "code",
   "execution_count": 4,
   "metadata": {},
   "outputs": [
    {
     "name": "stdout",
     "output_type": "stream",
     "text": [
      "Lorem ipsum dolor sit amet,\n",
      "consectetur adipiscing elit,\n",
      "sed do eiusmod tempor incididunt\n",
      "ut labore et dolore magna aliqua.\n"
     ]
    }
   ],
   "source": [
    "# ÖRNEK 4 : Birden fazla satırdan oluşan metinler.\n",
    "\n",
    "a = \"\"\"Lorem ipsum dolor sit amet,\n",
    "consectetur adipiscing elit,\n",
    "sed do eiusmod tempor incididunt\n",
    "ut labore et dolore magna aliqua.\"\"\"\n",
    "print(a)"
   ]
  },
  {
   "cell_type": "markdown",
   "metadata": {},
   "source": [
    "#### Array - Dizi Olarak Stringler\n",
    "Diğer birçok popüler programlama dili gibi Python'daki stringler de Unicode karakterlerini temsil eden bayt arraylerdir/dizilerdir.\n",
    "Ancak Python'da karakter veri tipi yoktur, tek bir karakter, uzunluğu 1 olan bir stringdir. stringin  elemanlarına erişmek için köşeli parantezler kullanılabilir."
   ]
  },
  {
   "cell_type": "markdown",
   "metadata": {},
   "source": [
    "**Örnek\n",
    "birinci pozisyondaki karakteri al (ilk karakterin 0. pozisyonda olduğunu unutma):**"
   ]
  },
  {
   "cell_type": "code",
   "execution_count": 6,
   "metadata": {},
   "outputs": [
    {
     "name": "stdout",
     "output_type": "stream",
     "text": [
      "e\n"
     ]
    }
   ],
   "source": [
    "# ÖRNEK 5 : Metnimizdeki ikinci karakteri yazdırma.\n",
    "\n",
    "a = \"Hello, World!\"\n",
    "print(a[1])"
   ]
  },
  {
   "cell_type": "markdown",
   "metadata": {},
   "source": [
    "#### Metin Üzrinde Döngü\n",
    "Metinler bir nevi diziler olduğundan, bir döngüyle bir metindeki karakterlere döngüler sayesinde ulaşabiliriz."
   ]
  },
  {
   "cell_type": "code",
   "execution_count": 7,
   "metadata": {},
   "outputs": [
    {
     "name": "stdout",
     "output_type": "stream",
     "text": [
      "b\n",
      "a\n",
      "n\n",
      "a\n",
      "n\n",
      "a\n"
     ]
    }
   ],
   "source": [
    "# ÖRNEK 6: \"banana\" kelimesindeki karakterleri yazdırma. \n",
    "for x in \"banana\":\n",
    "  print(x)"
   ]
  },
  {
   "cell_type": "markdown",
   "metadata": {},
   "source": [
    "#### Metin Uzunluğu\n",
    "Bir dizenin uzunluğunu almak için len() fonksiyonu kullanın."
   ]
  },
  {
   "cell_type": "code",
   "execution_count": 9,
   "metadata": {},
   "outputs": [
    {
     "name": "stdout",
     "output_type": "stream",
     "text": [
      "13\n"
     ]
    }
   ],
   "source": [
    "# ÖRNEK 7 : Metin uzunluğunu bulma.\n",
    "a = \"Hello, World!\" # 13 karakter\n",
    "print(len(a))"
   ]
  },
  {
   "cell_type": "markdown",
   "metadata": {},
   "source": [
    "#### Metin İçindeki Bir Başka Metnin Varlığını Kontrol Etme\n",
    "Belirli bir ifadenin veya karakterin bir metinde bulunup bulunmadığını kontrol etmek için \" in \" anahtar sözcüğünü kullanabiliriz."
   ]
  },
  {
   "cell_type": "code",
   "execution_count": 14,
   "metadata": {},
   "outputs": [
    {
     "name": "stdout",
     "output_type": "stream",
     "text": [
      "True\n"
     ]
    }
   ],
   "source": [
    "# ÖRNEK 8 : Metin içinde arama yapma.\n",
    "\n",
    "txt = \"The best things in life are free!\"\n",
    "print(\"free\" in txt) # in : içinde var mı yok mu kontrol eder.\n"
   ]
  },
  {
   "cell_type": "code",
   "execution_count": 15,
   "metadata": {},
   "outputs": [
    {
     "name": "stdout",
     "output_type": "stream",
     "text": [
      "Yes, 'free' is present.\n"
     ]
    }
   ],
   "source": [
    "# ÖRNEK 9 : Metin içinde arama yapma. Bir başka yöntem ile yapılması.\n",
    "\n",
    "txt = \"The best things in life are free!\"\n",
    "if \"free\" in txt:\n",
    "  print(\"Yes, 'free' is present.\")"
   ]
  },
  {
   "cell_type": "code",
   "execution_count": 16,
   "metadata": {},
   "outputs": [
    {
     "name": "stdout",
     "output_type": "stream",
     "text": [
      "True\n"
     ]
    }
   ],
   "source": [
    "# ÖRNEK 10 : Metin içinde arama yapma. Bir başka yöntem ile yapılması.\n",
    "\n",
    "txt = \"The best things in life are free!\"\n",
    "print(\"expensive\" not in txt) # not in : içinde olmadığını kontrol eder."
   ]
  },
  {
   "cell_type": "code",
   "execution_count": 17,
   "metadata": {},
   "outputs": [
    {
     "name": "stdout",
     "output_type": "stream",
     "text": [
      "No, 'expensive' is NOT present.\n"
     ]
    }
   ],
   "source": [
    "# ÖRNEK 11 : Metin içinde arama yapma. Bir başka yöntem ile yapılması.\n",
    "txt = \"The best things in life are free!\"\n",
    "if \"expensive\" not in txt:\n",
    "  print(\"No, 'expensive' is NOT present.\")"
   ]
  },
  {
   "cell_type": "markdown",
   "metadata": {},
   "source": [
    "#### Metinleri Bölme - Ayırma"
   ]
  },
  {
   "cell_type": "code",
   "execution_count": 19,
   "metadata": {},
   "outputs": [
    {
     "name": "stdout",
     "output_type": "stream",
     "text": [
      "llo\n"
     ]
    }
   ],
   "source": [
    "# ÖRNEK 12 : \"Hello, World!\" metninin 2. karakterinden 5. karakterine kadar olan kısmı yazdırma.\n",
    "b = \"Hello, World!\"\n",
    "print(b[2:5]) # 5. karakter dahil değil. İlk karakter 0'dan başlar."
   ]
  },
  {
   "cell_type": "markdown",
   "metadata": {},
   "source": [
    "### Baştan dilimleyin/slice"
   ]
  },
  {
   "cell_type": "markdown",
   "metadata": {},
   "source": [
    "Başlangıç ​​indeksi atlandığında, aralık ilk karakterden başlayacaktır:"
   ]
  },
  {
   "cell_type": "code",
   "execution_count": 20,
   "metadata": {},
   "outputs": [
    {
     "name": "stdout",
     "output_type": "stream",
     "text": [
      "Hello\n"
     ]
    }
   ],
   "source": [
    "# 1- Baştan başlayarak belirtilen karaktere kadar olan kısmı yazdırma.\n",
    "\n",
    "# ÖRNEK 13 : \"Hello, World!\" metninin 5. karakterine kadar olan kısmı yazdırma.\n",
    "b = \"Hello, World!\"\n",
    "print(b[:5])"
   ]
  },
  {
   "cell_type": "code",
   "execution_count": 21,
   "metadata": {},
   "outputs": [
    {
     "name": "stdout",
     "output_type": "stream",
     "text": [
      "llo, World!\n"
     ]
    }
   ],
   "source": [
    "# 2- Belirtilen karakterden başlayarak metnin sonuna kadar olan kısmı yazdırma.\n",
    "\n",
    "# ÖRNEK 14 : \"Hello, World!\" metninin 2. karakterden sonuna kadar olan kısmı yazdırma.\n",
    "b = \"Hello, World!\"\n",
    "print(b[2:])\n"
   ]
  },
  {
   "cell_type": "markdown",
   "metadata": {},
   "source": [
    "#### Negatif Endeksleme\n",
    "Dilimi metnin sonundan başlatmak için negatif indeksleri kullanın."
   ]
  },
  {
   "cell_type": "code",
   "execution_count": 22,
   "metadata": {},
   "outputs": [
    {
     "name": "stdout",
     "output_type": "stream",
     "text": [
      "orl\n"
     ]
    }
   ],
   "source": [
    "# ÖRNEK 15 : \"Hello, World!\" metninin 2. karakterden 5. karaktere kadar olan kısmını ters indexleme yaparak yazdırma.\n",
    "b = \"Hello, World!\"\n",
    "print(b[-5:-2]) # -2. karakter dahil değil. Son karakter -1'den başlar."
   ]
  },
  {
   "cell_type": "markdown",
   "metadata": {},
   "source": [
    "#### Metindeki Karkterleri Değiştirmek\n",
    "Python'da dizeler üzerinde kullanabileceğiniz bir dizi yerleşik yöntem bulunur."
   ]
  },
  {
   "cell_type": "code",
   "execution_count": 23,
   "metadata": {},
   "outputs": [
    {
     "name": "stdout",
     "output_type": "stream",
     "text": [
      "HELLO, WORLD!\n"
     ]
    }
   ],
   "source": [
    "# 1 - Büyük harfe çevirme. (upper()) : Metindeki tüm karakterleri büyük harfe çevirir.\n",
    "\n",
    "# ÖRNEK 16 : \"Hello, World!\" metnini büyük harfe çevirme.\n",
    "a = \"Hello, World!\"\n",
    "print(a.upper())"
   ]
  },
  {
   "cell_type": "code",
   "execution_count": 24,
   "metadata": {},
   "outputs": [
    {
     "name": "stdout",
     "output_type": "stream",
     "text": [
      "hello, world!\n"
     ]
    }
   ],
   "source": [
    "# 2 - Küçük harfe çevirme. (lower()) : Metindeki tüm karakterleri küçük harfe çevirir.  \n",
    "\n",
    "# ÖRNEK 17 : \"Hello, World!\" metnini küçük harfe çevirme.\n",
    "a = \"Hello, World!\"\n",
    "print(a.lower())"
   ]
  },
  {
   "cell_type": "code",
   "execution_count": 25,
   "metadata": {},
   "outputs": [
    {
     "name": "stdout",
     "output_type": "stream",
     "text": [
      "Hello, World!\n"
     ]
    }
   ],
   "source": [
    "# 3 - Metnin başındaki ve sonundaki boşlukları silme. (strip()) : Metnin başındaki ve sonundaki boşlukları siler.\n",
    "\n",
    "# ÖRNEK 18 : \" Hello, World! \" metninin başındaki ve sonundaki boşlukları silme.\n",
    "a = \" Hello, World! \"\n",
    "print(a.strip()) # returns \"Hello, World!\""
   ]
  },
  {
   "cell_type": "code",
   "execution_count": 26,
   "metadata": {},
   "outputs": [
    {
     "name": "stdout",
     "output_type": "stream",
     "text": [
      "Jello, World!\n"
     ]
    }
   ],
   "source": [
    "# 4 -Metin içindeki istenilen karakterleri değiştirme. (replace()) : Metin içindeki istenilen karakterleri değiştirir.\n",
    "\n",
    "# ÖRNEK 19 : \"Hello, World!\" metnindeki \"H\" karakterini \"J\" karakteri ile değiştirme.\n",
    "a = \"Hello, World!\"\n",
    "print(a.replace(\"H\", \"J\"))"
   ]
  },
  {
   "cell_type": "code",
   "execution_count": 27,
   "metadata": {},
   "outputs": [
    {
     "name": "stdout",
     "output_type": "stream",
     "text": [
      "['Hello', ' World!']\n"
     ]
    }
   ],
   "source": [
    "# 5 - Metin içindeki karakterleri ayırma. (split()) : Metin içindeki karakterleri ayırır.\n",
    "\n",
    "# ÖRNEK 20 : \"Hello, World!\" metnini virgül ile ayırma.\n",
    "a = \"Hello, World!\"\n",
    "print(a.split(\",\")) # returns ['Hello', ' World!']"
   ]
  },
  {
   "cell_type": "code",
   "execution_count": 28,
   "metadata": {},
   "outputs": [
    {
     "name": "stdout",
     "output_type": "stream",
     "text": [
      "HelloWorld\n"
     ]
    }
   ],
   "source": [
    "# 6 - Metin birleştirme. (+) : Metinleri birleştirir.\n",
    "\n",
    "# ÖRNEK 21 : \"Hello, World!\" metnini birleştirme.\n",
    "a = \"Hello\"\n",
    "b = \"World\"\n",
    "c = a + b\n",
    "print(c)"
   ]
  },
  {
   "cell_type": "code",
   "execution_count": 30,
   "metadata": {},
   "outputs": [
    {
     "name": "stdout",
     "output_type": "stream",
     "text": [
      "Hello World\n"
     ]
    }
   ],
   "source": [
    "# Metinleri arasında boşluk bırakarak birleştirme\n",
    "\n",
    "# ÖRNEK 22 : \"Hello, World!\" metnini birleştirme.\n",
    "a = \"Hello\"\n",
    "b = \"World\"\n",
    "c = a + \" \" + b\n",
    "print(c)"
   ]
  },
  {
   "cell_type": "markdown",
   "metadata": {},
   "source": [
    "#### Formatlama\n",
    "Python Değişkenleri bölümünde öğrendiğimiz gibi, dizeleri ve sayıları şu şekilde birleştiremeyiz:"
   ]
  },
  {
   "cell_type": "code",
   "execution_count": 31,
   "metadata": {},
   "outputs": [
    {
     "ename": "TypeError",
     "evalue": "can only concatenate str (not \"int\") to str",
     "output_type": "error",
     "traceback": [
      "\u001b[1;31m---------------------------------------------------------------------------\u001b[0m",
      "\u001b[1;31mTypeError\u001b[0m                                 Traceback (most recent call last)",
      "Cell \u001b[1;32mIn[31], line 4\u001b[0m\n\u001b[0;32m      1\u001b[0m \u001b[38;5;66;03m# Python Değişkenleri bölümünde öğrendiğimiz gibi, dizeleri ve sayıları şu şekilde birleştiremeyiz:\u001b[39;00m\n\u001b[0;32m      2\u001b[0m \u001b[38;5;66;03m# ÖRNEK 23 : Değişken ve metni birleştirme.İki farklı veri tipini birleştirmeye çalışma. İşlem hatası verir.\u001b[39;00m\n\u001b[0;32m      3\u001b[0m age \u001b[38;5;241m=\u001b[39m \u001b[38;5;241m36\u001b[39m\n\u001b[1;32m----> 4\u001b[0m txt \u001b[38;5;241m=\u001b[39m \u001b[38;5;124;43m\"\u001b[39;49m\u001b[38;5;124;43mMy name is John, I am \u001b[39;49m\u001b[38;5;124;43m\"\u001b[39;49m\u001b[43m \u001b[49m\u001b[38;5;241;43m+\u001b[39;49m\u001b[43m \u001b[49m\u001b[43mage\u001b[49m\n\u001b[0;32m      5\u001b[0m \u001b[38;5;28mprint\u001b[39m(txt)\n",
      "\u001b[1;31mTypeError\u001b[0m: can only concatenate str (not \"int\") to str"
     ]
    }
   ],
   "source": [
    "# Python Değişkenleri bölümünde öğrendiğimiz gibi, dizeleri ve sayıları şu şekilde birleştiremeyiz:\n",
    "# ÖRNEK 23 : Değişken ve metni birleştirme.İki farklı veri tipini birleştirmeye çalışma. İşlem hatası verir.\n",
    "age = 36\n",
    "txt = \"My name is John, I am \" + age\n",
    "print(txt)"
   ]
  },
  {
   "cell_type": "code",
   "execution_count": 32,
   "metadata": {},
   "outputs": [
    {
     "name": "stdout",
     "output_type": "stream",
     "text": [
      "My name is John, I am 36\n"
     ]
    }
   ],
   "source": [
    "# Ancak, bu sorunu çözmek için, format() yöntemini kullanabiliriz! format() yöntemi, değişkenleri metin içine eklememize olanak tanır.\n",
    "age = 36\n",
    "txt = f\"My name is John, I am {age}\"\n",
    "print(txt)"
   ]
  },
  {
   "cell_type": "code",
   "execution_count": 33,
   "metadata": {},
   "outputs": [
    {
     "name": "stdout",
     "output_type": "stream",
     "text": [
      "The price is 59 dollars\n"
     ]
    }
   ],
   "source": [
    "# Yer tutucu olarak kullanılan {0} ve {1} gibi değerler de kullanılabilir.\n",
    "\n",
    "# ÖRNEK 24 : Yer tutucu kullanımı.\n",
    "price = 59\n",
    "txt = f\"The price is {price} dollars\"\n",
    "print(txt)"
   ]
  },
  {
   "cell_type": "code",
   "execution_count": 34,
   "metadata": {},
   "outputs": [
    {
     "name": "stdout",
     "output_type": "stream",
     "text": [
      "The price is 59.00 dollars\n"
     ]
    }
   ],
   "source": [
    "# Yer tutucu kullanımı ve noktadan sonra kaç basamak gösterileceğini belirtme. (:.2f) : Noktadan sonra iki basamak gösterir.\n",
    "\n",
    "# ÖRNEK 25 : Yer tutucu kullanımı ve noktadan sonra kaç basamak gösterileceğini belirtme.\n",
    "price = 59\n",
    "txt = f\"The price is {price:.2f} dollars\"\n",
    "print(txt)\n"
   ]
  },
  {
   "cell_type": "code",
   "execution_count": 35,
   "metadata": {},
   "outputs": [
    {
     "name": "stdout",
     "output_type": "stream",
     "text": [
      "The price is 1180 dollars\n"
     ]
    }
   ],
   "source": [
    "# Yer tutucu kullanımı ve çarpma işlemi yapma.\n",
    "\n",
    "# ÖRNEK 26 : Yer tutucu kullanımı ve çarpma işlemi yapma.\n",
    "txt = f\"The price is {20 * 59} dollars\"\n",
    "print(txt)"
   ]
  },
  {
   "cell_type": "markdown",
   "metadata": {},
   "source": [
    "#### Kaçış Karakteri\n",
    "Kaçış karakteri , eklemek istediğiniz karakterin ardından gelen ters eğik çizgidir."
   ]
  },
  {
   "cell_type": "code",
   "execution_count": 36,
   "metadata": {},
   "outputs": [
    {
     "ename": "SyntaxError",
     "evalue": "invalid syntax (1925955319.py, line 2)",
     "output_type": "error",
     "traceback": [
      "\u001b[1;36m  Cell \u001b[1;32mIn[36], line 2\u001b[1;36m\u001b[0m\n\u001b[1;33m    txt = \"We are the so-called \"Vikings\" from the north.\"\u001b[0m\n\u001b[1;37m                                 ^\u001b[0m\n\u001b[1;31mSyntaxError\u001b[0m\u001b[1;31m:\u001b[0m invalid syntax\n"
     ]
    }
   ],
   "source": [
    "# ÖRNEK 27 : Tırnak işareti içinde tırnak işaretini hatalı kullanma.\n",
    "txt = \"We are the so-called \"Vikings\" from the north.\""
   ]
  },
  {
   "cell_type": "code",
   "execution_count": 2,
   "metadata": {},
   "outputs": [
    {
     "data": {
      "text/plain": [
       "'We are the so-called \"Vikings\" from the north.'"
      ]
     },
     "execution_count": 2,
     "metadata": {},
     "output_type": "execute_result"
    }
   ],
   "source": [
    "\"\"\"\n",
    "Yukarıdaki örnekte, Python, \"Vikings\" kelimesini bir dize olarak algılamaz, \n",
    "çünkü çift tırnak işareti içinde çift tırnak işareti kullanılmıştır. \n",
    "Bu, hata verir, çünkü Python, dizenin \"Vikings\" kelimesinin sonu olduğunu düşünür ve geri kalanını anlamaz.\n",
    "\"\"\"\n",
    "\n",
    "# ÖRNEK 28 : Tırnak işareti içinde tırnak işaretini doğru kullanma.\n",
    "txt = \"We are the so-called \\\"Vikings\\\" from the north.\"\n",
    "txt"
   ]
  },
  {
   "cell_type": "markdown",
   "metadata": {},
   "source": [
    "#### Kaçış Karakterleri"
   ]
  },
  {
   "cell_type": "markdown",
   "metadata": {},
   "source": [
    "1) \\'\t -----> Tek alıntı\t\n",
    "2) \\\\\t -----> Ters eğik çizgi\t\n",
    "3) \\n\t -----> Yeni Satır\t\n",
    "4) \\r\t -----> Satırbaşı\n",
    "5) \\t\t -----> Boşluk\t\n",
    "6) \\b\t -----> Geri tuşu"
   ]
  }
 ],
 "metadata": {
  "kernelspec": {
   "display_name": "Python 3",
   "language": "python",
   "name": "python3"
  },
  "language_info": {
   "codemirror_mode": {
    "name": "ipython",
    "version": 3
   },
   "file_extension": ".py",
   "mimetype": "text/x-python",
   "name": "python",
   "nbconvert_exporter": "python",
   "pygments_lexer": "ipython3",
   "version": "3.11.4"
  }
 },
 "nbformat": 4,
 "nbformat_minor": 2
}
