{
 "cells": [
  {
   "cell_type": "markdown",
   "metadata": {},
   "source": [
    "## PYTHON FONKSİYONLAR\n",
    "Fonksiyonlar programlamada belli işlevi olan ve tekrar tekrar kullandığımız yapılardır. Fonksiyonlar bir defa tanımlanır ve programlarda ihtiyacımız olduğu zaman kullanırız. Ayrıca fonksiyonlar kod tekrarını engeller ve kodlarımız daha derli toplu olur."
   ]
  },
  {
   "cell_type": "code",
   "execution_count": 1,
   "metadata": {},
   "outputs": [
    {
     "data": {
      "text/plain": [
       "'\\ndef fonksiyon_adı(parametre1, parametre2, ...):\\n    # Fonksiyon bloğu\\n    Fonksiyonun yapacağı işlemler\\n    return ifadesi ile fonksiyonun dönüş değeri belirlenir\\n'"
      ]
     },
     "execution_count": 1,
     "metadata": {},
     "output_type": "execute_result"
    }
   ],
   "source": [
    "# ÖRNEK 1 : Fonksiyonların tanımlanması\n",
    "\n",
    "\"\"\"\n",
    "def fonksiyon_adı(parametre1, parametre2, ...):\n",
    "    # Fonksiyon bloğu\n",
    "    Fonksiyonun yapacağı işlemler\n",
    "    return ifadesi ile fonksiyonun dönüş değeri belirlenir\n",
    "\"\"\""
   ]
  },
  {
   "cell_type": "code",
   "execution_count": 3,
   "metadata": {},
   "outputs": [],
   "source": [
    "# Örnek 2 : Fonksiyon tanımlama\n",
    "\n",
    "def my_function():\n",
    "  print(\"Hello from a function\")"
   ]
  },
  {
   "cell_type": "markdown",
   "metadata": {},
   "source": [
    "#### Fonksiyon Çağırma\n",
    "Bir fonksiyonu çağırmak için fonksiyon adını parantez içinde kullanırız."
   ]
  },
  {
   "cell_type": "code",
   "execution_count": 8,
   "metadata": {},
   "outputs": [
    {
     "name": "stdout",
     "output_type": "stream",
     "text": [
      "Merhabalar, ben Python programcısıyım.\n"
     ]
    }
   ],
   "source": [
    "# ÖRNEK 3 : Fonksiyon çağırma\n",
    "def merhaba():\n",
    "  print(\"Merhabalar, ben Python programcısıyım.\")\n",
    "\n",
    "merhaba()"
   ]
  },
  {
   "cell_type": "markdown",
   "metadata": {},
   "source": [
    "#### Fonksiyon Argümanları\n",
    "Bilgiler fonksiyonlara argüman olarak aktarılabilir.Argümanlar fonksiyon adından sonra, parantez içinde belirtilir. İstediğiniz kadar argüman ekleyebilirsiniz."
   ]
  },
  {
   "cell_type": "code",
   "execution_count": 7,
   "metadata": {},
   "outputs": [
    {
     "name": "stdout",
     "output_type": "stream",
     "text": [
      "Emil Refsnes \n",
      "Tobias Refsnes \n",
      "Linus Refsnes \n"
     ]
    }
   ],
   "source": [
    "# ÖRNEL 4 :  Argümanlar \n",
    "\n",
    "def my_function(fname): # \"my_function\" isimli fonksiyon tanımlanır ve \"fname\" isimli bir argüman alır.\n",
    "  print(fname + \" Refsnes \")\n",
    "\n",
    "my_function(\"Emil\") # Emil \"my_function\" fonksiyonuna argüman olarak gönderilir.\n",
    "my_function(\"Tobias\") # Tobias \"my_function\" fonksiyonuna argüman olarak gönderilir.\n",
    "my_function(\"Linus\") # Linus \"my_function\" fonksiyonuna argüman olarak gönderilir."
   ]
  },
  {
   "cell_type": "markdown",
   "metadata": {},
   "source": [
    "#### Parametreler mi, Argümanlar mı?\n",
    "Parametre ve argüman terimleri aynı şey için kullanılabilir.\n",
    "\n",
    "1) Parametre, fonksiyon tanımında parantez içinde listelenen değişkendir.\n",
    "2) Bir argüman, fonksiyon çağrıldığında ona gönderilen değerdir."
   ]
  },
  {
   "cell_type": "markdown",
   "metadata": {},
   "source": [
    "#### Argüman Sayısı\n",
    "Varsayılan olarak, bir fonksiyon doğru sayıda argümanla çağrılmalıdır. Yani, fonksiyonunuz 2 argüman bekliyorsa, fonksiyonu 2 argümanla çağırmanız gerekir, daha fazla veya daha az değil."
   ]
  },
  {
   "cell_type": "code",
   "execution_count": 9,
   "metadata": {},
   "outputs": [
    {
     "name": "stdout",
     "output_type": "stream",
     "text": [
      "Emil Refsnes\n"
     ]
    }
   ],
   "source": [
    "# ÖRNEK 5 : 2 argüman alan fonksiyon\n",
    "\n",
    "def my_function(fname, lname):\n",
    "  print(fname + \" \" + lname)\n",
    "\n",
    "my_function(\"Emil\", \"Refsnes\")"
   ]
  },
  {
   "cell_type": "code",
   "execution_count": 11,
   "metadata": {},
   "outputs": [
    {
     "ename": "TypeError",
     "evalue": "my_function() missing 1 required positional argument: 'lname'",
     "output_type": "error",
     "traceback": [
      "\u001b[1;31m---------------------------------------------------------------------------\u001b[0m",
      "\u001b[1;31mTypeError\u001b[0m                                 Traceback (most recent call last)",
      "Cell \u001b[1;32mIn[11], line 5\u001b[0m\n\u001b[0;32m      2\u001b[0m \u001b[38;5;28;01mdef\u001b[39;00m \u001b[38;5;21mmy_function\u001b[39m(fname, lname):\n\u001b[0;32m      3\u001b[0m   \u001b[38;5;28mprint\u001b[39m(fname \u001b[38;5;241m+\u001b[39m \u001b[38;5;124m\"\u001b[39m\u001b[38;5;124m \u001b[39m\u001b[38;5;124m\"\u001b[39m \u001b[38;5;241m+\u001b[39m lname)\n\u001b[1;32m----> 5\u001b[0m \u001b[43mmy_function\u001b[49m\u001b[43m(\u001b[49m\u001b[38;5;124;43m\"\u001b[39;49m\u001b[38;5;124;43mEmil\u001b[39;49m\u001b[38;5;124;43m\"\u001b[39;49m\u001b[43m)\u001b[49m\n",
      "\u001b[1;31mTypeError\u001b[0m: my_function() missing 1 required positional argument: 'lname'"
     ]
    }
   ],
   "source": [
    "# ÖRNEK 6 : 2 argüman alan fonksiyon, 1 argüman gönderilirse hata alınır.\n",
    "def my_function(fname, lname):\n",
    "  print(fname + \" \" + lname)\n",
    "\n",
    "my_function(\"Emil\")"
   ]
  },
  {
   "cell_type": "markdown",
   "metadata": {},
   "source": [
    "#### Belirsiz Argüman Sayısı, *args\n",
    "\n",
    "Fonksiyonunuza kaç tane argüman geçireceğinizi bilmiyorsanız,fonksiyon tanımında parametre adından önce \" * \" ekleyin. Bu şekilde fonksiyon bir dizi argüman alacak ve öğelere buna göre erişebilecektir."
   ]
  },
  {
   "cell_type": "code",
   "execution_count": 12,
   "metadata": {},
   "outputs": [
    {
     "name": "stdout",
     "output_type": "stream",
     "text": [
      "The youngest child is Linus\n"
     ]
    }
   ],
   "source": [
    "# ÖRNEK 7 : * işareti ile argüman sayısını belirsizleştirme\n",
    "def my_function(*kids):\n",
    "  print(\"The youngest child is \" + kids[2])\n",
    "\n",
    "my_function(\"Emil\", \"Tobias\", \"Linus\")"
   ]
  },
  {
   "cell_type": "markdown",
   "metadata": {},
   "source": [
    "#### Argümanları Anahtar Kelimeleri İle Kullanma\n",
    "Ayrıca argümanları \" anahtar = değer \" söz dizimiyle de gönderebilirsiniz. Bu şekilde argümanların sırasının bir önemi kalmıyor."
   ]
  },
  {
   "cell_type": "code",
   "execution_count": 14,
   "metadata": {},
   "outputs": [
    {
     "name": "stdout",
     "output_type": "stream",
     "text": [
      "The youngest child is Linus\n"
     ]
    }
   ],
   "source": [
    "# ÖRNEK 8 : \" anahtar = değer \" kullanarak argümanları belirleme\n",
    "def my_function(child3, child2, child1):\n",
    "  print(\"The youngest child is \" + child3)\n",
    "\n",
    "my_function(child1 = \"Emil\", child2 = \"Tobias\", child3 = \"Linus\")"
   ]
  },
  {
   "cell_type": "code",
   "execution_count": 15,
   "metadata": {},
   "outputs": [
    {
     "name": "stdout",
     "output_type": "stream",
     "text": [
      "The youngest child is Tobias\n"
     ]
    }
   ],
   "source": [
    "# ÖRNEK 9 : \" anahtar = değer \" kullanarak argümanları belirleme\n",
    "def my_function(child3, child2, child1):\n",
    "  print(\"The youngest child is \" + child3)\n",
    "\n",
    "my_function(child1 = \"Emil\", child3 = \"Tobias\", child2 = \"Linus\")"
   ]
  },
  {
   "cell_type": "markdown",
   "metadata": {},
   "source": [
    "#### Belirsiz Sayıda Argümanları Anahtar Kelimeler İle Kullanma\n",
    "Fonksiyonunuza kaç tane anahtar kelime argümanı geçirileceğini bilmiyorsanız, fonksiyon tanımında parametre adının önüne iki tane yıldız işareti (**) ekleyin. Bu şekilde fonksiyon bir argüman sözlüğü alacak ve öğelere buna göre erişebilecektir."
   ]
  },
  {
   "cell_type": "code",
   "execution_count": 19,
   "metadata": {},
   "outputs": [
    {
     "name": "stdout",
     "output_type": "stream",
     "text": [
      "His last name is Refsnes\n"
     ]
    }
   ],
   "source": [
    "# ÖRNEK 10 : ** işareti ile anahtar ve değer belirleme\n",
    "def my_function(**kid):\n",
    "  print(\"His last name is \" + kid[\"lname\"])\n",
    "\n",
    "my_function(fname = \"Tobias\", lname = \"Refsnes\")"
   ]
  },
  {
   "cell_type": "markdown",
   "metadata": {},
   "source": [
    "#### Varsayılan Parametre Değeri\n",
    "Fonksiyonu argümansız çağırırsak varsayılan değeri kullanır."
   ]
  },
  {
   "cell_type": "code",
   "execution_count": 20,
   "metadata": {},
   "outputs": [
    {
     "name": "stdout",
     "output_type": "stream",
     "text": [
      "I am from Sweden\n",
      "I am from India\n",
      "I am from Norway\n",
      "I am from Brazil\n"
     ]
    }
   ],
   "source": [
    "# ÖRNEK 11 : Varsayılan parametre değeri , Eğer bir fonksiyon çağrılırken bir argüman belirtilmezse, varsayılan değer kullanılır.\n",
    "def my_function(country = \"Norway\"):\n",
    "  print(\"I am from \" + country)\n",
    "\n",
    "my_function(\"Sweden\")\n",
    "my_function(\"India\")\n",
    "my_function()\n",
    "my_function(\"Brazil\")\n"
   ]
  },
  {
   "cell_type": "markdown",
   "metadata": {},
   "source": [
    "#### Argüman Olarak Liste Yapısı Kullanmak\n",
    "Bir fonksiyona herhangi bir veri tipinde argüman gönderebilirsiniz (string, number, list, dictionary vs.) ve bu veri tipi fonksiyon içerisinde aynı veri tipi olarak ele alınacaktır. Örneğin bir Liste'yi argüman olarak gönderirseniz, fonksiyona ulaştığında hala bir Liste olacaktır."
   ]
  },
  {
   "cell_type": "code",
   "execution_count": 21,
   "metadata": {},
   "outputs": [
    {
     "name": "stdout",
     "output_type": "stream",
     "text": [
      "apple\n",
      "banana\n",
      "cherry\n"
     ]
    }
   ],
   "source": [
    "# ÖRNEK 12 : Fonksiyonun argüman olarak list alması\n",
    "def my_function(food):\n",
    "  for x in food:\n",
    "    print(x)\n",
    "\n",
    "fruits = [\"apple\", \"banana\", \"cherry\"]\n",
    "\n",
    "my_function(fruits)"
   ]
  },
  {
   "cell_type": "markdown",
   "metadata": {},
   "source": [
    "#### Dönüş Değerleri (return İfadesi)\n",
    "Bir fonksiyonun bir değer döndürmesini sağlamak için \" return \" ifadesini kullanırız."
   ]
  },
  {
   "cell_type": "code",
   "execution_count": 22,
   "metadata": {},
   "outputs": [
    {
     "name": "stdout",
     "output_type": "stream",
     "text": [
      "15\n",
      "25\n",
      "45\n"
     ]
    }
   ],
   "source": [
    "# ÖRNEK 13 : Fonksiyonun return ifadesi\n",
    "def my_function(x): # x değerini alan bir fonksiyon tanımlanır.\n",
    "  return 5 * x # x değerini 5 ile çarparak geri döndürür.\n",
    "\n",
    "print(my_function(3)) # Fonksiyon çağrılır ve 3 değeri argüman olarak gönderilir.\n",
    "print(my_function(5)) # Fonksiyon çağrılır ve 5 değeri argüman olarak gönderilir.\n",
    "print(my_function(9)) # Fonksiyon çağrılır ve 9 değeri argüman olarak gönderilir."
   ]
  },
  {
   "cell_type": "code",
   "execution_count": 24,
   "metadata": {},
   "outputs": [],
   "source": [
    "# NOT : Fonksiyonlar boş olamaz, ancak herhangi bir nedenden dolayı içeriği olmayan bir fonksiyon oluşturulmak istenirse, \n",
    "#       hata almamak için dönüş değeri olarak \"pass\" ifadesi kullanılabilir.\n",
    "\n",
    "# ÖRNEK 14 : Boş fonksiyon tanımlama\n",
    "def myfunction(): # Boş bir fonksiyon tanımlanır.\n",
    "  pass # Fonksiyonun içeriği boş olduğu için \"pass\" ifadesi kullanılır."
   ]
  },
  {
   "cell_type": "markdown",
   "metadata": {},
   "source": [
    "#### İç İçe Fonksiyonlar\n",
    "Python aynı zamanda fonksiyon yinelemesini de kabul eder, yani tanımlanmış bir fonksiyon kendini çağırabilir. Özyineleme, yaygın bir matematik ve programlama kavramıdır. Bir fonksiyonun kendisini çağırması anlamına gelir. Bu, bir sonuca ulaşmak için veriler arasında döngü kurabileceğiniz anlamına gelir.Geliştirici, asla sonlanmayan veya aşırı miktarda bellek veya işlemci gücü kullanan bir fonksiyon yazmaya kaymanın oldukça kolay olabileceği için yineleme konusunda çok dikkatli olmalıdır. Ancak, doğru şekilde yazıldığında yineleme, programlamaya yönelik çok verimli ve matematiksel olarak zarif bir yaklaşım olabilir."
   ]
  },
  {
   "cell_type": "code",
   "execution_count": 26,
   "metadata": {},
   "outputs": [
    {
     "name": "stdout",
     "output_type": "stream",
     "text": [
      "Recursion Example Results\n",
      "1\n",
      "3\n",
      "6\n",
      "10\n",
      "15\n",
      "21\n"
     ]
    },
    {
     "data": {
      "text/plain": [
       "21"
      ]
     },
     "execution_count": 26,
     "metadata": {},
     "output_type": "execute_result"
    }
   ],
   "source": [
    "# ÖRNEK 15 : Recursion (Öz Yineleme) , Bir fonksiyonun kendisini çağırması durumudur.\n",
    "def tri_recursion(k):\n",
    "  if(k > 0):\n",
    "    result = k + tri_recursion(k - 1)\n",
    "    print(result)\n",
    "  else:\n",
    "    result = 0\n",
    "  return result\n",
    "\n",
    "print(\"Recursion Example Results\")\n",
    "tri_recursion(6)\n"
   ]
  },
  {
   "cell_type": "markdown",
   "metadata": {},
   "source": [
    "#### Global Ve Yerel Değişkenler\n",
    "Pythonda her bir değişkenin, fonksiyonun ve ilerde göreceğimiz sınıfların (class) aslında bir kapsamı bulunur ve Python herbir  değişkeni bir isim alanında (namespace) tanımlanır. Değişkenlerin isim alanı ise, bu değişkenlerin nerelerde kullanılabileceğini gösterir.\n",
    "\n",
    "Python fonksiyonlarda tanımlanan değişkenler Python tarafından *YEREL* (local), değişkenler olarak tanımlanır. Yani bir fonksiyon bloğna oluşturulan değişkenler fonksiyona özgüdür ve fonksiyon çalışmasını bitirdikten sonra bu değişkenler bellekten silinir ve yok olur. Böylelikle fonksiyon içinde tanımlanmış ir değişkene başka bir yerden erişilemez.\n",
    "\n",
    "Pythonda en genel kapsama sahip değşkenler ise *GLOBAL* değişkenler olarak tanımlanır ve global değişkenlere tanımlandığı andan itibaren programın her yerinden ulaşabilirsiniz."
   ]
  },
  {
   "cell_type": "code",
   "execution_count": 27,
   "metadata": {},
   "outputs": [
    {
     "name": "stdout",
     "output_type": "stream",
     "text": [
      "10\n"
     ]
    },
    {
     "data": {
      "text/plain": [
       "<function print(*args, sep=' ', end='\\n', file=None, flush=False)>"
      ]
     },
     "execution_count": 27,
     "metadata": {},
     "output_type": "execute_result"
    }
   ],
   "source": [
    "# ÖRNEK 16 : Yerel değişkenler , Fonksiyon içerisinde tanımlanan değişkenlerdir.\n",
    "\n",
    "def myfunc():\n",
    "    a= 10\n",
    "    print(a)\n",
    "\n",
    "myfunc()\n",
    "print"
   ]
  },
  {
   "cell_type": "code",
   "execution_count": 28,
   "metadata": {},
   "outputs": [
    {
     "name": "stdout",
     "output_type": "stream",
     "text": [
      "5\n"
     ]
    }
   ],
   "source": [
    "# ÖRNEK 17 : Global değişkenler , Programın herhangi bir yerinde tanımlanan değişkenlerdir.\n",
    "\n",
    "b = 5 # Global değişken tanımlanır.\n",
    "def myfunc():\n",
    "    print(b) # Global değişken kullanılır.\n",
    "\n",
    "myfunc()"
   ]
  },
  {
   "cell_type": "code",
   "execution_count": 29,
   "metadata": {},
   "outputs": [
    {
     "name": "stdout",
     "output_type": "stream",
     "text": [
      "10\n",
      "5\n"
     ]
    }
   ],
   "source": [
    "# ÖRNEK 18 : Global değişkenler ve yerel değişkenler , Aynı isimde global ve yerel değişkenler tanımlanırsa.\n",
    "\n",
    "c = 5 # Global değişken tanımlanır.\n",
    "def myfunc():\n",
    "    c = 10 # Yerel değişken tanımlanır.\n",
    "    print(c) # Yerel değişken kullanılır.\n",
    "\n",
    "myfunc()\n",
    "print(c) # Global değişken kullanılır."
   ]
  },
  {
   "cell_type": "code",
   "execution_count": 31,
   "metadata": {},
   "outputs": [
    {
     "name": "stdout",
     "output_type": "stream",
     "text": [
      "10\n",
      "10\n"
     ]
    }
   ],
   "source": [
    "# ÖRNEK 19 : Yerel değişkenleri , global değişkenlere dönüştürme\n",
    "\n",
    "c = 5 # Global değişken tanımlanır.\n",
    "def myfunc():\n",
    "    global c # Yerel değişkeni global değişken olarak tanımlanır.\n",
    "    c = 10 # Global değişkenin değeri değiştirilir.\n",
    "    print(c) # Global değişken kullanılır.\n",
    "\n",
    "myfunc()\n",
    "print(c) # Global değişken kullanılır."
   ]
  },
  {
   "cell_type": "markdown",
   "metadata": {},
   "source": [
    "#### LAMBDA\n",
    "Python'da lambda fonksiyonu küçük, isimsiz bir fonksiyondur.Bir lambda işlevi herhangi bir sayıda argüman alabilir ancak yalnızca bir ifadeye sahip olabilir.\n",
    "\n",
    "etiket = lambda parametre1 , parametre2,  ..... , parametreN : işlem"
   ]
  },
  {
   "cell_type": "code",
   "execution_count": 32,
   "metadata": {},
   "outputs": [
    {
     "name": "stdout",
     "output_type": "stream",
     "text": [
      "Fonksiyon :  10\n",
      "Lambda :  10\n"
     ]
    }
   ],
   "source": [
    "# ÖRNEK 20 : Basit bir hesaplama fonksiyonu\n",
    "def ikiylecarpF(a):\n",
    "    return a * 2\n",
    "\n",
    "ikiylecarpL = lambda x : x*2\n",
    "\n",
    "print(\"Fonksiyon : \",ikiylecarpF(5))\n",
    "print(\"Lambda : \",ikiylecarpL(5))"
   ]
  }
 ],
 "metadata": {
  "kernelspec": {
   "display_name": "Python 3",
   "language": "python",
   "name": "python3"
  },
  "language_info": {
   "codemirror_mode": {
    "name": "ipython",
    "version": 3
   },
   "file_extension": ".py",
   "mimetype": "text/x-python",
   "name": "python",
   "nbconvert_exporter": "python",
   "pygments_lexer": "ipython3",
   "version": "3.11.4"
  }
 },
 "nbformat": 4,
 "nbformat_minor": 2
}
