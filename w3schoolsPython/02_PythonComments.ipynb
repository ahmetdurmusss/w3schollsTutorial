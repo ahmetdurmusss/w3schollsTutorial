{
 "cells": [
  {
   "cell_type": "markdown",
   "metadata": {},
   "source": [
    "## PYTHON YORUM (COMMENT) SATIRI\n",
    "\n",
    "Yorumlar Python kodlarını açıklamak için kullanılabilir.Kodu daha okunabilir hale getirmek için yorumlar kullanılabilir.Yorumlar, kodu test ederken yürütmeyi engellemek için kullanılabilir.\n"
   ]
  },
  {
   "cell_type": "markdown",
   "metadata": {},
   "source": [
    "#### Yorum Oluşturma\n",
    "\n",
    "Yorum satırlar genellikle \" # \" ifadesi ile başlar ve Python bunları görmezden gelir."
   ]
  },
  {
   "cell_type": "code",
   "execution_count": 1,
   "metadata": {},
   "outputs": [
    {
     "name": "stdout",
     "output_type": "stream",
     "text": [
      "Hello, World!\n"
     ]
    }
   ],
   "source": [
    "# ÖRNEK 1 : \n",
    "#This is a comment\n",
    "print(\"Hello, World!\")"
   ]
  },
  {
   "cell_type": "markdown",
   "metadata": {},
   "source": [
    "#### Çok Satırlı Yorumlar\n",
    "\n",
    "Python'da çok satırlı yorumlar için bir sözdizimi yoktur. Çok satırlı bir yorum eklemek için her satırın başına \" # \" ifadesini ekleyebilirsiniz."
   ]
  },
  {
   "cell_type": "code",
   "execution_count": 2,
   "metadata": {},
   "outputs": [
    {
     "name": "stdout",
     "output_type": "stream",
     "text": [
      "Hello, World!\n"
     ]
    }
   ],
   "source": [
    "# ÖRNEK 2 : Çok satırlı yorum satırları\n",
    "\n",
    "#This is a comment\n",
    "#written in\n",
    "#more than just one line\n",
    "print(\"Hello, World!\")"
   ]
  },
  {
   "cell_type": "markdown",
   "metadata": {},
   "source": [
    "NOT : Veya daha pratik olan yöntem ( üç tırnak kullanımı ) ile de çok satırlı yorumlar da ekleyebilirsiniz. "
   ]
  },
  {
   "cell_type": "code",
   "execution_count": 5,
   "metadata": {},
   "outputs": [
    {
     "name": "stdout",
     "output_type": "stream",
     "text": [
      "Hello, World!\n"
     ]
    }
   ],
   "source": [
    "# ÖRNEK 3 : Üçlü tek tırnak veya üçlü çift tırnak kullanarak çok satırlı yorum satırları\n",
    "\n",
    "\"\"\"\n",
    "This is a comment\n",
    "written in\n",
    "more than just one line\n",
    "\"\"\"\n",
    "print(\"Hello, World!\")"
   ]
  },
  {
   "cell_type": "markdown",
   "metadata": {},
   "source": [
    "NOT : Dize bir değişkene atanmadığı sürece Python kodu okuyacak,ancak daha sonra onu görmezden gelecek ve siz de çok satırlı bir yorum yapmış olacaksınız."
   ]
  }
 ],
 "metadata": {
  "kernelspec": {
   "display_name": "Python 3",
   "language": "python",
   "name": "python3"
  },
  "language_info": {
   "codemirror_mode": {
    "name": "ipython",
    "version": 3
   },
   "file_extension": ".py",
   "mimetype": "text/x-python",
   "name": "python",
   "nbconvert_exporter": "python",
   "pygments_lexer": "ipython3",
   "version": "3.11.4"
  }
 },
 "nbformat": 4,
 "nbformat_minor": 2
}
