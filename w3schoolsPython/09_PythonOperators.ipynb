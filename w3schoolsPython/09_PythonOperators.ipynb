{
 "cells": [
  {
   "cell_type": "markdown",
   "metadata": {},
   "source": [
    "## PYTHON OPERATÖRLERİ\n",
    "Operatörler değişkenler ve değerler üzerinde işlem yapmak için kullanılır."
   ]
  },
  {
   "cell_type": "code",
   "execution_count": 1,
   "metadata": {},
   "outputs": [
    {
     "name": "stdout",
     "output_type": "stream",
     "text": [
      "15\n"
     ]
    }
   ],
   "source": [
    "# ÖRNEK 1 : Basit bir toplama işlemi\n",
    "\n",
    "print(10 + 5)"
   ]
  },
  {
   "cell_type": "markdown",
   "metadata": {},
   "source": [
    "Python operatörleri şu gruplara ayırır:\n",
    "\n",
    "1) Aritmetik operatörler\n",
    "2) Atama operatörleri\n",
    "3) Karşılaştırma operatörleri\n",
    "4) Mantıksal operatörler\n",
    "5) Kimlik operatörleri\n",
    "6) Üyelik operatörleri\n",
    "7) Bitsel operatörler"
   ]
  },
  {
   "cell_type": "markdown",
   "metadata": {},
   "source": [
    "#### 1) Python Aritmetik Operatörleri"
   ]
  },
  {
   "cell_type": "markdown",
   "metadata": {},
   "source": [
    "1) \"  +  \"\t---->   Toplama\t         -----> x + y\t\n",
    "2) \"  -  \"\t---->   Çıkarma\t         -----> x - y\t\n",
    "3) \"  *  \"\t---->   Çarpma\t         -----> x * y\t\n",
    "4) \"  /  \" \t---->   Bölme\t         -----> x / y\t\n",
    "5) \"  %  \"\t---->   Mod Alma         -----> x % y\t\n",
    "6) \"  ** \"\t---->   Üs Alma\t         -----> x ** y\t\n",
    "7) \"  // \"\t---->   Kalansız Bölme\t -----> x // y"
   ]
  },
  {
   "cell_type": "markdown",
   "metadata": {},
   "source": [
    "#### 2) Python Atama Operatörleri"
   ]
  },
  {
   "cell_type": "markdown",
   "metadata": {},
   "source": [
    "1)  \" =\t    \"   --->   x = 5\t        ---->   x = 5\t\n",
    "2)  \" +=\t\"   --->   x += 3\t        ---->   x = x + 3\t\n",
    "3)  \" -=\t\"   --->   x -= 3\t        ---->   x = x - 3\t\n",
    "4)  \" *=\t\"   --->   x *= 3\t        ---->   x = x * 3\t\n",
    "5)  \" /=\t\"   --->   x /= 3           ---->   x = x / 3\t\n",
    "6)  \" %=\t\"   --->   x %= 3\t        ---->   x = x % 3\t\n",
    "7)  \" //=\t\"   --->   x //= 3\t        ---->   x = x // 3\t\n",
    "8)  \" **=\t\"   --->   x **= 3\t        ---->   x = x ** 3\t\n",
    "9)  \" &=\t\"   --->   x &= 3\t        ---->   x = x & 3\t\n",
    "10) \" |=\t\"   --->   x |= 3\t        ---->   x = x | 3\t\n",
    "11) \" ^=\t\"   --->   x ^= 3\t        ---->   x = x ^ 3\t\n",
    "12) \" >>=   \"   --->   x >>= 3\t        ---->   x = x >> 3\t\n",
    "13) \" <<=\t\"   --->   x <<= 3\t        ---->   x = x << 3\t\n",
    "14) \" :=\t\"   --->   print(x := 3)\t---->   x = 3   print(x)\t\n"
   ]
  },
  {
   "cell_type": "markdown",
   "metadata": {},
   "source": [
    "#### 3) Python Karşılaştırma Operatörleri"
   ]
  },
  {
   "cell_type": "markdown",
   "metadata": {},
   "source": [
    "1) \" ==\t\" --->  Denktir\t         ---->  x == y\t\n",
    "2) \" !=\t\" --->  Denk Değildir\t ---->  x != y\t\n",
    "3) \" >\t\" --->  Büyüktür\t     ---->  x > y\t\n",
    "4) \" <\t\" --->  Küçüktür\t     ---->  x < y\t\n",
    "5) \" >=\t\" --->  Büyük Eşittir\t ---->  x >= y\t\n",
    "6) \" <=\t\" --->  Küçük Eşittir\t ---->  x <= y"
   ]
  },
  {
   "cell_type": "markdown",
   "metadata": {},
   "source": [
    "#### 4) Python Mantıksal Operatörler"
   ]
  },
  {
   "cell_type": "markdown",
   "metadata": {},
   "source": [
    "1) ve \t  ----->    Her iki ifade de doğruysa True değerini döndürür\t              ----->  x < 5 and  x < 10\t\n",
    "2) veya\t  ----->    İfadelerden biri doğruysa True değerini döndürür\t              ----->  x < 5 or x < 4\t\n",
    "3) değil  ----->    Sonucu tersine çevirir, sonuç doğruysa Yanlış değerini döndürür\t  ----->  not(x < 5 and x < 10)"
   ]
  },
  {
   "cell_type": "markdown",
   "metadata": {},
   "source": [
    "#### 5) Python Kimlik Operatörleri\n",
    "Kimlik operatörleri, nesnelerin eşit olup olmadıklarını değil, aynı nesne olup olmadıklarını ve aynı bellek konumuna sahip olup olmadıklarını karşılaştırmak için kullanılır:"
   ]
  },
  {
   "cell_type": "markdown",
   "metadata": {},
   "source": [
    "1) is \t    ----->  Her iki değişken de aynı nesne ise True değerini döndürür\t     ------>    x is y\t\n",
    "2) is not\t----->  Her iki değişken de aynı nesne değilse True değerini döndürür\t ------>    x is not y"
   ]
  },
  {
   "cell_type": "markdown",
   "metadata": {},
   "source": [
    "#### 6) Python Üyelik Operatörleri"
   ]
  },
  {
   "cell_type": "markdown",
   "metadata": {},
   "source": [
    "1) in \t    ---->   Nesnede belirtilen değere sahip bir dizi mevcutsa True değerini döndürür\t    ---->  x in y\t\n",
    "2) not in   ---->   Nesnede belirtilen değere sahip bir sıra mevcut değilse True değerini döndürür  ---->  x not in y"
   ]
  },
  {
   "cell_type": "markdown",
   "metadata": {},
   "source": [
    "#### 7) Python Bitwise Operatörleri"
   ]
  },
  {
   "cell_type": "markdown",
   "metadata": {},
   "source": [
    "1) \"&\"  AND\t -----> Her iki bit de 1 ise her biti 1'e ayarlar               ------> x & y\n",
    "2) \"|\"  OR\t -----> İki bitten biri 1 ise her biti 1'e ayarlar              ------> x | y\n",
    "3) \"^\"  XOR\t -----> İki bitten yalnızca biri 1 ise her biti 1'e ayarlar     ------> x ^ y \n",
    "4) \"~\"  NOT\t -----> Tüm bitleri tersine çevirir                             ------> ~x\t  \n"
   ]
  },
  {
   "cell_type": "markdown",
   "metadata": {},
   "source": [
    "#### Operatör İşlem Önceliği"
   ]
  },
  {
   "cell_type": "code",
   "execution_count": 6,
   "metadata": {},
   "outputs": [
    {
     "name": "stdout",
     "output_type": "stream",
     "text": [
      "0\n"
     ]
    }
   ],
   "source": [
    "# 1 - Parantez içindeki işlemler önce yapılır\n",
    "\n",
    "# ÖRNEK 2 : Parantez içindeki işlemler\n",
    "print((6 + 3) - (6 + 3))"
   ]
  },
  {
   "cell_type": "code",
   "execution_count": 5,
   "metadata": {},
   "outputs": [
    {
     "name": "stdout",
     "output_type": "stream",
     "text": [
      "115\n"
     ]
    }
   ],
   "source": [
    "# 2- Çarpma ve bölme işlemleri toplama ve çıkarma işlemlerinden önce yapılır\n",
    "\n",
    "# ÖRNEK 3 : Çarpma ve topkama işlemleri\n",
    "print(100 + 5 * 3)"
   ]
  },
  {
   "cell_type": "code",
   "execution_count": 7,
   "metadata": {},
   "outputs": [
    {
     "name": "stdout",
     "output_type": "stream",
     "text": [
      "5\n"
     ]
    }
   ],
   "source": [
    "# NOT : Eğer iki operatörün önceliği aynı ise ifade soldan sağa doğru değerlendirilir.\n",
    "\n",
    "# ÖRNEK 4 : Toplama ve çıkarma işlemleri\n",
    "print(5 + 4 - 7 + 3)"
   ]
  }
 ],
 "metadata": {
  "kernelspec": {
   "display_name": "Python 3",
   "language": "python",
   "name": "python3"
  },
  "language_info": {
   "codemirror_mode": {
    "name": "ipython",
    "version": 3
   },
   "file_extension": ".py",
   "mimetype": "text/x-python",
   "name": "python",
   "nbconvert_exporter": "python",
   "pygments_lexer": "ipython3",
   "version": "3.11.4"
  }
 },
 "nbformat": 4,
 "nbformat_minor": 2
}
