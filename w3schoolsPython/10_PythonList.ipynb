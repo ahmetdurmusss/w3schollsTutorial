{
 "cells": [
  {
   "cell_type": "markdown",
   "metadata": {},
   "source": [
    "## PYTHON LİSTELERİ"
   ]
  },
  {
   "cell_type": "code",
   "execution_count": 1,
   "metadata": {},
   "outputs": [],
   "source": [
    "# ÖRNEK 1 : Liste \n",
    "mylist = [\"apple\", \"banana\", \"cherry\"]"
   ]
  },
  {
   "cell_type": "markdown",
   "metadata": {},
   "source": [
    "#### Liste\n",
    "Listeler, birden fazla öğeyi tek bir değişkende saklamak için kullanılır.Listeler, Python'da veri koleksiyonlarını depolamak için kullanılan 4 yerleşik veri türünden biridir; diğer 3'ü Tuple , Set ve Dictionary'dir ; hepsinin farklı nitelikleri ve kullanımları vardır.Listeler köşeli parantez kullanılarak oluşturulur."
   ]
  },
  {
   "cell_type": "code",
   "execution_count": 2,
   "metadata": {},
   "outputs": [
    {
     "name": "stdout",
     "output_type": "stream",
     "text": [
      "['apple', 'banana', 'cherry']\n"
     ]
    }
   ],
   "source": [
    "# ÖRNEK 2 : Liste oluşturma\n",
    "thislist = [\"apple\", \"banana\", \"cherry\"]\n",
    "print(thislist)"
   ]
  },
  {
   "cell_type": "markdown",
   "metadata": {},
   "source": [
    "#### Liste Öğeleri\n",
    "Liste öğeleri sıralıdır, değiştirilebilir ve yinelenen değerlere izin verir. Liste öğeleri indekslenir, ilk öğenin indeksi vardır [0], ikinci öğenin indeksi vardır [1]vb.\n",
    "\n",
    "Listelerin sıralı olduğunu söylediğimizde, öğelerin belirli bir sıraya sahip olduğu ve bu sıranın değişmeyeceği anlamına gelir.Bir listeye yeni öğeler eklerseniz, yeni öğeler listenin sonuna yerleştirilir.\n",
    "\n",
    "Liste değiştirilebilirdir, yani bir liste oluşturulduktan sonra içindeki öğeleri değiştirebilir, ekleyebilir veya kaldırabiliriz.\n",
    "\n",
    "Listeler indeksli olduğundan, listeler aynı değere sahip öğelere sahip olabilir."
   ]
  },
  {
   "cell_type": "code",
   "execution_count": 1,
   "metadata": {},
   "outputs": [
    {
     "name": "stdout",
     "output_type": "stream",
     "text": [
      "['apple', 'banana', 'cherry', 'apple', 'cherry']\n"
     ]
    }
   ],
   "source": [
    "# ÖRNEK 3 : Liste içerisinde aynı olan elemanların bulunması durumu\n",
    "\n",
    "thislist = [\"apple\", \"banana\", \"cherry\", \"apple\", \"cherry\"]\n",
    "print(thislist)"
   ]
  },
  {
   "cell_type": "markdown",
   "metadata": {},
   "source": [
    "#### Liste Uzunluğu\n",
    "Bir listenin kaç öğeden oluştuğunu belirlemek için \" len() \" fonksiyonu kullanılır."
   ]
  },
  {
   "cell_type": "code",
   "execution_count": 1,
   "metadata": {},
   "outputs": [
    {
     "name": "stdout",
     "output_type": "stream",
     "text": [
      "3\n"
     ]
    }
   ],
   "source": [
    "# ÖRNEK 4 : Liste eleman sayısını bulma\n",
    "\n",
    "thislist = [\"apple\", \"banana\", \"cherry\"]\n",
    "print(len(thislist))"
   ]
  },
  {
   "cell_type": "markdown",
   "metadata": {},
   "source": [
    "#### Liste Öğeleri - Veri Türleri\n",
    "Liste öğeleri herhangi bir veri türünde olabilir."
   ]
  },
  {
   "cell_type": "code",
   "execution_count": 2,
   "metadata": {},
   "outputs": [],
   "source": [
    "# Listeler her türlü veri tipini içerebilir.\n",
    "\n",
    "# ÖRNEK 5 : Liste içerisinde farklı veri tipleri\n",
    "list1 = [\"apple\", \"banana\", \"cherry\"]\n",
    "list2 = [1, 5, 7, 9, 3]\n",
    "list3 = [True, False, False]"
   ]
  },
  {
   "cell_type": "code",
   "execution_count": 3,
   "metadata": {},
   "outputs": [],
   "source": [
    "# ÖRNEK 6 : Liste içerisinde farklı veri tipleri\n",
    "\n",
    "list1 = [\"abc\", 34, True, 40, \"male\"]"
   ]
  },
  {
   "cell_type": "markdown",
   "metadata": {},
   "source": [
    "#### list() Yapıcısı\n",
    "Yeni bir liste oluştururken list() işlevi kullanılarak oluşturmakta mümkündür."
   ]
  },
  {
   "cell_type": "code",
   "execution_count": 4,
   "metadata": {},
   "outputs": [
    {
     "name": "stdout",
     "output_type": "stream",
     "text": [
      "['apple', 'banana', 'cherry']\n"
     ]
    }
   ],
   "source": [
    "# ÖRNEK 7 : list() işlevi ile liste oluşturma\n",
    "\n",
    "thislist = list((\"apple\", \"banana\", \"cherry\"))\n",
    "print(thislist)"
   ]
  },
  {
   "cell_type": "markdown",
   "metadata": {},
   "source": [
    "#### Liste Öğelerine Erişim \n",
    "Liste öğeleri indekslenmiştir ve bunlara indeks numarasına başvurarak ulaşabilirsiniz:"
   ]
  },
  {
   "cell_type": "code",
   "execution_count": 2,
   "metadata": {},
   "outputs": [
    {
     "name": "stdout",
     "output_type": "stream",
     "text": [
      "banana\n"
     ]
    }
   ],
   "source": [
    "# ÖRNEK 8 : Liste elemanlarına erişim ; listenin ikinci elemanına erişim\n",
    "\n",
    "thislist = [\"apple\", \"banana\", \"cherry\"]\n",
    "print(thislist[1]) # listelerde index 0'dan başlar"
   ]
  },
  {
   "cell_type": "code",
   "execution_count": 5,
   "metadata": {},
   "outputs": [
    {
     "name": "stdout",
     "output_type": "stream",
     "text": [
      "cherry\n"
     ]
    }
   ],
   "source": [
    "# NEGATİF İNDEXLER  ; Negatif indeksleme sondan başlamak anlamına gelir. \"-1\" son elamana atıfta bulunur, \" -2 \"sondan ikinci maddeye atıfta bulunur vb.\n",
    "\n",
    "# ÖRNEK 9 : Negatif indeksleme\n",
    "thislist = [\"apple\", \"banana\", \"cherry\"]\n",
    "print(thislist[-1])"
   ]
  },
  {
   "cell_type": "code",
   "execution_count": 7,
   "metadata": {},
   "outputs": [
    {
     "name": "stdout",
     "output_type": "stream",
     "text": [
      "['cherry', 'orange', 'kiwi']\n"
     ]
    }
   ],
   "source": [
    "# ARALIKLI İNDEXLER ; Aralıklı indeksleme, belirli bir aralıktaki öğeleri almak için kullanılır. \n",
    "# İlk indeks belirtilir ve ikinci indeks belirtilir. İlk indeks dahil edilir, ancak ikinci indeks dahil edilmez.\n",
    "\n",
    "# ÖRNEK 10 : Aralıklı indeksleme\n",
    "thislist = [\"apple\", \"banana\", \"cherry\", \"orange\", \"kiwi\", \"melon\", \"mango\"]\n",
    "print(thislist[2:5]) # 2. indeksten 5. indekse kadar olan elemanları alır. 5. indeks dahil değildir."
   ]
  },
  {
   "cell_type": "code",
   "execution_count": 8,
   "metadata": {},
   "outputs": [
    {
     "name": "stdout",
     "output_type": "stream",
     "text": [
      "['apple', 'banana', 'cherry', 'orange']\n"
     ]
    }
   ],
   "source": [
    "# NOT : Aralıklı indexlemede başlangıç ve bitiş indeksleri belirtilmezse, başlangıç indeksi 0 ve bitiş indeksi son eleman olarak kabul edilir.\n",
    "\n",
    "# ÖRNEK 11 : Başlangıç indeksi belirtilmeyen aralıklı indeksleme\n",
    "thislist = [\"apple\", \"banana\", \"cherry\", \"orange\", \"kiwi\", \"melon\", \"mango\"]\n",
    "print(thislist[:4])\n"
   ]
  },
  {
   "cell_type": "code",
   "execution_count": 9,
   "metadata": {},
   "outputs": [
    {
     "name": "stdout",
     "output_type": "stream",
     "text": [
      "['cherry', 'orange', 'kiwi', 'melon', 'mango']\n"
     ]
    }
   ],
   "source": [
    "# ÖRNEK 12 : Bitiş indeksi belirtilmeyen aralıklı indeksleme\n",
    "hislist = [\"apple\", \"banana\", \"cherry\", \"orange\", \"kiwi\", \"melon\", \"mango\"]\n",
    "print(thislist[2:])"
   ]
  },
  {
   "cell_type": "code",
   "execution_count": 10,
   "metadata": {},
   "outputs": [
    {
     "name": "stdout",
     "output_type": "stream",
     "text": [
      "['orange', 'kiwi', 'melon']\n"
     ]
    }
   ],
   "source": [
    "# NEGATİF ARALIKLI İNDEXLER ; Negatif aralıklı indeksleme, belirli bir aralıktaki öğeleri almak için kullanılır.\n",
    "\n",
    "# ÖRNEK 13 : Negatif aralıklı indeksleme\n",
    "thislist = [\"apple\", \"banana\", \"cherry\", \"orange\", \"kiwi\", \"melon\", \"mango\"]\n",
    "print(thislist[-4:-1]) # -4. indeksten -1. indekse kadar olan elemanları alır. -1. indeks dahil değildir."
   ]
  },
  {
   "cell_type": "markdown",
   "metadata": {},
   "source": [
    "#### Liste İçi Değer Sorgulama"
   ]
  },
  {
   "cell_type": "code",
   "execution_count": 11,
   "metadata": {},
   "outputs": [
    {
     "name": "stdout",
     "output_type": "stream",
     "text": [
      "Yes, 'apple' is in the fruits list\n"
     ]
    }
   ],
   "source": [
    "# ÖRNEK 14 : Belirtilen nesnenin var olup olmadığını kontrol etme\n",
    "\n",
    "thislist = [\"apple\", \"banana\", \"cherry\"]\n",
    "if \"apple\" in thislist: # \"apple\" elemanı thislist listesinde var mı?\n",
    "  print(\"Yes, 'apple' is in the fruits list\")"
   ]
  },
  {
   "cell_type": "markdown",
   "metadata": {},
   "source": [
    "#### Liste Öğelerini Değiştirme"
   ]
  },
  {
   "cell_type": "code",
   "execution_count": 12,
   "metadata": {},
   "outputs": [
    {
     "name": "stdout",
     "output_type": "stream",
     "text": [
      "['apple', 'blackcurrant', 'cherry']\n"
     ]
    }
   ],
   "source": [
    "# Öğe Değerini Değiştirme ; Liste elemanlarını değiştirmek için, belirli bir indeksi seçin ve yeni bir değer atayın.\n",
    "\n",
    "# ÖRNEK 15 : Liste elemanlarını değiştirme\n",
    "thislist = [\"apple\", \"banana\", \"cherry\"]\n",
    "thislist[1] = \"blackcurrant\" # 1. indeksteki elemanı \"blackcurrant\" ile değiştirir.\n",
    "print(thislist)"
   ]
  },
  {
   "cell_type": "code",
   "execution_count": 13,
   "metadata": {},
   "outputs": [
    {
     "name": "stdout",
     "output_type": "stream",
     "text": [
      "['apple', 'blackcurrant', 'watermelon', 'orange', 'kiwi', 'mango']\n"
     ]
    }
   ],
   "source": [
    "# ÖRNEK 16 : Birden fazla elemanı değiştirme\n",
    "\n",
    "thislist = [\"apple\", \"banana\", \"cherry\", \"orange\", \"kiwi\", \"mango\"]\n",
    "thislist[1:3] = [\"blackcurrant\", \"watermelon\"] # 1. indeksten 3. indekse kadar olan elemanları \"blackcurrant\" ve \"watermelon\" ile değiştirir.\n",
    "print(thislist)"
   ]
  },
  {
   "cell_type": "code",
   "execution_count": 15,
   "metadata": {},
   "outputs": [
    {
     "name": "stdout",
     "output_type": "stream",
     "text": [
      "['apple', 'blackcurrant', 'watermelon', 'cherry']\n",
      "4\n"
     ]
    }
   ],
   "source": [
    "# NOT : Eğer yeni değerlerin sayısı, değiştirilecek değerlerin sayısından farklı ise, liste eleman sayısı değişir.\n",
    "\n",
    "# ÖRNEK 17 : Değiştirilecek eleman sayısı ile yeni eleman sayısı farklı ise \n",
    "thislist = [\"apple\", \"banana\", \"cherry\"]\n",
    "thislist[1:2] = [\"blackcurrant\", \"watermelon\"]\n",
    "print(thislist)\n",
    "print(\"Liste Uznuluğu : \",len(thislist))"
   ]
  },
  {
   "cell_type": "code",
   "execution_count": 16,
   "metadata": {},
   "outputs": [
    {
     "name": "stdout",
     "output_type": "stream",
     "text": [
      "['apple', 'watermelon']\n",
      "Liste Uzunluğu :  2\n"
     ]
    }
   ],
   "source": [
    "# ÖRNEK 18 : Değiştirilecek eleman sayısı ile yeni eleman sayısı farklı ise\n",
    "thislist = [\"apple\", \"banana\", \"cherry\"]\n",
    "thislist[1:3] = [\"watermelon\"]\n",
    "print(thislist)\n",
    "print(\"Liste Uzunluğu : \",len(thislist))"
   ]
  },
  {
   "cell_type": "markdown",
   "metadata": {},
   "source": [
    "### Listelere Öğe Ekleme"
   ]
  },
  {
   "cell_type": "code",
   "execution_count": 17,
   "metadata": {},
   "outputs": [
    {
     "name": "stdout",
     "output_type": "stream",
     "text": [
      "['apple', 'banana', 'watermelon', 'cherry']\n"
     ]
    }
   ],
   "source": [
    "# insert () Metodu ; \" Belirtilen indekse \" belirtilen değeri ekler.\n",
    "\n",
    "# ÖRNEK 19 : insert() metodu ile eleman ekleme\n",
    "thislist = [\"apple\", \"banana\", \"cherry\"]\n",
    "thislist.insert(2, \"watermelon\")\n",
    "print(thislist)"
   ]
  },
  {
   "cell_type": "code",
   "execution_count": 18,
   "metadata": {},
   "outputs": [
    {
     "name": "stdout",
     "output_type": "stream",
     "text": [
      "['apple', 'banana', 'cherry', 'orange']\n"
     ]
    }
   ],
   "source": [
    "# append() Metodu ; Listeye eleman eklemek için append() metodu kullanılır. Yeni elemanı listenin \" sonuna \" ekler.\n",
    "\n",
    "thislist = [\"apple\", \"banana\", \"cherry\"]\n",
    "thislist.append(\"orange\")\n",
    "print(thislist)"
   ]
  },
  {
   "cell_type": "code",
   "execution_count": 19,
   "metadata": {},
   "outputs": [
    {
     "name": "stdout",
     "output_type": "stream",
     "text": [
      "['apple', 'banana', 'cherry', 'mango', 'pineapple', 'papaya']\n"
     ]
    }
   ],
   "source": [
    "# extend() Metodu ; Bir liste elemanlarını başka bir liste ile birleştirmek için extend() metodu kullanılır. \n",
    "\n",
    "# ÖRNEK 20 : extend() metodu ile listeleri birleştirme\n",
    "thislist = [\"apple\", \"banana\", \"cherry\"]\n",
    "tropical = [\"mango\", \"pineapple\", \"papaya\"]\n",
    "thislist.extend(tropical)\n",
    "print(thislist)"
   ]
  },
  {
   "cell_type": "code",
   "execution_count": 20,
   "metadata": {},
   "outputs": [
    {
     "name": "stdout",
     "output_type": "stream",
     "text": [
      "['apple', 'banana', 'cherry', 'kiwi', 'orange']\n"
     ]
    }
   ],
   "source": [
    "# ÖRNEK 21 : extend() metodu ile liste ve tuple birleştirme\n",
    "thislist = [\"apple\", \"banana\", \"cherry\"]\n",
    "thistuple = (\"kiwi\", \"orange\")\n",
    "thislist.extend(thistuple)\n",
    "print(thislist)"
   ]
  },
  {
   "cell_type": "markdown",
   "metadata": {},
   "source": [
    "#### Liste Öğelerini Kaldırma"
   ]
  },
  {
   "cell_type": "code",
   "execution_count": 21,
   "metadata": {},
   "outputs": [
    {
     "name": "stdout",
     "output_type": "stream",
     "text": [
      "['apple', 'cherry']\n"
     ]
    }
   ],
   "source": [
    "# remove() Metodu ; Belirtilen değere sahip ilk öğeyi kaldırır.\n",
    "\n",
    "# ÖRNEK 22 : remove() metodu ile eleman kaldırma\n",
    "thislist = [\"apple\", \"banana\", \"cherry\"]\n",
    "thislist.remove(\"banana\")\n",
    "print(thislist)"
   ]
  },
  {
   "cell_type": "code",
   "execution_count": 23,
   "metadata": {},
   "outputs": [
    {
     "name": "stdout",
     "output_type": "stream",
     "text": [
      "['apple', 'cherry']\n"
     ]
    }
   ],
   "source": [
    "# pop() Metodu ; Belirtilen indekse sahip öğeyi kaldırır.\n",
    "\n",
    "# ÖRNEK 23 : pop() metodu ile eleman kaldırma\n",
    "thislist = [\"apple\", \"banana\", \"cherry\"]\n",
    "thislist.pop(1)\n",
    "print(thislist)"
   ]
  },
  {
   "cell_type": "code",
   "execution_count": 25,
   "metadata": {},
   "outputs": [
    {
     "name": "stdout",
     "output_type": "stream",
     "text": [
      "['apple', 'banana']\n"
     ]
    }
   ],
   "source": [
    "# NOT : pop() metodu indeks belirtilmezse, son elemanı kaldırır.\n",
    "\n",
    "# ÖRNEK 24 : pop() metodu ile eleman kaldırma\n",
    "thislist = [\"apple\", \"banana\", \"cherry\"]\n",
    "thislist.pop()\n",
    "print(thislist)"
   ]
  },
  {
   "cell_type": "code",
   "execution_count": 26,
   "metadata": {},
   "outputs": [
    {
     "name": "stdout",
     "output_type": "stream",
     "text": [
      "['banana', 'cherry']\n"
     ]
    }
   ],
   "source": [
    "# del Anahtar Kelimesi ; Belirtilen indekse sahip öğeyi kaldırır.\n",
    "\n",
    "# ÖRNEK 25 : del anahtar kelimesi ile eleman kaldırma\n",
    "thislist = [\"apple\", \"banana\", \"cherry\"]\n",
    "del thislist[0]\n",
    "print(thislist)"
   ]
  },
  {
   "cell_type": "code",
   "execution_count": 27,
   "metadata": {},
   "outputs": [],
   "source": [
    "# NOT : del anahtar kelimesi ile liste tamamen silinebilir.\n",
    "\n",
    "# ÖRNEK 26 : del anahtar kelimesi ile liste silme\n",
    "thislist = [\"apple\", \"banana\", \"cherry\"]\n",
    "del thislist"
   ]
  },
  {
   "cell_type": "code",
   "execution_count": 28,
   "metadata": {},
   "outputs": [
    {
     "name": "stdout",
     "output_type": "stream",
     "text": [
      "[]\n"
     ]
    }
   ],
   "source": [
    "# clear() Metodu ; Listeyi temizler.\n",
    "\n",
    "# ÖRNEK 27 : clear() metodu ile liste temizleme\n",
    "thislist = [\"apple\", \"banana\", \"cherry\"]\n",
    "thislist.clear()\n",
    "print(thislist)"
   ]
  },
  {
   "cell_type": "markdown",
   "metadata": {},
   "source": [
    "#### Listelerde Döngü Kullanımı\n",
    "\n",
    "\" for \" döngüsü kullanılarak listeler içinde gezinilebilir ve istenilen işlemler yapılabilir."
   ]
  },
  {
   "cell_type": "code",
   "execution_count": 29,
   "metadata": {},
   "outputs": [
    {
     "name": "stdout",
     "output_type": "stream",
     "text": [
      "apple\n",
      "banana\n",
      "cherry\n"
     ]
    }
   ],
   "source": [
    "# ÖRNEK : for döngüsü ile liste elemanlarını yazdırma\n",
    "thislist = [\"apple\", \"banana\", \"cherry\"]\n",
    "for x in thislist:\n",
    "  print(x)"
   ]
  }
 ],
 "metadata": {
  "kernelspec": {
   "display_name": "Python 3",
   "language": "python",
   "name": "python3"
  },
  "language_info": {
   "codemirror_mode": {
    "name": "ipython",
    "version": 3
   },
   "file_extension": ".py",
   "mimetype": "text/x-python",
   "name": "python",
   "nbconvert_exporter": "python",
   "pygments_lexer": "ipython3",
   "version": "3.11.4"
  }
 },
 "nbformat": 4,
 "nbformat_minor": 2
}
