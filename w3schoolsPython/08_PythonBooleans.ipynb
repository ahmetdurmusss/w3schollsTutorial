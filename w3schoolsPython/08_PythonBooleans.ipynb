{
 "cells": [
  {
   "cell_type": "markdown",
   "metadata": {},
   "source": [
    "## PYTHON MANTIK (Boole) DEĞERLERİ\n",
    "Boole değerleri iki değerden birini temsil eder: Doğru (True) veya Yanlış (False)"
   ]
  },
  {
   "cell_type": "markdown",
   "metadata": {},
   "source": [
    "**Örnek**"
   ]
  },
  {
   "cell_type": "code",
   "execution_count": 1,
   "metadata": {},
   "outputs": [
    {
     "name": "stdout",
     "output_type": "stream",
     "text": [
      "True\n",
      "False\n",
      "False\n"
     ]
    }
   ],
   "source": [
    "# ÖRNEK 1 : Python'da Mantıksal Operatörler\n",
    "\n",
    "print(10 > 9)  # 10, 9'dan büyük mü ? ----> True\n",
    "print(10 == 9) # 10, 9'a denk mi ?    ----> False\n",
    "print(10 < 9)  # 10, 9'dan küçük mü ? ----> False"
   ]
  },
  {
   "cell_type": "code",
   "execution_count": 4,
   "metadata": {},
   "outputs": [
    {
     "name": "stdout",
     "output_type": "stream",
     "text": [
      "b, a'dan büyük değil\n"
     ]
    }
   ],
   "source": [
    "# NOT : Bir if ifadesinde bir koşulu çalıştırdığınızda Python True veya False değerini döndürür.\n",
    "\n",
    "# ÖRNEK 2 : Python'da Mantıksal Operatörlerin Koşullu Kullanımı\n",
    "a = 200\n",
    "b = 33\n",
    "\n",
    "if b > a:\n",
    "  print(\"b, a'dan büyük\")\n",
    "else:\n",
    "  print(\"b, a'dan büyük değil\")"
   ]
  },
  {
   "cell_type": "markdown",
   "metadata": {},
   "source": [
    "### Değerlerin ve Değişkenlerin Mantıksal Karşılıkları\n",
    "bool()fonksiyonu herhangi bir değeri değerlendirmenize ve karşılığında size True veya False değeri vermenize olanak tanır."
   ]
  },
  {
   "cell_type": "markdown",
   "metadata": {},
   "source": [
    "**Örnek\n",
    "Bir dizeyi ve bir sayıyı değerlendirin:**"
   ]
  },
  {
   "cell_type": "code",
   "execution_count": 5,
   "metadata": {},
   "outputs": [
    {
     "name": "stdout",
     "output_type": "stream",
     "text": [
      "True\n",
      "True\n"
     ]
    }
   ],
   "source": [
    "# ÖRNEK 3 : Değerlerin mantıksal durumlarını kontrol etme\n",
    "\n",
    "print(bool(\"Hello\"))\n",
    "print(bool(15))"
   ]
  },
  {
   "cell_type": "markdown",
   "metadata": {},
   "source": [
    "**Örnek\n",
    "İki değişkeni değerlendirin:**"
   ]
  },
  {
   "cell_type": "code",
   "execution_count": 6,
   "metadata": {},
   "outputs": [
    {
     "name": "stdout",
     "output_type": "stream",
     "text": [
      "True\n",
      "True\n"
     ]
    }
   ],
   "source": [
    "# ÖRNEK 4 : Değişkenlerin mantıksal durumlarını kontrol etme\n",
    "\n",
    "x = \"Hello\"\n",
    "y = 15\n",
    "\n",
    "print(bool(x))\n",
    "print(bool(y))"
   ]
  },
  {
   "cell_type": "markdown",
   "metadata": {},
   "source": [
    "#### NOT : Çoğu değer doğrudur.\n",
    "True : Herhangi bir değer, br tür içeriğe sahip olması halinde değerlendirilir.\"0 (sıfır) \" hariç herhangi bir değer True olur.\n",
    "Boş olanlar hariç , her liste, tuple, küme ve sözlük True olur."
   ]
  },
  {
   "cell_type": "markdown",
   "metadata": {},
   "source": [
    "**Örnek\n",
    "Aşağıdakiler True değerini döndürecektir:**"
   ]
  },
  {
   "cell_type": "code",
   "execution_count": 7,
   "metadata": {},
   "outputs": [
    {
     "data": {
      "text/plain": [
       "True"
      ]
     },
     "execution_count": 7,
     "metadata": {},
     "output_type": "execute_result"
    }
   ],
   "source": [
    "# ÖRNEK 5 : bool() fonksiyonu ile değerlerin mantıksal durumlarını kontrol etme\n",
    "\n",
    "bool(\"abc\")\n",
    "bool(123)\n",
    "bool([\"apple\", \"cherry\", \"banana\"])"
   ]
  },
  {
   "cell_type": "code",
   "execution_count": 9,
   "metadata": {},
   "outputs": [
    {
     "data": {
      "text/plain": [
       "False"
      ]
     },
     "execution_count": 9,
     "metadata": {},
     "output_type": "execute_result"
    }
   ],
   "source": [
    "# ÖRNEK 6 : bool() fonksiyonu ile değerlerin mantıksal durumlarını kontrol etme\n",
    "bool(False)\n",
    "bool(None)\n",
    "bool(0)\n",
    "bool(\"\")\n",
    "bool(())\n",
    "bool([])\n",
    "bool({})"
   ]
  },
  {
   "cell_type": "code",
   "execution_count": 9,
   "metadata": {},
   "outputs": [
    {
     "name": "stdout",
     "output_type": "stream",
     "text": [
      "YES!\n"
     ]
    }
   ],
   "source": [
    "def myFunction() :\n",
    "  return True\n",
    "\n",
    "if myFunction():\n",
    "  print(\"YES!\")\n",
    "else:\n",
    "  print(\"NO!\")"
   ]
  },
  {
   "cell_type": "code",
   "execution_count": 11,
   "metadata": {},
   "outputs": [
    {
     "name": "stdout",
     "output_type": "stream",
     "text": [
      "False\n"
     ]
    }
   ],
   "source": [
    "# NOT : isinstace() fonksiyonu ile bir değişkenin türünü kontrol edebiliriz.\n",
    "\n",
    "# ÖRNEK 7 : isinstance() fonksiyonu ile bir değişkenin türünü kontrol etme\n",
    "x = 200\n",
    "print(isinstance(x, float)) # x değişkeni float mı ?"
   ]
  }
 ],
 "metadata": {
  "kernelspec": {
   "display_name": "Python 3",
   "language": "python",
   "name": "python3"
  },
  "language_info": {
   "codemirror_mode": {
    "name": "ipython",
    "version": 3
   },
   "file_extension": ".py",
   "mimetype": "text/x-python",
   "name": "python",
   "nbconvert_exporter": "python",
   "pygments_lexer": "ipython3",
   "version": "3.11.4"
  }
 },
 "nbformat": 4,
 "nbformat_minor": 2
}
