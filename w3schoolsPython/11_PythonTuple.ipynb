{
 "cells": [
  {
   "cell_type": "markdown",
   "metadata": {},
   "source": [
    "## PYTHON TUPLE (DEMET - DESTE)\n",
    "Tuple, birden fazla öğeyi tek bir değişkende saklamak için kullanılır. Tuple, Python'da veri koleksiyonlarını depolamak için kullanılan 4 yerleşik veri türünden biridir; diğer 3'ü List , Set ve Dictionary'dir ve hepsinin farklı nitelikleri ve kullanımları vardır.\n",
    "\n",
    "Bir tuple, sıralı ve \" değiştirilemez \" bir koleksiyondur .\n",
    "\n",
    "Tuple gergin parantezlerle yazılır."
   ]
  },
  {
   "cell_type": "code",
   "execution_count": 4,
   "metadata": {},
   "outputs": [
    {
     "name": "stdout",
     "output_type": "stream",
     "text": [
      "('apple', 'banana', 'cherry')\n"
     ]
    }
   ],
   "source": [
    "# ÖRNEK 1 : Tuple oluşturma\n",
    "mytuple = (\"apple\", \"banana\", \"cherry\")\n",
    "print(mytuple)"
   ]
  },
  {
   "cell_type": "code",
   "execution_count": 12,
   "metadata": {},
   "outputs": [
    {
     "name": "stdout",
     "output_type": "stream",
     "text": [
      "('apple', 'banana', 'cherry')\n"
     ]
    }
   ],
   "source": [
    "# ÖRNEK 2 : Tuple oluşturma\n",
    "thistuple = tuple((\"apple\", \"banana\", \"cherry\"))\n",
    "print(thistuple)"
   ]
  },
  {
   "cell_type": "markdown",
   "metadata": {},
   "source": [
    "#### Tuple Öğeleri: \n",
    "Tuple öğeleri sıralıdır *(\" tupleların sıralı olduğunu söylediğimizde, öğelerin belirli bir sıraya sahip olduğu ve bu sıranın değişmeyeceği anlamına gelir. \")* , değiştirilemez *(Tuples değiştirilemezdir, yani demet oluşturulduktan sonra öğeleri değiştiremez, ekleyemez veya kaldıramayız.)*  ve yinelenen değerlere izin verir *(Demetler indeksli olduğundan, aynı değere sahip öğelere sahip olabilirler)*. Tuple öğeleri indekslenir, ilk öğenin indeksi vardır [0], ikinci öğenin indeksi vardır [1]vb."
   ]
  },
  {
   "cell_type": "code",
   "execution_count": 13,
   "metadata": {},
   "outputs": [
    {
     "name": "stdout",
     "output_type": "stream",
     "text": [
      "('apple', 'banana', 'cherry', 'apple', 'cherry')\n"
     ]
    }
   ],
   "source": [
    "# ÖRNEK 3 : Aynı değer barındıran tuple oluşturma\n",
    "thistuple = (\"apple\", \"banana\", \"cherry\", \"apple\", \"cherry\")\n",
    "print(thistuple)"
   ]
  },
  {
   "cell_type": "markdown",
   "metadata": {},
   "source": [
    "#### Tuple Eleman Sayısı"
   ]
  },
  {
   "cell_type": "code",
   "execution_count": 14,
   "metadata": {},
   "outputs": [
    {
     "name": "stdout",
     "output_type": "stream",
     "text": [
      "3\n"
     ]
    }
   ],
   "source": [
    "# len() fonksiyonu ile tuple eleman sayısını öğrenme\n",
    "\n",
    "# ÖRNEK 4 : \"thistuple\" adlı tuple içinde kaç eleman olduğunu öğrenme\n",
    "thistuple = (\"apple\", \"banana\", \"cherry\")\n",
    "print(len(thistuple))"
   ]
  },
  {
   "cell_type": "code",
   "execution_count": 15,
   "metadata": {},
   "outputs": [
    {
     "name": "stdout",
     "output_type": "stream",
     "text": [
      "<class 'tuple'>\n",
      "<class 'str'>\n"
     ]
    }
   ],
   "source": [
    "# Tek Öğeli Tuple Oluşturma\n",
    "\n",
    "# ÖRNEK 5 : Tek öğeli tuple oluşturma\n",
    "thistuple = (\"apple\",) # tek öğeli tuple oluşturmak için sonuna virgül eklenmelidir.\n",
    "print(type(thistuple))\n",
    "\n",
    "\n",
    "thistuple = (\"apple\") # Bu durumda tuple oluşturulmaz\n",
    "print(type(thistuple))"
   ]
  },
  {
   "cell_type": "markdown",
   "metadata": {},
   "source": [
    "#### Tuple Veri Türleri\n",
    "Tuple öğeleri herhangi bir veri türünde olabilir.\n"
   ]
  },
  {
   "cell_type": "code",
   "execution_count": 16,
   "metadata": {},
   "outputs": [
    {
     "name": "stdout",
     "output_type": "stream",
     "text": [
      "('apple', 'banana', 'cherry')\n",
      "(1, 5, 7, 9, 3)\n",
      "(True, False, False)\n"
     ]
    }
   ],
   "source": [
    "# ÖRNEK 6 : Farlı veri tiplerinden tuple oluşturma\n",
    "\n",
    "tuple1 = (\"apple\", \"banana\", \"cherry\")\n",
    "tuple2 = (1, 5, 7, 9, 3)\n",
    "tuple3 = (True, False, False)\n",
    "print(tuple1)\n",
    "print(tuple2)\n",
    "print(tuple3)"
   ]
  },
  {
   "cell_type": "code",
   "execution_count": 17,
   "metadata": {},
   "outputs": [
    {
     "name": "stdout",
     "output_type": "stream",
     "text": [
      "('abc', 34, True, 40, 'male')\n"
     ]
    }
   ],
   "source": [
    "# ÖRNEK 7 : Tuple içinde farklı veri tipleri barındırma\n",
    "tuple1 = (\"abc\", 34, True, 40, \"male\")\n",
    "print(tuple1)"
   ]
  },
  {
   "cell_type": "markdown",
   "metadata": {},
   "source": [
    "#### Tuple Öğelerine Erişim\n",
    "Köşeli parantez içindeki indeks numarasına başvurarak tuple öğelerine erişebilirsiniz."
   ]
  },
  {
   "cell_type": "code",
   "execution_count": 19,
   "metadata": {},
   "outputs": [
    {
     "name": "stdout",
     "output_type": "stream",
     "text": [
      "banana\n"
     ]
    }
   ],
   "source": [
    "# ÖRNEK 8 : \" thistuple \" 'ın 2.öğesini yazdıralım.\n",
    "thistuple = (\"apple\", \"banana\", \"cherry\")\n",
    "print(thistuple[1]) # NOT: İlk öğenin indeksi 0'dır."
   ]
  },
  {
   "cell_type": "code",
   "execution_count": 24,
   "metadata": {},
   "outputs": [
    {
     "name": "stdout",
     "output_type": "stream",
     "text": [
      "cherry\n"
     ]
    }
   ],
   "source": [
    "# NEGATİF İNDEXLEME : Negatif indeksleme sondan başlamak anlamına gelir. -1son elemana atıfta bulunur, -2 sondan ikinci elemana atıfta bulunur vb.\n",
    "\n",
    "# ÖRNEK 9 : \"thistuple\" 'ın son öğesini yazdıralım.\n",
    "thistuple = (\"apple\", \"banana\", \"cherry\")\n",
    "print(thistuple[-1])"
   ]
  },
  {
   "cell_type": "code",
   "execution_count": 25,
   "metadata": {},
   "outputs": [
    {
     "name": "stdout",
     "output_type": "stream",
     "text": [
      "('cherry', 'orange', 'kiwi')\n"
     ]
    }
   ],
   "source": [
    "# ARALIKLI İNDEXLEME : Aralığın nerede başlayacağını ve nerede biteceğini belirterek bir dizin aralığı belirleyebilirsiniz.\n",
    "# Bir aralık belirtildiğinde, dönüş değeri belirtilen öğelere sahip yeni bir tuple olacaktır.\n",
    "\n",
    "# ÖRNEK 10 : Aralılı indexleme \n",
    "thistuple = (\"apple\", \"banana\", \"cherry\", \"orange\", \"kiwi\", \"melon\", \"mango\")\n",
    "print(thistuple[2:5]) # 2. indeksten başlayarak 5. indekse kadar (5. indeks dahil değil) elemanları yazdırır."
   ]
  },
  {
   "cell_type": "code",
   "execution_count": 26,
   "metadata": {},
   "outputs": [
    {
     "name": "stdout",
     "output_type": "stream",
     "text": [
      "('apple', 'banana', 'cherry', 'orange')\n"
     ]
    }
   ],
   "source": [
    "# NOT : Eğer başlangıç değeri verilmemişse başlangıç değeri 0'dır. Eğer bitiş değeri verilmemişse bitiş değeri tuple'ın son elemanıdır.\n",
    "\n",
    "# ÖRNEK 11 : Başlangıç değeri verilmemiş aralıklı indexleme.\n",
    "thistuple = (\"apple\", \"banana\", \"cherry\", \"orange\", \"kiwi\", \"melon\", \"mango\")\n",
    "print(thistuple[:4])"
   ]
  },
  {
   "cell_type": "code",
   "execution_count": 27,
   "metadata": {},
   "outputs": [
    {
     "name": "stdout",
     "output_type": "stream",
     "text": [
      "('cherry', 'orange', 'kiwi', 'melon', 'mango')\n"
     ]
    }
   ],
   "source": [
    "# ÖRNEK 12 : Bitiş değeri girilmemiş aralıklı indexleme\n",
    "thistuple = (\"apple\", \"banana\", \"cherry\", \"orange\", \"kiwi\", \"melon\", \"mango\")\n",
    "print(thistuple[2:])"
   ]
  },
  {
   "cell_type": "code",
   "execution_count": 1,
   "metadata": {},
   "outputs": [
    {
     "name": "stdout",
     "output_type": "stream",
     "text": [
      "('orange', 'kiwi', 'melon')\n"
     ]
    }
   ],
   "source": [
    "# ARLIKLI NEGATİF İNDEXLEME : Negatif indeksleme ile aralıklı indexleme yapabiliriz.\n",
    "\n",
    "# ÖRNEK 13 : Negatif indeksleme ile aralıklı indexleme\n",
    "thistuple = (\"apple\", \"banana\", \"cherry\", \"orange\", \"kiwi\", \"melon\", \"mango\")\n",
    "print(thistuple[-4:-1]) # -4. indeksten başlayarak -1. indekse kadar ( -1. indeks dahil değil) elemanları yazdırır."
   ]
  },
  {
   "cell_type": "markdown",
   "metadata": {},
   "source": [
    "#### Bir Değerin Sözlük İçinde Varlığını Kontrol Etmek"
   ]
  },
  {
   "cell_type": "code",
   "execution_count": 2,
   "metadata": {},
   "outputs": [
    {
     "name": "stdout",
     "output_type": "stream",
     "text": [
      "Yes, 'apple' is in the fruits tuple\n"
     ]
    }
   ],
   "source": [
    "# ÖRNEK 14 : Tuple içinde arama yapma\n",
    "thistuple = (\"apple\", \"banana\", \"cherry\")\n",
    "if \"apple\" in thistuple: # \"apple\" adlı öğenin tuple içinde olup olmadığını kontrol eder.\n",
    "  print(\"Yes, 'apple' is in the fruits tuple\")"
   ]
  },
  {
   "cell_type": "markdown",
   "metadata": {},
   "source": [
    "#### Tuple'ları Güncellemek\n",
    "Tupleler değiştirilemezdir, yani demet oluşturulduktan sonra öğeleri değiştiremez, ekleyemez veya kaldıramazsınız.Ama bazı geçici çözümler var."
   ]
  },
  {
   "cell_type": "code",
   "execution_count": 3,
   "metadata": {},
   "outputs": [
    {
     "name": "stdout",
     "output_type": "stream",
     "text": [
      "('apple', 'kiwi', 'cherry')\n"
     ]
    }
   ],
   "source": [
    "# tuple elemanlarını değiştirmek için tuple'u listeye çevirip değişiklik yapabiliriz.\n",
    "\n",
    "# ÖRNEK 15 : Tuple elemanlarını değiştirme\n",
    "x = (\"apple\", \"banana\", \"cherry\")\n",
    "y = list(x)\n",
    "y[1] = \"kiwi\"\n",
    "x = tuple(y)\n",
    "\n",
    "print(x)"
   ]
  },
  {
   "cell_type": "markdown",
   "metadata": {},
   "source": [
    "#### Tuple'a Öğe Eklemek"
   ]
  },
  {
   "cell_type": "code",
   "execution_count": 5,
   "metadata": {},
   "outputs": [],
   "source": [
    "# 1 - Listeye Dönüştürme : Bir tuple'ı değiştirmenin geçici çözümü gibi , onu bir listeye dönüştürebilir, \n",
    "#                          öğelerinizi ekleyebilir ve tekrar tuple'a dönüştürebilirsiniz.\n",
    "\n",
    "# ÖRNEK 16 : Tuple eleman eklemek\n",
    "thistuple = (\"apple\", \"banana\", \"cherry\")\n",
    "y = list(thistuple)\n",
    "y.append(\"orange\")\n",
    "thistuple = tuple(y)"
   ]
  },
  {
   "cell_type": "code",
   "execution_count": 6,
   "metadata": {},
   "outputs": [
    {
     "name": "stdout",
     "output_type": "stream",
     "text": [
      "('apple', 'banana', 'cherry', 'orange')\n"
     ]
    }
   ],
   "source": [
    "# 2 - Tuple Birleştirme : İki tuple birleştirme işlemi yapılabilir. \n",
    "\n",
    "# ÖRNEK 17 : Tuple birleştirme\n",
    "thistuple = (\"apple\", \"banana\", \"cherry\")\n",
    "y = (\"orange\",) # tek öğeli tuple oluşturmak için sonuna virgül eklenmelidir.\n",
    "thistuple += y\n",
    "\n",
    "print(thistuple)"
   ]
  },
  {
   "cell_type": "markdown",
   "metadata": {},
   "source": [
    "#### Tuple Öğeleri Kaldırma\n",
    "1)  Bir tuple içindeki öğeleri kaldıramazsınız.\n",
    "\n",
    "Demetler değiştirilemez olduğundan, öğeleri ondan kaldıramazsınız, ancak demet öğelerini değiştirmek ve eklemek için kullandığımız geçici çözümü kullanabilirsiniz:"
   ]
  },
  {
   "cell_type": "code",
   "execution_count": 7,
   "metadata": {},
   "outputs": [],
   "source": [
    "# 1 - Listeye Dönüştürme : Bir tuple'ı değiştirmenin geçici çözümü gibi , onu bir listeye dönüştürebilir,\n",
    "\n",
    "# ÖRNEK 18 : Tuple eleman silme\n",
    "thistuple = (\"apple\", \"banana\", \"cherry\")\n",
    "y = list(thistuple)\n",
    "y.remove(\"apple\")\n",
    "thistuple = tuple(y)"
   ]
  },
  {
   "cell_type": "code",
   "execution_count": 8,
   "metadata": {},
   "outputs": [
    {
     "ename": "NameError",
     "evalue": "name 'thistuple' is not defined",
     "output_type": "error",
     "traceback": [
      "\u001b[1;31m---------------------------------------------------------------------------\u001b[0m",
      "\u001b[1;31mNameError\u001b[0m                                 Traceback (most recent call last)",
      "Cell \u001b[1;32mIn[8], line 6\u001b[0m\n\u001b[0;32m      4\u001b[0m thistuple \u001b[38;5;241m=\u001b[39m (\u001b[38;5;124m\"\u001b[39m\u001b[38;5;124mapple\u001b[39m\u001b[38;5;124m\"\u001b[39m, \u001b[38;5;124m\"\u001b[39m\u001b[38;5;124mbanana\u001b[39m\u001b[38;5;124m\"\u001b[39m, \u001b[38;5;124m\"\u001b[39m\u001b[38;5;124mcherry\u001b[39m\u001b[38;5;124m\"\u001b[39m)\n\u001b[0;32m      5\u001b[0m \u001b[38;5;28;01mdel\u001b[39;00m thistuple\n\u001b[1;32m----> 6\u001b[0m \u001b[38;5;28mprint\u001b[39m(\u001b[43mthistuple\u001b[49m) \u001b[38;5;66;03m# Bu satır hata verecektir çünkü \"thistuple\" adlı tuple silinmiştir.\u001b[39;00m\n",
      "\u001b[1;31mNameError\u001b[0m: name 'thistuple' is not defined"
     ]
    }
   ],
   "source": [
    "# 2 - del anahtar kelimesi : Tuple elemanlarını silmek için del anahtar kelimesi kullanılır.\n",
    "\n",
    "# ÖRNEK 19 : Tuple eleman silme\n",
    "thistuple = (\"apple\", \"banana\", \"cherry\")\n",
    "del thistuple\n",
    "print(thistuple) # Bu satır hata verecektir çünkü \"thistuple\" adlı tuple silinmiştir."
   ]
  },
  {
   "cell_type": "markdown",
   "metadata": {},
   "source": [
    "###  Tuple Paketleme - Açma\n",
    "Bir tuple oluşturduğumuzda, normalde ona değerler atarız. Buna tuple'ı \"paketleme\" denir:"
   ]
  },
  {
   "cell_type": "code",
   "execution_count": 11,
   "metadata": {},
   "outputs": [
    {
     "name": "stdout",
     "output_type": "stream",
     "text": [
      "apple\n",
      "banana\n",
      "cherry\n"
     ]
    }
   ],
   "source": [
    "# ÖRNEK 20 : Tuple paketleme ve açma\n",
    "fruits = (\"apple\", \"banana\", \"cherry\") # Tuple paketleme\n",
    "\n",
    "(green, yellow, red) = fruits # Tuple açma\n",
    "\n",
    "\n",
    "# NOT : Değişken sayısı, değişken grubundaki değer sayısıyla eşleşmelidir. \n",
    "#     Aksi takdirde kalan değerleri bir liste halinde toplamak için yıldız işareti kullanmalısınız.\n",
    "\n",
    "\n",
    "\n",
    "print(green) # Tuple açma sonucu \"green\" adlı değişkenin değeri \"apple\" olacaktır.\n",
    "print(yellow) # Tuple açma sonucu \"yellow\" adlı değişkenin değeri \"banana\" olacaktır.\n",
    "print(red) # Tuple açma sonucu \"red\" adlı değişkenin değeri \"cherry\" olacaktır."
   ]
  },
  {
   "cell_type": "code",
   "execution_count": 13,
   "metadata": {},
   "outputs": [
    {
     "name": "stdout",
     "output_type": "stream",
     "text": [
      "Green :  apple\n",
      "Yellow :  banana\n",
      "Red :  ['cherry', 'strawberry', 'raspberry']\n"
     ]
    }
   ],
   "source": [
    "# NOT : Eğer tuple içindeki değerlerin hepsine ihtiyacınız yoksa, yıldız işareti (*) kullanarak geri kalan değerleri alabilirsiniz.\n",
    "\n",
    "# ÖRNEK 21 : Tuple paketleme ve açma\n",
    "fruits = (\"apple\", \"banana\", \"cherry\", \"strawberry\", \"raspberry\")\n",
    "\n",
    "(green, yellow, *red) = fruits\n",
    "\n",
    "print(\"Green : \",green)\n",
    "print(\"Yellow : \",yellow)\n",
    "print(\"Red : \",red)\n"
   ]
  },
  {
   "cell_type": "code",
   "execution_count": 14,
   "metadata": {},
   "outputs": [
    {
     "name": "stdout",
     "output_type": "stream",
     "text": [
      "Green :  apple\n",
      "Tropic :  ['mango', 'papaya', 'pineapple']\n",
      "Red :  cherry\n"
     ]
    }
   ],
   "source": [
    "# NOT : Eğer (*) işareti sondan farklı bir değişken ismine eklenirse, kalan değer sayısıyla eşleşene kadar değerleri alır.\n",
    "\n",
    "# ÖRNEK 22 : Tuple paketleme ve açma\n",
    "fruits = (\"apple\", \"mango\", \"papaya\", \"pineapple\", \"cherry\")\n",
    "\n",
    "(green, *tropic, red) = fruits # \"red\" adlı değişken tuple içindeki son değeri alır.\n",
    "\n",
    "print(\"Green : \",green)\n",
    "print(\"Tropic : \",tropic)\n",
    "print(\"Red : \",red)"
   ]
  },
  {
   "cell_type": "markdown",
   "metadata": {},
   "source": [
    "#### Tuple'da Döngüler"
   ]
  },
  {
   "cell_type": "code",
   "execution_count": 15,
   "metadata": {},
   "outputs": [
    {
     "name": "stdout",
     "output_type": "stream",
     "text": [
      "apple\n",
      "banana\n",
      "cherry\n"
     ]
    }
   ],
   "source": [
    "# 1 - FOR DÖNGÜSÜ : Tuple içindeki öğeleri yazdırmak için for döngüsü kullanılabilir.\n",
    "\n",
    "# ÖREK 23 : Tuple içinde döngü kullanma\n",
    "thistuple = (\"apple\", \"banana\", \"cherry\")\n",
    "for x in thistuple:\n",
    "  print(x)\n"
   ]
  },
  {
   "cell_type": "code",
   "execution_count": 17,
   "metadata": {},
   "outputs": [
    {
     "name": "stdout",
     "output_type": "stream",
     "text": [
      "apple\n",
      "banana\n",
      "cherry\n"
     ]
    }
   ],
   "source": [
    "# 2- İNDEX DEĞERİ İLE fOR DÖNGÜSÜ YAPMA : Tuple içindeki elemanların indeks değerlerini yazdırmak için range() fonksiyonu kullanılır.\n",
    "\n",
    "# ÖRNEK 24 : Tuple içinde döngü kullanma\n",
    "thistuple = (\"apple\", \"banana\", \"cherry\")\n",
    "for i in range(len(thistuple)):\n",
    "  print(thistuple[i])"
   ]
  },
  {
   "cell_type": "code",
   "execution_count": 18,
   "metadata": {},
   "outputs": [
    {
     "name": "stdout",
     "output_type": "stream",
     "text": [
      "apple\n",
      "banana\n",
      "cherry\n"
     ]
    }
   ],
   "source": [
    "# 3 - WHILE DÖNGÜSÜ : Tuple içindeki öğeleri yazdırmak için while döngüsü kullanılabilir.\n",
    "\n",
    "# ÖRNEK 25 : Tuple içinde döngü kullanma\n",
    "thistuple = (\"apple\", \"banana\", \"cherry\")\n",
    "i = 0\n",
    "while i < len(thistuple):\n",
    "  print(thistuple[i])\n",
    "  i = i + 1"
   ]
  },
  {
   "cell_type": "markdown",
   "metadata": {},
   "source": [
    "#### Tuple Birleştirme"
   ]
  },
  {
   "cell_type": "code",
   "execution_count": 19,
   "metadata": {},
   "outputs": [
    {
     "name": "stdout",
     "output_type": "stream",
     "text": [
      "('a', 'b', 'c', 1, 2, 3)\n"
     ]
    }
   ],
   "source": [
    "# ÖRNEK 26 : Tuple'ları (+) operatörü ile birleştirme\n",
    "\n",
    "tuple1 = (\"a\", \"b\" , \"c\")\n",
    "tuple2 = (1, 2, 3)\n",
    "\n",
    "tuple3 = tuple1 + tuple2\n",
    "print(tuple3)"
   ]
  },
  {
   "cell_type": "markdown",
   "metadata": {},
   "source": [
    "#### Tuple Çarpma"
   ]
  },
  {
   "cell_type": "code",
   "execution_count": 20,
   "metadata": {},
   "outputs": [
    {
     "name": "stdout",
     "output_type": "stream",
     "text": [
      "('apple', 'banana', 'cherry', 'apple', 'banana', 'cherry')\n"
     ]
    }
   ],
   "source": [
    "# ÖRNEK 27 : Tuple'ları (*) operatörü ile çoğaltma\n",
    "\n",
    "fruits = (\"apple\", \"banana\", \"cherry\")\n",
    "mytuple = fruits * 2\n",
    "\n",
    "print(mytuple)"
   ]
  },
  {
   "cell_type": "markdown",
   "metadata": {},
   "source": [
    "#### Tuple Yöntemleri\n",
    "\n",
    "1) count() ----->\tBelirli bir değerin bir tanımlama dizisinde kaç kez oluştuğunu döndürür\n",
    "2) index() ----->\tSTuple'da belirli bir değeri arar ve bulunduğu yerin konumunu döndürür"
   ]
  }
 ],
 "metadata": {
  "kernelspec": {
   "display_name": "Python 3",
   "language": "python",
   "name": "python3"
  },
  "language_info": {
   "codemirror_mode": {
    "name": "ipython",
    "version": 3
   },
   "file_extension": ".py",
   "mimetype": "text/x-python",
   "name": "python",
   "nbconvert_exporter": "python",
   "pygments_lexer": "ipython3",
   "version": "3.11.4"
  }
 },
 "nbformat": 4,
 "nbformat_minor": 2
}
