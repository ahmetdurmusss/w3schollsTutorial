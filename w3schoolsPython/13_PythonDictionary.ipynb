{
 "cells": [
  {
   "cell_type": "markdown",
   "metadata": {},
   "source": [
    "## PYTHON SÖZLÜKLER\n",
    "Sözlükler, veri değerlerini {anahtar:değer} çiftleri halinde depolamak için kullanılır.Sözlükler, sıralı, değiştirilebilir ve tekrarlara izin vermeyen bir veri yapısındadır."
   ]
  },
  {
   "cell_type": "code",
   "execution_count": 58,
   "metadata": {},
   "outputs": [],
   "source": [
    "thisdict = {\n",
    "  \"brand\": \"Ford\",\n",
    "  \"model\": \"Mustang\",\n",
    "  \"year\": 1964\n",
    "}"
   ]
  },
  {
   "cell_type": "code",
   "execution_count": 59,
   "metadata": {},
   "outputs": [
    {
     "name": "stdout",
     "output_type": "stream",
     "text": [
      "{'brand': 'Ford', 'model': 'Mustang', 'year': 1964}\n"
     ]
    }
   ],
   "source": [
    "# ÖRNEK 1: Bir sözlük oluşturalım.\n",
    "thisdict = {\n",
    "  \"brand\": \"Ford\",\n",
    "  \"model\": \"Mustang\",\n",
    "  \"year\": 1964\n",
    "}\n",
    "print(thisdict)"
   ]
  },
  {
   "cell_type": "code",
   "execution_count": 60,
   "metadata": {},
   "outputs": [
    {
     "name": "stdout",
     "output_type": "stream",
     "text": [
      "{'name': 'John', 'age': 36, 'country': 'Norway'}\n"
     ]
    }
   ],
   "source": [
    "# dict() fonksiyonu ile sözlük oluşturmak.\n",
    "# ÖRNEK 2: dict() fonksiyonu ile sözlük oluşturalım. \n",
    "\n",
    "thisdict = dict(name = \"John\", age = 36, country = \"Norway\")\n",
    "print(thisdict)"
   ]
  },
  {
   "cell_type": "markdown",
   "metadata": {},
   "source": [
    "#### Sözlük Öğeleri\n",
    "\n",
    "Sözlük maddeleri *sıralıdır, değiştirilebilir ve tekrarlara izin verilmez*.Sözlük öğeleri anahtar:değer çiftleri halinde sunulur ve anahtar adı kullanılarak bunlara başvurulabilir"
   ]
  },
  {
   "cell_type": "code",
   "execution_count": 61,
   "metadata": {},
   "outputs": [
    {
     "name": "stdout",
     "output_type": "stream",
     "text": [
      "Ford\n"
     ]
    }
   ],
   "source": [
    "# ÖRNEK 3: Sözlükteli \"brand\" (marka) değerini yazdıralım.\n",
    "\n",
    "thisdict = {\n",
    "  \"brand\": \"Ford\",\n",
    "  \"model\": \"Mustang\",\n",
    "  \"year\": 1964\n",
    "}\n",
    "print(thisdict[\"brand\"])"
   ]
  },
  {
   "cell_type": "code",
   "execution_count": 1,
   "metadata": {},
   "outputs": [
    {
     "name": "stdout",
     "output_type": "stream",
     "text": [
      "{'brand': 'Ford', 'model': 'Mustang', 'year': 2020}\n"
     ]
    }
   ],
   "source": [
    "# ÖRNEK 4 : Sözlükte tekrar eden bir anahtar değer varsa, son değeri alır.\n",
    "\n",
    "thisdict = {\n",
    "  \"brand\": \"Ford\",\n",
    "  \"model\": \"Mustang\",\n",
    "  \"year\": 1964, # Son değer alınır.\n",
    "  \"year\": 2020 # Son değer alınır.\n",
    "}\n",
    "print(thisdict)"
   ]
  },
  {
   "cell_type": "markdown",
   "metadata": {},
   "source": [
    "#### Sözlük Uzunluğu\n",
    "Bir sözlüğün kaç ögeden oluştuğunu belirlemek için  \" len() \" fonksiyonu kullanılır."
   ]
  },
  {
   "cell_type": "code",
   "execution_count": 63,
   "metadata": {},
   "outputs": [
    {
     "name": "stdout",
     "output_type": "stream",
     "text": [
      "3\n"
     ]
    }
   ],
   "source": [
    "# ÖRNEK 5: Sözlükteki eleman sayısını yazdıralım.\n",
    "print(len(thisdict))"
   ]
  },
  {
   "cell_type": "markdown",
   "metadata": {},
   "source": [
    "#### Sözlük Öğeleri - Veri Türleri\n",
    "Sözlük öğelerindeki değerler herhangi bir veri türünde olabilir."
   ]
  },
  {
   "cell_type": "code",
   "execution_count": 64,
   "metadata": {},
   "outputs": [],
   "source": [
    "# ÖRNEK 6 :Dize, int, boolean ve liste veri türleri.\n",
    "thisdict = {\n",
    "  \"brand\": \"Ford\",\n",
    "  \"electric\": False,\n",
    "  \"year\": 1964,\n",
    "  \"colors\": [\"red\", \"white\", \"blue\"]\n",
    "}"
   ]
  },
  {
   "cell_type": "code",
   "execution_count": 65,
   "metadata": {},
   "outputs": [
    {
     "name": "stdout",
     "output_type": "stream",
     "text": [
      "<class 'dict'>\n"
     ]
    }
   ],
   "source": [
    "# ÖRNEK 7 : Sözlüğün veri türünü yazdıralım. type() fonksiyonu kullanılır.\n",
    "\n",
    "thisdict = {\n",
    "  \"brand\": \"Ford\",\n",
    "  \"model\": \"Mustang\",\n",
    "  \"year\": 1964\n",
    "}\n",
    "print(type(thisdict)) # <class 'dict'>"
   ]
  },
  {
   "cell_type": "markdown",
   "metadata": {},
   "source": [
    "#### Sözlük Öğelerine Erişim\n",
    "Bir sözlüğün öğelerine, köşeli parantez içindeki anahtar adına başvurarak erişebilirsiniz."
   ]
  },
  {
   "cell_type": "code",
   "execution_count": 66,
   "metadata": {},
   "outputs": [
    {
     "name": "stdout",
     "output_type": "stream",
     "text": [
      "Mustang\n"
     ]
    }
   ],
   "source": [
    "# ÖRNEK 8 : Sözlükteli \"model\" değerini yazdıralım.\n",
    "\n",
    "thisdict = {\n",
    "  \"brand\": \"Ford\",\n",
    "  \"model\": \"Mustang\",\n",
    "  \"year\": 1964\n",
    "}\n",
    "x1 = thisdict[\"model\"]\n",
    "print(x1)"
   ]
  },
  {
   "cell_type": "code",
   "execution_count": 67,
   "metadata": {},
   "outputs": [
    {
     "name": "stdout",
     "output_type": "stream",
     "text": [
      "Mustang\n"
     ]
    }
   ],
   "source": [
    "# get() fonksiyonu ile sözlükten değer almak.\n",
    "# ÖRNEK 9 : get() fonksiyonu ile \"model\" değerini yazdıralım.\n",
    "\n",
    "y1 = thisdict.get(\"model\")\n",
    "print(y1)"
   ]
  },
  {
   "cell_type": "code",
   "execution_count": 85,
   "metadata": {},
   "outputs": [
    {
     "name": "stdout",
     "output_type": "stream",
     "text": [
      "dict_keys(['brand', 'model', 'year'])\n"
     ]
    }
   ],
   "source": [
    "# keys() fonksiyonu ile sözlükteki anahtarları yazdıralım.\n",
    "\n",
    "# ÖRNEK 10 : keys() fonksiyonu ile sözlükteki anahtarları yazdıralım.\n",
    "thisdict = {\n",
    "  \"brand\": \"Ford\",\n",
    "  \"model\": \"Mustang\",\n",
    "  \"year\": 1964\n",
    "}\n",
    "x = thisdict.keys()\n",
    "print(x)"
   ]
  },
  {
   "cell_type": "code",
   "execution_count": 69,
   "metadata": {},
   "outputs": [
    {
     "name": "stdout",
     "output_type": "stream",
     "text": [
      "dict_keys(['brand', 'model', 'year'])\n",
      "dict_keys(['brand', 'model', 'year', 'color'])\n"
     ]
    }
   ],
   "source": [
    "# NOT : keys() fonksiyonu bir sözlüğün anahtarlarını alır ve bir görünüm nesnesi döndürür \n",
    "# ve sözlük üzerinde değişiklik yapılırsa anahtarlar görünüm nesnesinde değişir.\n",
    "\n",
    "# ÖRNEK 11 : keys() fonksiyonu ile sözlükteki değişiklikleri görelim.\n",
    "car = {\n",
    "\"brand\": \"Ford\",\n",
    "\"model\": \"Mustang\",\n",
    "\"year\": 1964\n",
    "}\n",
    " \n",
    "x = car.keys() # keys() fonksiyonu ile anahtarları alır.\n",
    "\n",
    "print(x) # değişiklik yapılmadan önce\n",
    "\n",
    "car[\"color\"] = \"white\"\n",
    "\n",
    "print(x) # değişiklik yapıldıktan sonra"
   ]
  },
  {
   "cell_type": "code",
   "execution_count": 87,
   "metadata": {},
   "outputs": [
    {
     "name": "stdout",
     "output_type": "stream",
     "text": [
      "dict_values(['Ford', 'Mustang', 1964])\n"
     ]
    }
   ],
   "source": [
    "# values() fonksiyonu ile sözlükteki değerleri yazdıralabiliriz.\n",
    "\n",
    "# ÖRNEK 12 : values() fonksiyonu ile sözlükteki değerleri yazdıralım.\n",
    "thisdict = {\n",
    "  \"brand\": \"Ford\",\n",
    "  \"model\": \"Mustang\",\n",
    "  \"year\": 1964\n",
    "}\n",
    "x = thisdict.values() # values() fonksiyonu ile değerleri alır.\n",
    "print(x)\n",
    "# NOT : Değerler listesi sözlüğün bir görünümüdür , yani sözlükte yapılan herhangi bir değişiklik değerler listesine yansıyacaktır."
   ]
  },
  {
   "cell_type": "code",
   "execution_count": 88,
   "metadata": {},
   "outputs": [
    {
     "name": "stdout",
     "output_type": "stream",
     "text": [
      "dict_values(['Ford', 'Mustang', 1964])\n",
      "dict_values(['Ford', 'Mustang', 2020])\n"
     ]
    }
   ],
   "source": [
    "# NOT : values() fonksiyonu, sözlükteki değerleri dinamik olarak alır. Yani, sözlükte yapılan değişiklikler, values() fonksiyonu ile alınan değerlerde değişiklik yapar.\n",
    "\n",
    "# ÖRNEK 13 : values() fonksiyonu ile sözlükteki değişiklikleri görelim.\n",
    "car = {\n",
    "\"brand\": \"Ford\",\n",
    "\"model\": \"Mustang\",\n",
    "\"year\": 1964\n",
    "}\n",
    "\n",
    "x = car.values()\n",
    "\n",
    "print(x) # değişiklik yapılmadan önce\n",
    "\n",
    "car[\"year\"] = 2020\n",
    "\n",
    "print(x) # değişiklik yapıldıktan sonra"
   ]
  },
  {
   "cell_type": "code",
   "execution_count": 90,
   "metadata": {},
   "outputs": [
    {
     "name": "stdout",
     "output_type": "stream",
     "text": [
      "dict_values(['Ford', 'Mustang', 1964])\n",
      "dict_values(['Ford', 'Mustang', 1964, 'red'])\n"
     ]
    }
   ],
   "source": [
    "# MRNEK 14 : values() fonksiyonu ile sözlükteki değişiklikleri görelim.\n",
    "car = {\n",
    "\"brand\": \"Ford\",\n",
    "\"model\": \"Mustang\",\n",
    "\"year\": 1964\n",
    "}\n",
    "\n",
    "x = car.values()\n",
    "\n",
    "print(x) # değişiklik yapılmadan önce\n",
    "\n",
    "car[\"color\"] = \"red\"\n",
    "\n",
    "print(x) # değişiklik yapıldıktan sonra"
   ]
  },
  {
   "cell_type": "markdown",
   "metadata": {},
   "source": [
    "#### Sözlük Öğelerine Erişim"
   ]
  },
  {
   "cell_type": "code",
   "execution_count": 93,
   "metadata": {},
   "outputs": [
    {
     "name": "stdout",
     "output_type": "stream",
     "text": [
      "dict_items([('brand', 'Ford'), ('model', 'Mustang'), ('year', 1964)])\n"
     ]
    }
   ],
   "source": [
    "# items() fonksiyonu ile sözlükteki anahtar ve değerleri yazdıralabiliriz.\n",
    "\n",
    "# ÖRNEK 15 : items() fonksiyonu ile sözlükteki anahtar ve değerleri yazdıralım.\n",
    "car = {\n",
    "\"brand\": \"Ford\",\n",
    "\"model\": \"Mustang\",\n",
    "\"year\": 1964\n",
    "}\n",
    "\n",
    "x = thisdict.items()\n",
    "print(x)"
   ]
  },
  {
   "cell_type": "code",
   "execution_count": 95,
   "metadata": {},
   "outputs": [
    {
     "name": "stdout",
     "output_type": "stream",
     "text": [
      "dict_items([('brand', 'Ford'), ('model', 'Mustang'), ('year', 1964)])\n",
      "dict_items([('brand', 'Ford'), ('model', 'Mustang'), ('year', 2020)])\n"
     ]
    }
   ],
   "source": [
    "# NOT : Döndürülen liste, sözlüğün öğelerinin bir görünümüdür ; yani sözlükte yapılan herhangi bir değişiklik, öğeler listesine yansıtılacaktır.\n",
    "\n",
    "# ÖRNEK 16 : items() fonksiyonu ile sözlükteki değişiklikleri görelim.\n",
    "car = {\n",
    "\"brand\": \"Ford\",\n",
    "\"model\": \"Mustang\",\n",
    "\"year\": 1964\n",
    "}\n",
    "\n",
    "x = car.items()\n",
    "\n",
    "print(x) # değişiklik yapılmadan önce\n",
    "\n",
    "car[\"year\"] = 2020\n",
    "\n",
    "print(x) # değişiklik yapıldıktan sonra"
   ]
  },
  {
   "cell_type": "code",
   "execution_count": 96,
   "metadata": {},
   "outputs": [
    {
     "name": "stdout",
     "output_type": "stream",
     "text": [
      "dict_items([('brand', 'Ford'), ('model', 'Mustang'), ('year', 1964)])\n",
      "dict_items([('brand', 'Ford'), ('model', 'Mustang'), ('year', 1964), ('color', 'red')])\n"
     ]
    }
   ],
   "source": [
    "# ÖRNEK 17 : items() fonksiyonu ile sözlükteki değişiklikleri görelim.\n",
    "car = {\n",
    "\"brand\": \"Ford\",\n",
    "\"model\": \"Mustang\",\n",
    "\"year\": 1964\n",
    "}\n",
    "\n",
    "x = car.items()\n",
    "\n",
    "print(x) # değişiklik yapılmadan önce \n",
    "\n",
    "car[\"color\"] = \"red\"\n",
    "\n",
    "print(x) # değişiklik yapıldıktan sonra"
   ]
  },
  {
   "cell_type": "markdown",
   "metadata": {},
   "source": [
    "#### Sözlük İçinde Değer Sorgulama\n",
    "Belirli bir anahtarın bir sözlükte mevcut olup olmadığını belirlemek için şu inanahtar sözcüğü kullanın:"
   ]
  },
  {
   "cell_type": "code",
   "execution_count": 76,
   "metadata": {},
   "outputs": [
    {
     "name": "stdout",
     "output_type": "stream",
     "text": [
      "Yes, 'model' is one of the keys in the thisdict dictionary\n"
     ]
    }
   ],
   "source": [
    "# ÖRNEK 18 : \" model \" kelimemiz var mı yok mu kontrol edelim.\n",
    "\n",
    "thisdict = {\n",
    "  \"brand\": \"Ford\",\n",
    "  \"model\": \"Mustang\",\n",
    "  \"year\": 1964\n",
    "}\n",
    "if \"model\" in thisdict: # \"model\" kelimesi thisdict sözlüğünde var mı yok mu kontrol eder.\n",
    "  print(\"Yes, 'model' is one of the keys in the thisdict dictionary\")"
   ]
  },
  {
   "cell_type": "markdown",
   "metadata": {},
   "source": [
    "#### Sözlük Öğelerini Değiştirme"
   ]
  },
  {
   "cell_type": "code",
   "execution_count": 98,
   "metadata": {},
   "outputs": [
    {
     "name": "stdout",
     "output_type": "stream",
     "text": [
      "{'brand': 'Ford', 'model': 'Mustang', 'year': 2018}\n"
     ]
    }
   ],
   "source": [
    "# NOT : Sözlükte bir değeri değiştirmek için, anahtar adını kullanarak yeni bir değer atayabiliriz.\n",
    "\n",
    "# ÖRNEK 19 : \"year\" değerini değiştirelim.\n",
    "thisdict = {\n",
    "  \"brand\": \"Ford\",\n",
    "  \"model\": \"Mustang\",\n",
    "  \"year\": 1964\n",
    "}\n",
    "thisdict[\"year\"] = 2018\n",
    "print(thisdict)"
   ]
  },
  {
   "cell_type": "code",
   "execution_count": 99,
   "metadata": {},
   "outputs": [],
   "source": [
    "# update() fonksiyonu ile sözlükteki değerleri güncelleyebiliriz.\n",
    "\n",
    "# ÖRNEK 20 : update() fonksiyonu ile \"year\" değerini güncelleyelim.\n",
    "thisdict = {\n",
    "  \"brand\": \"Ford\",\n",
    "  \"model\": \"Mustang\",\n",
    "  \"year\": 1964\n",
    "}\n",
    "thisdict.update({\"year\": 2020})"
   ]
  },
  {
   "cell_type": "markdown",
   "metadata": {},
   "source": [
    "#### Sözlüğe Öğe Ekleme"
   ]
  },
  {
   "cell_type": "code",
   "execution_count": 100,
   "metadata": {},
   "outputs": [
    {
     "name": "stdout",
     "output_type": "stream",
     "text": [
      "{'brand': 'Ford', 'model': 'Mustang', 'year': 1964, 'color': 'red'}\n"
     ]
    }
   ],
   "source": [
    "# NOT : Sözlüğe yeni bir öğe eklemek için, yeni bir anahtar adı kullanarak yeni bir değer atayabiliriz.\n",
    "\n",
    "# ÖRNEK 21 : \"color\" değerini ekleyelim.\n",
    "thisdict = {\n",
    "  \"brand\": \"Ford\",\n",
    "  \"model\": \"Mustang\",\n",
    "  \"year\": 1964\n",
    "}\n",
    "thisdict[\"color\"] = \"red\"\n",
    "print(thisdict)"
   ]
  },
  {
   "cell_type": "markdown",
   "metadata": {},
   "source": [
    "#### Sözlükte Öğe Kaldırma"
   ]
  },
  {
   "cell_type": "code",
   "execution_count": 101,
   "metadata": {},
   "outputs": [
    {
     "name": "stdout",
     "output_type": "stream",
     "text": [
      "{'brand': 'Ford', 'year': 1964}\n"
     ]
    }
   ],
   "source": [
    "# pop() fonksiyonu ile belirtilen anahtarı kaldırabiliriz.\n",
    "\n",
    "# ÖRNEK 22 : pop() fonksiyonu ile \"model\" anahtarını kaldıralım.\n",
    "thisdict = {\n",
    "  \"brand\": \"Ford\",\n",
    "  \"model\": \"Mustang\",\n",
    "  \"year\": 1964\n",
    "}\n",
    "thisdict.pop(\"model\")\n",
    "print(thisdict)\n"
   ]
  },
  {
   "cell_type": "code",
   "execution_count": 102,
   "metadata": {},
   "outputs": [
    {
     "name": "stdout",
     "output_type": "stream",
     "text": [
      "{'brand': 'Ford', 'model': 'Mustang'}\n"
     ]
    }
   ],
   "source": [
    "# popitem() fonksiyonu ile son anahtarı kaldırabiliriz.\n",
    "\n",
    "# ÖRNEK 23 : popitem() fonksiyonu ile son anahtarı kaldıralım.\n",
    "thisdict = {\n",
    "  \"brand\": \"Ford\",\n",
    "  \"model\": \"Mustang\",\n",
    "  \"year\": 1964\n",
    "}\n",
    "thisdict.popitem()\n",
    "print(thisdict)"
   ]
  },
  {
   "cell_type": "code",
   "execution_count": 103,
   "metadata": {},
   "outputs": [
    {
     "name": "stdout",
     "output_type": "stream",
     "text": [
      "{'brand': 'Ford', 'year': 1964}\n"
     ]
    }
   ],
   "source": [
    "# del anahtar_kelime ile belirtilen anahtarı kaldırabiliriz.\n",
    "\n",
    "# ÖRNEK 24 : del anahtar_kelime ile \"model\" anahtarını kaldıralım.\n",
    "thisdict = {\n",
    "  \"brand\": \"Ford\",\n",
    "  \"model\": \"Mustang\",\n",
    "  \"year\": 1964\n",
    "}\n",
    "del thisdict[\"model\"]\n",
    "print(thisdict)"
   ]
  },
  {
   "cell_type": "code",
   "execution_count": 104,
   "metadata": {},
   "outputs": [
    {
     "ename": "NameError",
     "evalue": "name 'thisdict' is not defined",
     "output_type": "error",
     "traceback": [
      "\u001b[1;31m---------------------------------------------------------------------------\u001b[0m",
      "\u001b[1;31mNameError\u001b[0m                                 Traceback (most recent call last)",
      "Cell \u001b[1;32mIn[104], line 10\u001b[0m\n\u001b[0;32m      4\u001b[0m thisdict \u001b[38;5;241m=\u001b[39m {\n\u001b[0;32m      5\u001b[0m   \u001b[38;5;124m\"\u001b[39m\u001b[38;5;124mbrand\u001b[39m\u001b[38;5;124m\"\u001b[39m: \u001b[38;5;124m\"\u001b[39m\u001b[38;5;124mFord\u001b[39m\u001b[38;5;124m\"\u001b[39m,\n\u001b[0;32m      6\u001b[0m   \u001b[38;5;124m\"\u001b[39m\u001b[38;5;124mmodel\u001b[39m\u001b[38;5;124m\"\u001b[39m: \u001b[38;5;124m\"\u001b[39m\u001b[38;5;124mMustang\u001b[39m\u001b[38;5;124m\"\u001b[39m,\n\u001b[0;32m      7\u001b[0m   \u001b[38;5;124m\"\u001b[39m\u001b[38;5;124myear\u001b[39m\u001b[38;5;124m\"\u001b[39m: \u001b[38;5;241m1964\u001b[39m\n\u001b[0;32m      8\u001b[0m }\n\u001b[0;32m      9\u001b[0m \u001b[38;5;28;01mdel\u001b[39;00m thisdict\n\u001b[1;32m---> 10\u001b[0m \u001b[38;5;28mprint\u001b[39m(\u001b[43mthisdict\u001b[49m) \u001b[38;5;66;03m# Hata verir.\u001b[39;00m\n",
      "\u001b[1;31mNameError\u001b[0m: name 'thisdict' is not defined"
     ]
    }
   ],
   "source": [
    "# NOT : del anahtar_kelime ile sözlüğü tamamen silebiliriz.\n",
    "\n",
    "# ÖRNEK 25 : del anahtar_kelime ile sözlüğü silme.\n",
    "thisdict = {\n",
    "  \"brand\": \"Ford\",\n",
    "  \"model\": \"Mustang\",\n",
    "  \"year\": 1964\n",
    "}\n",
    "del thisdict\n",
    "print(thisdict) # Hata verir."
   ]
  },
  {
   "cell_type": "code",
   "execution_count": 105,
   "metadata": {},
   "outputs": [
    {
     "name": "stdout",
     "output_type": "stream",
     "text": [
      "{}\n"
     ]
    }
   ],
   "source": [
    "# clear() fonksiyonu ile sözlüğü temizleyebiliriz.\n",
    "\n",
    "# ÖRNEK 26 : clear() fonksiyonu ile sözlüğü temizleyelim.\n",
    "thisdict = {\n",
    "  \"brand\": \"Ford\",\n",
    "  \"model\": \"Mustang\",\n",
    "  \"year\": 1964\n",
    "}\n",
    "thisdict.clear()\n",
    "print(thisdict)"
   ]
  },
  {
   "cell_type": "markdown",
   "metadata": {},
   "source": [
    "#### Sözlüklerde Döngü Kullanımı\n",
    "Bir sözlükte \" for \" döngüsü kullanarak dolaşabilirsiniz.Bir sözlükte döngü yapıldığında, geri dönüş değeri sözlüğün anahtarlarıdır , ancak değerleri döndürmek için de yöntemler vardır."
   ]
  },
  {
   "cell_type": "code",
   "execution_count": 107,
   "metadata": {},
   "outputs": [
    {
     "name": "stdout",
     "output_type": "stream",
     "text": [
      "brand\n",
      "model\n",
      "year\n"
     ]
    }
   ],
   "source": [
    "# ÖRNEK 27 : Sözlük içinde döngü oluşturalım. Sözlükteki anahtarları yazdıralım.\n",
    "thisdict = {\n",
    "  \"brand\": \"Ford\",\n",
    "  \"model\": \"Mustang\",\n",
    "  \"year\": 1964\n",
    "}\n",
    "for x in thisdict:\n",
    "  print(x)\n"
   ]
  },
  {
   "cell_type": "code",
   "execution_count": 108,
   "metadata": {},
   "outputs": [
    {
     "name": "stdout",
     "output_type": "stream",
     "text": [
      "Ford\n",
      "Mustang\n",
      "1964\n"
     ]
    }
   ],
   "source": [
    "# ÖRNEK 28 : Sözlük içinde döngü oluşturalım. Sözlükteki değerleri yazdıralım.\n",
    "\n",
    "for x in thisdict:\n",
    "  print(thisdict[x])"
   ]
  },
  {
   "cell_type": "code",
   "execution_count": 109,
   "metadata": {},
   "outputs": [
    {
     "name": "stdout",
     "output_type": "stream",
     "text": [
      "Ford\n",
      "Mustang\n",
      "1964\n"
     ]
    }
   ],
   "source": [
    "# .values() fonksiyonu ile sözlükteki değerleri yazdıralım.\n",
    "\n",
    "# ÖRNEK 29 : .values() fonksiyonu ile sözlükteki değerleri yazdıralım.\n",
    "for x in thisdict.values():\n",
    "  print(x)\n"
   ]
  },
  {
   "cell_type": "code",
   "execution_count": 111,
   "metadata": {},
   "outputs": [
    {
     "name": "stdout",
     "output_type": "stream",
     "text": [
      "brand\n",
      "model\n",
      "year\n"
     ]
    }
   ],
   "source": [
    "# .keys() fonksiyonu ile sözlükteki anahtarları yazdıralım.\n",
    "\n",
    "# ÖRNEK 30 : .keys() fonksiyonu ile sözlükteki anahtarları yazdıralım.\n",
    "for x in thisdict.keys():\n",
    "  print(x)\n"
   ]
  },
  {
   "cell_type": "code",
   "execution_count": 112,
   "metadata": {},
   "outputs": [
    {
     "name": "stdout",
     "output_type": "stream",
     "text": [
      "brand Ford\n",
      "model Mustang\n",
      "year 1964\n"
     ]
    }
   ],
   "source": [
    "# .items() fonksiyonu ile sözlükteki anahtar ve değerleri yazdıralım.\n",
    "\n",
    "# ÖRNEK 31 : .items() fonksiyonu ile sözlükteki anahtar ve değerleri yazdıralım.\n",
    "for x, y in thisdict.items():\n",
    "  print(x, y)"
   ]
  },
  {
   "cell_type": "markdown",
   "metadata": {},
   "source": [
    "#### Sözlükleri Kopyalama\n"
   ]
  },
  {
   "cell_type": "code",
   "execution_count": 114,
   "metadata": {},
   "outputs": [
    {
     "name": "stdout",
     "output_type": "stream",
     "text": [
      "{'brand': 'Ford', 'model': 'Mustang', 'year': 1964}\n"
     ]
    }
   ],
   "source": [
    "# copy() fonksiyonu ile sözlüğü kopyalayabiliriz.\n",
    "\n",
    "# ÖRNEK 32 : copy() fonksiyonu ile sözlüğü kopyalayalım.\n",
    "thisdict = {\n",
    "  \"brand\": \"Ford\",\n",
    "  \"model\": \"Mustang\",\n",
    "  \"year\": 1964\n",
    "}\n",
    "mydict = thisdict.copy()\n",
    "print(mydict)\n"
   ]
  },
  {
   "cell_type": "code",
   "execution_count": 115,
   "metadata": {},
   "outputs": [
    {
     "name": "stdout",
     "output_type": "stream",
     "text": [
      "{'brand': 'Ford', 'model': 'Mustang', 'year': 1964}\n"
     ]
    }
   ],
   "source": [
    "# dict() fonksiyonu ile sözlüğü kopyalayabiliriz.\n",
    "\n",
    "# ÖRNEK 33 : dict() fonksiyonu ile sözlüğü kopyalayalım.\n",
    "thisdict = {\n",
    "  \"brand\": \"Ford\",\n",
    "  \"model\": \"Mustang\",\n",
    "  \"year\": 1964\n",
    "}\n",
    "mydict = dict(thisdict)\n",
    "print(mydict)"
   ]
  },
  {
   "cell_type": "markdown",
   "metadata": {},
   "source": [
    "#### İç İçe Sözlükler\n",
    "Bir sözlük, sözlükleri içerebilir, buna iç içe sözlükler denir."
   ]
  },
  {
   "cell_type": "code",
   "execution_count": 117,
   "metadata": {},
   "outputs": [
    {
     "name": "stdout",
     "output_type": "stream",
     "text": [
      "{'child1': {'name': 'Emil', 'year': 2004}, 'child2': {'name': 'Tobias', 'year': 2007}, 'child3': {'name': 'Linus', 'year': 2011}}\n"
     ]
    }
   ],
   "source": [
    "# ÖRNEK 34 : İç içe sözlük oluşturalım.\n",
    "\n",
    "myfamily = {\n",
    "  \"child1\" : {\n",
    "    \"name\" : \"Emil\",\n",
    "    \"year\" : 2004\n",
    "  },\n",
    "  \"child2\" : {\n",
    "    \"name\" : \"Tobias\",\n",
    "    \"year\" : 2007\n",
    "  },\n",
    "  \"child3\" : {\n",
    "    \"name\" : \"Linus\",\n",
    "    \"year\" : 2011\n",
    "  }\n",
    "}\n",
    "\n",
    "print(myfamily)"
   ]
  },
  {
   "cell_type": "code",
   "execution_count": 118,
   "metadata": {},
   "outputs": [],
   "source": [
    "# ÖRNEK 35 : İç içe sözlük oluşturalım. En kapsamlı sözlüğün değerleri ayrı ayrı sözlükler yapılarak , en kapsamlı sözlüğe eklenir.\n",
    "\n",
    "child1 = {\n",
    "  \"name\" : \"Emil\",\n",
    "  \"year\" : 2004\n",
    "}\n",
    "child2 = {\n",
    "  \"name\" : \"Tobias\",\n",
    "  \"year\" : 2007\n",
    "}\n",
    "child3 = {\n",
    "  \"name\" : \"Linus\",\n",
    "  \"year\" : 2011\n",
    "}\n",
    "\n",
    "myfamily = {\n",
    "  \"child1\" : child1,\n",
    "  \"child2\" : child2,\n",
    "  \"child3\" : child3\n",
    "}"
   ]
  },
  {
   "cell_type": "markdown",
   "metadata": {},
   "source": [
    "#### İç İçe Sözlüklerdeki Öğelere Erişim\n",
    "İç içe sözlükteki öğelere erişmek için, dış sözlükten başlayarak sözlüklerin adını kullanırsınız:"
   ]
  },
  {
   "cell_type": "code",
   "execution_count": 119,
   "metadata": {},
   "outputs": [
    {
     "name": "stdout",
     "output_type": "stream",
     "text": [
      "Tobias\n"
     ]
    }
   ],
   "source": [
    "# ÖRNEK 36 : 2. çocuğun adını yazdıralım.\n",
    "print(myfamily[\"child2\"][\"name\"])"
   ]
  },
  {
   "cell_type": "markdown",
   "metadata": {},
   "source": [
    "#### İç içe geçmiş sözlüklerde döngü"
   ]
  },
  {
   "cell_type": "code",
   "execution_count": 120,
   "metadata": {},
   "outputs": [
    {
     "name": "stdout",
     "output_type": "stream",
     "text": [
      "child1\n",
      "name: Emil\n",
      "year: 2004\n",
      "child2\n",
      "name: Tobias\n",
      "year: 2007\n",
      "child3\n",
      "name: Linus\n",
      "year: 2011\n"
     ]
    }
   ],
   "source": [
    "# ÖRNEK 37 : İç içe geçmiş sözlüklerde döngü oluşturalım.\n",
    "\n",
    "for x, obj in myfamily.items():\n",
    "  print(x)\n",
    "\n",
    "  for y in obj:\n",
    "    print(y + ':', obj[y])"
   ]
  },
  {
   "cell_type": "markdown",
   "metadata": {},
   "source": [
    "#### Python Sözlük Yöntemleri\n",
    "\n",
    "1)  clear()\t    ----->  Sözlükteki tüm öğeleri kaldırır\n",
    "2)  copy()\t    ----->  Sözlüğün bir kopyasını döndürür\n",
    "3)  fromkeys()\t----->  Belirtilen anahtarlara ve değere sahip bir sözlük döndürür\n",
    "4)  get()\t    ----->  Belirtilen anahtarın değerini döndürür\n",
    "5)  items()\t    ----->  Her anahtar değer çifti için bir tanımlama grubu içeren bir liste döndürür\n",
    "6)  keys()\t    ----->  Sözlüğün anahtarlarını içeren bir liste döndürür\n",
    "7)  pop()\t    ----->  Belirtilen anahtara sahip öğeyi kaldırır\n",
    "8)  popitem()\t----->  Son eklenen anahtar/değer çiftini kaldırır\n",
    "9)  setdefault()----->  Belirtilen anahtarın değerini döndürür. Anahtar mevcut değilse: belirtilen değere sahip anahtarı girin\n",
    "10) update()\t----->  Sözlüğü belirtilen anahtar/değer çiftleriyle günceller\n",
    "11) values()\t----->  Sözlükteki tüm değerlerin listesini döndürür"
   ]
  }
 ],
 "metadata": {
  "kernelspec": {
   "display_name": "Python 3",
   "language": "python",
   "name": "python3"
  },
  "language_info": {
   "codemirror_mode": {
    "name": "ipython",
    "version": 3
   },
   "file_extension": ".py",
   "mimetype": "text/x-python",
   "name": "python",
   "nbconvert_exporter": "python",
   "pygments_lexer": "ipython3",
   "version": "3.11.4"
  }
 },
 "nbformat": 4,
 "nbformat_minor": 2
}
